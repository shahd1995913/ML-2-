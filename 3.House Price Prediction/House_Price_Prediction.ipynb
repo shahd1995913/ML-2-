{
  "nbformat": 4,
  "nbformat_minor": 0,
  "metadata": {
    "colab": {
      "name": "House Price Prediction.ipynb",
      "private_outputs": true,
      "provenance": [],
      "authorship_tag": "ABX9TyOzNzsHF/PYycT+UsNO7Rh+",
      "include_colab_link": true
    },
    "kernelspec": {
      "name": "python3",
      "display_name": "Python 3"
    },
    "language_info": {
      "name": "python"
    }
  },
  "cells": [
    {
      "cell_type": "markdown",
      "metadata": {
        "id": "view-in-github",
        "colab_type": "text"
      },
      "source": [
        "<a href=\"https://colab.research.google.com/github/shahd1995913/Machine-Learning/blob/main/3.House%20Price%20Prediction/House_Price_Prediction.ipynb\" target=\"_parent\"><img src=\"https://colab.research.google.com/assets/colab-badge.svg\" alt=\"Open In Colab\"/></a>"
      ]
    },
    {
      "cell_type": "code",
      "execution_count": null,
      "metadata": {
        "id": "9fpKJDHV8NGj"
      },
      "outputs": [],
      "source": [
        "import pandas as pd \n",
        "df = pd.read_csv(\"/content/train.csv\")\n",
        "df"
      ]
    },
    {
      "cell_type": "code",
      "source": [
        "df.isnull()"
      ],
      "metadata": {
        "id": "qy44hWIV9Xj3"
      },
      "execution_count": null,
      "outputs": []
    },
    {
      "cell_type": "code",
      "source": [
        "df[\"MiscFeature\"].isnull().sum()"
      ],
      "metadata": {
        "id": "GrDYqJyv-qBq"
      },
      "execution_count": null,
      "outputs": []
    },
    {
      "cell_type": "code",
      "source": [
        "df[\"Fence\"].isnull().sum()"
      ],
      "metadata": {
        "id": "Ka-63pFk_Dj1"
      },
      "execution_count": null,
      "outputs": []
    },
    {
      "cell_type": "code",
      "source": [
        "df[\"PoolQC\"].isnull().sum()"
      ],
      "metadata": {
        "id": "jDNBJvdx_DmI"
      },
      "execution_count": null,
      "outputs": []
    },
    {
      "cell_type": "code",
      "source": [
        "df[\"LotFrontage\"].isnull().sum()"
      ],
      "metadata": {
        "id": "naVJLqw99pyY"
      },
      "execution_count": null,
      "outputs": []
    },
    {
      "cell_type": "code",
      "source": [
        "df[\"GarageQual\"].isnull().sum()"
      ],
      "metadata": {
        "id": "gmdOxhl7_mHm"
      },
      "execution_count": null,
      "outputs": []
    },
    {
      "cell_type": "code",
      "source": [
        "df[\"GarageCond\"].isnull().sum()"
      ],
      "metadata": {
        "id": "gFv0drSj_mKI"
      },
      "execution_count": null,
      "outputs": []
    },
    {
      "cell_type": "code",
      "source": [
        "df[\"GarageFinish\"].isnull().sum()"
      ],
      "metadata": {
        "id": "kws700Ut_4aJ"
      },
      "execution_count": null,
      "outputs": []
    },
    {
      "cell_type": "code",
      "source": [
        "df[\"GarageType\"].isnull().sum()"
      ],
      "metadata": {
        "id": "cantCkag_4ct"
      },
      "execution_count": null,
      "outputs": []
    },
    {
      "cell_type": "code",
      "source": [
        "df[\"GarageYrBlt\"].isnull().sum()"
      ],
      "metadata": {
        "id": "-Oms4-mJ_4fX"
      },
      "execution_count": null,
      "outputs": []
    },
    {
      "cell_type": "code",
      "source": [
        "df[\"GarageType\"].isnull().sum()"
      ],
      "metadata": {
        "id": "TC03ff8O_4h_"
      },
      "execution_count": null,
      "outputs": []
    },
    {
      "cell_type": "code",
      "source": [
        "df[\"FireplaceQu\"].isnull().sum()"
      ],
      "metadata": {
        "id": "l_j4wnsJ_4kX"
      },
      "execution_count": null,
      "outputs": []
    },
    {
      "cell_type": "code",
      "source": [
        "df[\"Electrical\"].isnull().sum()"
      ],
      "metadata": {
        "id": "DFWAhU6EAcjQ"
      },
      "execution_count": null,
      "outputs": []
    },
    {
      "cell_type": "code",
      "source": [
        "df[\"BsmtFinType2\"].isnull().sum()"
      ],
      "metadata": {
        "id": "fv5Csx3wAclj"
      },
      "execution_count": null,
      "outputs": []
    },
    {
      "cell_type": "code",
      "source": [
        "df[\"BsmtFinType1\"].isnull().sum()"
      ],
      "metadata": {
        "id": "dpF3USBjAcn4"
      },
      "execution_count": null,
      "outputs": []
    },
    {
      "cell_type": "code",
      "source": [
        "df[\"BsmtExposure\"].isnull().sum()"
      ],
      "metadata": {
        "id": "k2B-3QQDAcqr"
      },
      "execution_count": null,
      "outputs": []
    },
    {
      "cell_type": "code",
      "source": [
        "df[\"BsmtCond\"].isnull().sum()"
      ],
      "metadata": {
        "id": "_LiwB8vkActN"
      },
      "execution_count": null,
      "outputs": []
    },
    {
      "cell_type": "code",
      "source": [
        "df[\"BsmtQual\"].isnull().sum()"
      ],
      "metadata": {
        "id": "4axkTHwPAcvu"
      },
      "execution_count": null,
      "outputs": []
    },
    {
      "cell_type": "code",
      "source": [
        "df[\"MasVnrArea\"].isnull().sum()"
      ],
      "metadata": {
        "id": "zvyZ1iuRAcyM"
      },
      "execution_count": null,
      "outputs": []
    },
    {
      "cell_type": "code",
      "source": [
        "df[\"MasVnrType\"].isnull().sum()"
      ],
      "metadata": {
        "id": "-59lBX-1Ac0c"
      },
      "execution_count": null,
      "outputs": []
    },
    {
      "cell_type": "code",
      "source": [
        "df[\"Alley\"].isnull().sum()"
      ],
      "metadata": {
        "id": "EyFt1G7kAc30"
      },
      "execution_count": null,
      "outputs": []
    },
    {
      "cell_type": "code",
      "source": [
        "df[\"LotFrontage\"].isnull().sum()"
      ],
      "metadata": {
        "id": "SVJHTyKZB6JS"
      },
      "execution_count": null,
      "outputs": []
    },
    {
      "cell_type": "code",
      "source": [
        "df.corr()"
      ],
      "metadata": {
        "id": "fvk-13IiGxDN"
      },
      "execution_count": null,
      "outputs": []
    },
    {
      "cell_type": "markdown",
      "source": [
        "# Corr check  \"Best Corr\"\n",
        "## 1. OverallQual   values  = 0.783674\n",
        "## 2.  GrLivArea   values  = 0.701180\n",
        "## 3.  GarageCars   values  = 0.640095\n",
        "## 4. GarageArea    values  = 0.620635\n",
        "## 5. TotalBsmtSF   values = 0.616670\n",
        "## 6. 1stFlrSF   values = 0.611215\n",
        "## 7. TotRmsAbvGrd   values  = 0.518649\n",
        "## 8. YearBuilt   values = 0.517947\n"
      ],
      "metadata": {
        "id": "Zzmk0Y_6HlOy"
      }
    },
    {
      "cell_type": "code",
      "source": [
        "# Check the Corr and Null values to the most carrolated  values to the class  \"SalePrice\"\n",
        "\n",
        "df[\"1stFlrSF\"].corr(df[\"SalePrice\"]) # 0.611215\n",
        "df[\"1stFlrSF\"].isnull().sum() # 0\n",
        "\n",
        "\n",
        "print(df[\"TotalBsmtSF\"].corr(df[\"SalePrice\"])) # 0.616669988006474\n",
        "print(df[\"TotalBsmtSF\"].isnull().sum())# 0\n",
        "\n",
        "\n",
        "print(df[\"YearBuilt\"].corr(df[\"SalePrice\"])) # 0.5179474462222684\n",
        "print(df[\"YearBuilt\"].isnull().sum())# 0\n",
        "\n",
        "print(df[\"OverallQual\"].corr(df[\"SalePrice\"])) # 0.7836738389615258\n",
        "print(df[\"OverallQual\"].isnull().sum())# 0\n",
        "\n",
        "\n",
        "print(df[\"GrLivArea\"].corr(df[\"SalePrice\"])) # 0.7011800622427935\n",
        "print(df[\"GrLivArea\"].isnull().sum())# 0\n",
        "\n",
        "print(df[\"GarageCars\"].corr(df[\"SalePrice\"])) # 0.6400951287018765\n",
        "print(df[\"GarageCars\"].isnull().sum())# 0\n",
        "\n",
        "print(df[\"GarageArea\"].corr(df[\"SalePrice\"])) # 0.6206353066869483\n",
        "print(df[\"GarageArea\"].isnull().sum())# 0\n",
        "\n",
        "print(df[\"TotRmsAbvGrd\"].corr(df[\"SalePrice\"])) # 0.5186485017108163\n",
        "print(df[\"TotRmsAbvGrd\"].isnull().sum())# 0\n"
      ],
      "metadata": {
        "id": "FZoMr_vLB6PH"
      },
      "execution_count": null,
      "outputs": []
    },
    {
      "cell_type": "markdown",
      "source": [
        "# Worst Column Corr Must To delete\n",
        "## -  KitchenAbvGr  values = -0.139787\n",
        "## - YrSold  values = -0.026154\n",
        "## - MiscVal  values = -0.022538\n",
        "## - LowQualFinSF  values = -0.026607\n",
        "## - OverallCond  values = -0.083609\n",
        "## - EnclosedPorch  values = -0.122743\n",
        "## - 3SsnPorch  values = 0.049672\n",
        "## - BedroomAbvGr  values = 0.162816\n",
        "## - MoSold  values = 0.061657\n",
        "## - PoolArea  values =0.111399\n",
        "## - MSSubClass  values = -0.085846\n",
        "## - BsmtFinSF2  values = -0.019226\n",
        "## - Id        values = -0.005352\n",
        "## - BsmtHalfBath  values = -0.005802\n",
        "## - ScreenPorch        values = 0.129776\n",
        "\n",
        "\n",
        "\n",
        "\n",
        "\n"
      ],
      "metadata": {
        "id": "dG7MNwkIQ_Ua"
      }
    },
    {
      "cell_type": "code",
      "source": [
        "# Check the Corr and Null values to the worst carrolated  values to the class  \"SalePrice\"\n",
        "print(df[\"Id\"].corr(df[\"SalePrice\"])) # -0.00535203667430661\n",
        "print(df[\"Id\"].isnull().sum()) # 0\n",
        "print(df[\"BsmtFinSF2\"].corr(df[\"SalePrice\"])) # -0.019226120820543733\n",
        "print(df[\"BsmtFinSF2\"].isnull().sum())# 0\n",
        "print(df[\"MSSubClass\"].corr(df[\"SalePrice\"])) # -0.08584594205813033\n",
        "print(df[\"MSSubClass\"].isnull().sum())# 0\n",
        "print(df[\"PoolArea\"].corr(df[\"SalePrice\"])) # 0.11139855805879656\n",
        "print(df[\"PoolArea\"].isnull().sum())# 0\n",
        "print(df[\"MoSold\"].corr(df[\"SalePrice\"])) # 0.061657116813605035\n",
        "print(df[\"MoSold\"].isnull().sum())# 0\n",
        "print(df[\"BedroomAbvGr\"].corr(df[\"SalePrice\"])) # 0.1628158106205409\n",
        "print(df[\"BedroomAbvGr\"].isnull().sum())# 0\n",
        "print(df[\"3SsnPorch\"].corr(df[\"SalePrice\"])) # 0.04967228571112924\n",
        "print(df[\"3SsnPorch\"].isnull().sum())# 0\n",
        "print(df[\"EnclosedPorch\"].corr(df[\"SalePrice\"])) # -0.12274252173807458\n",
        "print(df[\"EnclosedPorch\"].isnull().sum())# 0\n",
        "# Check the Corr and Null values to the worst carrolated  values to the class  \"SalePrice\"\n",
        "print(df[\"OverallCond\"].corr(df[\"SalePrice\"])) # -0.08360940194890265\n",
        "print(df[\"OverallCond\"].isnull().sum())# 0\n",
        "print(df[\"LowQualFinSF\"].corr(df[\"SalePrice\"])) # -0.026606529157239784\n",
        "print(df[\"LowQualFinSF\"].isnull().sum())# 0\n",
        "print(df[\"MoSold\"].corr(df[\"SalePrice\"])) # 0.061657116813605035\n",
        "print(df[\"MoSold\"].isnull().sum())# 0\n",
        "print(df[\"MiscVal\"].corr(df[\"SalePrice\"])) # -0.02253813647537807\n",
        "print(df[\"MiscVal\"].isnull().sum())# 0\n",
        "print(df[\"YrSold\"].corr(df[\"SalePrice\"])) # -0.02615406390127347\n",
        "print(df[\"YrSold\"].isnull().sum())# 0\n",
        "print(df[\"KitchenAbvGr\"].corr(df[\"SalePrice\"])) # -0.1397867198291843\n",
        "print(df[\"KitchenAbvGr\"].isnull().sum())# 0"
      ],
      "metadata": {
        "id": "cMQe72jzTrDF"
      },
      "execution_count": null,
      "outputs": []
    },
    {
      "cell_type": "code",
      "source": [
        "## - BsmtHalfBath  values = -0.005802\n",
        "## - ScreenPorch        values = 0.129776\n",
        "print(df[\"BsmtHalfBath\"].corr(df[\"SalePrice\"])) # -0.005802296980607493\n",
        "print(df[\"BsmtHalfBath\"].isnull().sum())# 0\n",
        "print(df[\"ScreenPorch\"].corr(df[\"SalePrice\"])) # 0.1297761387025832\n",
        "print(df[\"ScreenPorch\"].isnull().sum())# 0"
      ],
      "metadata": {
        "id": "YqZktiXyXPWV"
      },
      "execution_count": null,
      "outputs": []
    },
    {
      "cell_type": "code",
      "source": [
        "# print(df[\"PoolQC\"].corr(df[\"SalePrice\"])) # -0.005802296980607493\n",
        "print(df[\"PoolQC\"].isnull().sum())# 0\n",
        "# print(df[\"MiscFeature\"].corr(df[\"SalePrice\"])) # 0.1297761387025832\n",
        "print(df[\"MiscFeature\"].isnull().sum())# 0\n",
        "# print(df[\"Alley\"].corr(df[\"SalePrice\"])) # 0.1297761387025832\n",
        "print(df[\"Alley\"].isnull().sum())# 0\n"
      ],
      "metadata": {
        "id": "C-4QfYRjZZZI"
      },
      "execution_count": null,
      "outputs": []
    },
    {
      "cell_type": "code",
      "source": [
        "df.shape"
      ],
      "metadata": {
        "id": "WCQmRqkOV1SG"
      },
      "execution_count": null,
      "outputs": []
    },
    {
      "cell_type": "markdown",
      "source": [
        "# Delete column the worst corr that will week the model"
      ],
      "metadata": {
        "id": "ieQntBB7VT-z"
      }
    },
    {
      "cell_type": "code",
      "source": [
        "del df['KitchenAbvGr']\n",
        "del df['Id']\n",
        "del df['BsmtFinSF2']\n",
        "del df['MSSubClass']\n",
        "del df['PoolArea']\n",
        "del df['MoSold']\n",
        "del df['BedroomAbvGr']\n",
        "del df['3SsnPorch']\n",
        "del df['EnclosedPorch']\n",
        "del df['MiscVal']\n",
        "del df['YrSold']\n",
        "del df['LowQualFinSF']\n",
        "del df['OverallCond']\n",
        "del df['ScreenPorch']\n",
        "del df['BsmtHalfBath']\n",
        "del df['PoolQC']\n",
        "del df['MiscFeature']\n",
        "del df['Alley']\n",
        "del df[\"Fence\"]\n",
        "df.shape"
      ],
      "metadata": {
        "id": "GunjXnjXVTbL"
      },
      "execution_count": null,
      "outputs": []
    },
    {
      "cell_type": "code",
      "source": [
        "df.shape"
      ],
      "metadata": {
        "id": "ssof8AIaY8Dn"
      },
      "execution_count": null,
      "outputs": []
    },
    {
      "cell_type": "markdown",
      "source": [
        "# Check the Corr again after delete the less corr column"
      ],
      "metadata": {
        "id": "0KMK74TJWttv"
      }
    },
    {
      "cell_type": "code",
      "source": [
        "df.corr()"
      ],
      "metadata": {
        "id": "NMJseWFHWtUt"
      },
      "execution_count": null,
      "outputs": []
    },
    {
      "cell_type": "markdown",
      "source": [
        "# Replace the Nan Value with mean"
      ],
      "metadata": {
        "id": "sw_fxkqnbGJm"
      }
    },
    {
      "cell_type": "code",
      "source": [
        "mode = df.mode()\n",
        "df = df.fillna(mode.iloc[0,:])\n",
        "\n",
        "df"
      ],
      "metadata": {
        "id": "GNz_s4BWW7G_"
      },
      "execution_count": null,
      "outputs": []
    },
    {
      "cell_type": "code",
      "source": [
        "df.corr()"
      ],
      "metadata": {
        "id": "Lip8Gbr5becU"
      },
      "execution_count": null,
      "outputs": []
    },
    {
      "cell_type": "code",
      "source": [
        "df"
      ],
      "metadata": {
        "id": "EWuLq5fHboYi"
      },
      "execution_count": null,
      "outputs": []
    },
    {
      "cell_type": "code",
      "source": [
        "df['LotShape'] = pd.factorize(df['LotShape'])[0]\n",
        "df.SaleCondition.value_counts()"
      ],
      "metadata": {
        "id": "uRp70-Rfb-9D"
      },
      "execution_count": null,
      "outputs": []
    },
    {
      "cell_type": "code",
      "source": [
        "df.SaleCondition.value_counts()"
      ],
      "metadata": {
        "id": "mpw9mvkScANA"
      },
      "execution_count": null,
      "outputs": []
    },
    {
      "cell_type": "code",
      "source": [
        "df['MSZoning'] = pd.factorize(df['MSZoning'])[0]\n",
        "df['PavedDrive'] = pd.factorize(df['PavedDrive'])[0]\n",
        "df['SaleType'] = pd.factorize(df['SaleType'])[0]\n",
        "df['SaleCondition'] = pd.factorize(df['SaleCondition'])[0]\n",
        "df['LandContour'] = pd.factorize(df['LandContour'])[0]\n",
        "df['LotConfig'] = pd.factorize(df['LotConfig'])[0]\n",
        "df['LotConfig'] = pd.factorize(df['LotConfig'])[0]\n",
        "df['GarageQual'] = pd.factorize(df['GarageQual'])[0]\n",
        "df['Neighborhood'] = pd.factorize(df['Neighborhood'])[0]\n",
        "df['LandSlope'] = pd.factorize(df['LandSlope'])[0]"
      ],
      "metadata": {
        "id": "oel_PKukcVdE"
      },
      "execution_count": null,
      "outputs": []
    },
    {
      "cell_type": "code",
      "source": [
        ""
      ],
      "metadata": {
        "id": "75ba6AEccVf3"
      },
      "execution_count": null,
      "outputs": []
    },
    {
      "cell_type": "code",
      "source": [
        ""
      ],
      "metadata": {
        "id": "N1Nk3viVcVja"
      },
      "execution_count": null,
      "outputs": []
    },
    {
      "cell_type": "code",
      "source": [
        "df['Street'] = pd.factorize(df['Street'])[0]\n",
        "del df['Street'] "
      ],
      "metadata": {
        "id": "zxyT-BR-b_7t"
      },
      "execution_count": null,
      "outputs": []
    },
    {
      "cell_type": "code",
      "source": [
        "del df[\"Utilities\"]"
      ],
      "metadata": {
        "id": "2rNkQtJ2cqKD"
      },
      "execution_count": null,
      "outputs": []
    },
    {
      "cell_type": "code",
      "source": [
        "df.corr()"
      ],
      "metadata": {
        "id": "q9dnCizIdjch"
      },
      "execution_count": null,
      "outputs": []
    },
    {
      "cell_type": "markdown",
      "source": [
        "# After convert the catogrcal data to nomrcal and replace the null values with mean -- Must to delete the following clounms\n",
        "\n",
        "# - SaleCondition   values 0.015784\n",
        "# -  SaleType  values  0.178944\n",
        "# -  PavedDrive  values-0.154417\n",
        "# -  GarageCond  values 0.014214\n",
        "# - GarageQual   values  0.116594\n",
        "# -  MSZoning  values -0.115737\n",
        "# -  LandContour  values  0.003410\n",
        "# -  LotConfig  values 0.113902\n",
        "# -  LandSlope  values 0.053588\n",
        "# - Neighborhood   values  -0.038470\n"
      ],
      "metadata": {
        "id": "ZvbDJIUUdoXC"
      }
    },
    {
      "cell_type": "code",
      "source": [
        "del df['Neighborhood']\n",
        "del df['LandSlope']\n",
        "del df['LotConfig']\n",
        "del df['LandContour']\n",
        "del df['MSZoning']\n",
        "del df['GarageQual']\n",
        "del df['GarageCond']\n",
        "del df['PavedDrive']\n",
        "del df['SaleType']\n",
        "del df['SaleCondition']\n",
        "\n",
        "df.shape"
      ],
      "metadata": {
        "id": "m_yuzCbmfNJ3"
      },
      "execution_count": null,
      "outputs": []
    },
    {
      "cell_type": "code",
      "source": [
        "df.corr()"
      ],
      "metadata": {
        "id": "jYAI3pU_fmz7"
      },
      "execution_count": null,
      "outputs": []
    },
    {
      "cell_type": "code",
      "source": [
        "df"
      ],
      "metadata": {
        "id": "TffQ1Z4_frab"
      },
      "execution_count": null,
      "outputs": []
    },
    {
      "cell_type": "code",
      "source": [
        "df.GarageFinish.value_counts()"
      ],
      "metadata": {
        "id": "X-Hti4q_f2mf"
      },
      "execution_count": null,
      "outputs": []
    },
    {
      "cell_type": "code",
      "source": [
        "df['GarageType'] = pd.factorize(df['GarageType'])[0]\n",
        "df['GarageFinish'] = pd.factorize(df['GarageFinish'])[0]\n",
        "df['Condition1'] = pd.factorize(df['Condition1'])[0]\n",
        "df['Condition2'] = pd.factorize(df['Condition2'])[0]\n",
        "df['BldgType'] = pd.factorize(df['BldgType'])[0]\n",
        "df['HouseStyle'] = pd.factorize(df['HouseStyle'])[0]\n",
        "df['FireplaceQu'] = pd.factorize(df['FireplaceQu'])[0]"
      ],
      "metadata": {
        "id": "au3-oe_cf4Bv"
      },
      "execution_count": null,
      "outputs": []
    },
    {
      "cell_type": "code",
      "source": [
        "df.corr()"
      ],
      "metadata": {
        "id": "Zf09gmewgewf"
      },
      "execution_count": null,
      "outputs": []
    },
    {
      "cell_type": "markdown",
      "source": [
        "# After Convert To numrical Data and replace with mean\n",
        "\n",
        "##- GarageFinish values = 0.157503\n",
        "##- GarageType values = -0.037386\n",
        "##- Condition1  values = -0.066182\n",
        "##- BldgType  values = -0.171687\n",
        "##-  Condition2 values = 0.002492\n",
        "##- HouseStyle  values = 0.016728\n"
      ],
      "metadata": {
        "id": "Q6ZNv4amghrx"
      }
    },
    {
      "cell_type": "code",
      "source": [
        "del df['HouseStyle']\n",
        "del df['Condition2']\n",
        "del df['BldgType']\n",
        "del df['Condition1']\n",
        "del df['GarageType']\n",
        "del df['GarageFinish']"
      ],
      "metadata": {
        "id": "-tbEkdgehobq"
      },
      "execution_count": null,
      "outputs": []
    },
    {
      "cell_type": "code",
      "source": [
        "df.corr()"
      ],
      "metadata": {
        "id": "xeHMnFh6h0W6"
      },
      "execution_count": null,
      "outputs": []
    },
    {
      "cell_type": "code",
      "source": [
        "df"
      ],
      "metadata": {
        "id": "C8cN4Cdhh46Q"
      },
      "execution_count": null,
      "outputs": []
    },
    {
      "cell_type": "code",
      "source": [
        "df.Functional.value_counts()"
      ],
      "metadata": {
        "id": "zyhET2r1iDjm"
      },
      "execution_count": null,
      "outputs": []
    },
    {
      "cell_type": "code",
      "source": [
        "df.Functional.value_counts()\n",
        "df['RoofStyle'] = pd.factorize(df['RoofStyle'])[0]\n",
        "df['RoofMatl'] = pd.factorize(df['RoofMatl'])[0]\n",
        "df['Exterior1st'] = pd.factorize(df['Exterior1st'])[0]\n",
        "df['Exterior2nd'] = pd.factorize(df['Exterior2nd'])[0]\n",
        "df['Functional'] = pd.factorize(df['Functional'])[0]"
      ],
      "metadata": {
        "id": "wzafoy1CiBrb"
      },
      "execution_count": null,
      "outputs": []
    },
    {
      "cell_type": "code",
      "source": [
        "df.corr()"
      ],
      "metadata": {
        "id": "sL-O1daoifTC"
      },
      "execution_count": null,
      "outputs": []
    },
    {
      "cell_type": "markdown",
      "source": [
        "# After convert the numracl data to catogrical and replce with mean\n",
        "# Worst value must to delete from the datafram\n",
        "## - Functional   values -0.104784\n",
        "## - Exterior2nd   values -0.095244\n",
        "## - Exterior1st   values -0.104784\n",
        "## - RoofMatl   values  0.059893\n",
        "## - RoofStyle   values  0.161096\n"
      ],
      "metadata": {
        "id": "JdNIOh8qiiJ2"
      }
    },
    {
      "cell_type": "code",
      "source": [
        "del df['Functional']\n",
        "del df['Exterior2nd']\n",
        "del df['RoofStyle']\n",
        "del df['RoofMatl']\n",
        "del df['Exterior1st']"
      ],
      "metadata": {
        "id": "C3aTOuCojk2f"
      },
      "execution_count": null,
      "outputs": []
    },
    {
      "cell_type": "code",
      "source": [
        "df.Heating.value_counts()"
      ],
      "metadata": {
        "id": "OIHjcr9JkEC3"
      },
      "execution_count": null,
      "outputs": []
    },
    {
      "cell_type": "code",
      "source": [
        "df['MasVnrType'] = pd.factorize(df['MasVnrType'])[0]\n",
        "df['ExterQual'] = pd.factorize(df['ExterQual'])[0]\n",
        "df['ExterCond'] = pd.factorize(df['ExterCond'])[0]\n",
        "df['KitchenQual'] = pd.factorize(df['KitchenQual'])[0]\n",
        "# df['Functional'] = pd.factorize(df['Functional'])[0]\n",
        "df.Heating.value_counts()\n",
        "df['BsmtQual'] = pd.factorize(df['BsmtQual'])[0]\n",
        "df['Foundation'] = pd.factorize(df['Foundation'])[0]\n",
        "df['Heating'] = pd.factorize(df['Heating'])[0]\n",
        "df['BsmtExposure'] = pd.factorize(df['BsmtExposure'])[0]\n",
        "df['BsmtCond'] = pd.factorize(df['BsmtCond'])[0]\n",
        "df['BsmtFinSF1'] = pd.factorize(df['BsmtFinSF1'])[0]\n",
        "df['BsmtFinType2'] = pd.factorize(df['BsmtFinType2'])[0]\n",
        "\t"
      ],
      "metadata": {
        "id": "xSMMzLjqkAU5"
      },
      "execution_count": null,
      "outputs": []
    },
    {
      "cell_type": "code",
      "source": [
        "df.BsmtFinSF1.value_counts()"
      ],
      "metadata": {
        "id": "w4MxIjz3k_w-"
      },
      "execution_count": null,
      "outputs": []
    },
    {
      "cell_type": "code",
      "source": [
        "df"
      ],
      "metadata": {
        "id": "Dqc_2dSqj3Ft"
      },
      "execution_count": null,
      "outputs": []
    },
    {
      "cell_type": "code",
      "source": [
        "df.corr()"
      ],
      "metadata": {
        "id": "uJu6XcmCnEJL"
      },
      "execution_count": null,
      "outputs": []
    },
    {
      "cell_type": "code",
      "source": [
        "del df[\"Heating\"]\n",
        "del df[\"ExterCond\"]\n",
        "del df[\"Foundation\"]\n",
        "del df[\"BsmtCond\"]\n",
        "del df[\"BsmtFinType2\"]\n",
        "del df[\"BsmtExposure\"]"
      ],
      "metadata": {
        "id": "Tw_cS7xdnIgP"
      },
      "execution_count": null,
      "outputs": []
    },
    {
      "cell_type": "code",
      "source": [
        "df.BsmtFinType1.value_counts()"
      ],
      "metadata": {
        "id": "UNX9oN71n900"
      },
      "execution_count": null,
      "outputs": []
    },
    {
      "cell_type": "code",
      "source": [
        "df['BsmtFinType1'] = pd.factorize(df['BsmtFinType1'])[0]\n",
        "df['Electrical'] = pd.factorize(df['Electrical'])[0]\n",
        "df['HeatingQC'] = pd.factorize(df['HeatingQC'])[0]\n",
        "df['CentralAir'] = pd.factorize(df['CentralAir'])[0]\n"
      ],
      "metadata": {
        "id": "0lbPIT2on8iO"
      },
      "execution_count": null,
      "outputs": []
    },
    {
      "cell_type": "code",
      "source": [
        "df"
      ],
      "metadata": {
        "id": "1cvgLa25nz3-"
      },
      "execution_count": null,
      "outputs": []
    },
    {
      "cell_type": "code",
      "source": [
        "df.corr()"
      ],
      "metadata": {
        "id": "oJyQGJCfonsg"
      },
      "execution_count": null,
      "outputs": []
    },
    {
      "cell_type": "code",
      "source": [
        "del df[\"HeatingQC\"]\n",
        "del df[\"CentralAir\"]\n",
        "del df[\"Electrical\"]\n",
        "del df[\"BsmtFinType1\"]\n",
        "del df[\"BsmtFinSF1\"]"
      ],
      "metadata": {
        "id": "gxa0eQV6orfD"
      },
      "execution_count": null,
      "outputs": []
    },
    {
      "cell_type": "code",
      "source": [
        "# df[\"LotFrontage\"].value_counts\n",
        "import numpy as np\n",
        "(df['LotFrontage'].isnull()).value_counts()\n",
        "# df = df.fillna(df.mode())"
      ],
      "metadata": {
        "id": "sHOTLcgZpLf-"
      },
      "execution_count": null,
      "outputs": []
    },
    {
      "cell_type": "code",
      "source": [
        "df"
      ],
      "metadata": {
        "id": "XLq_MnncszqM"
      },
      "execution_count": null,
      "outputs": []
    },
    {
      "cell_type": "code",
      "source": [
        "df.corr()"
      ],
      "metadata": {
        "id": "E1ea5_ctyYXa"
      },
      "execution_count": null,
      "outputs": []
    },
    {
      "cell_type": "code",
      "source": [
        "data_frame = pd.DataFrame(df) \n",
        "data_frame.to_csv('AfterProcessing.csv') "
      ],
      "metadata": {
        "id": "D2vn8MFDyobJ"
      },
      "execution_count": null,
      "outputs": []
    },
    {
      "cell_type": "code",
      "source": [
        "data_frame"
      ],
      "metadata": {
        "id": "XKjlpNvNp_Cx"
      },
      "execution_count": null,
      "outputs": []
    },
    {
      "cell_type": "code",
      "source": [
        "data_frame.columns"
      ],
      "metadata": {
        "id": "LeTzW2FVqBoL"
      },
      "execution_count": null,
      "outputs": []
    },
    {
      "cell_type": "code",
      "source": [
        "#Setting the value for X and Y\n",
        "x = data_frame[['LotFrontage', 'LotArea', 'LotShape', 'OverallQual', 'YearBuilt',\n",
        "       'YearRemodAdd', 'MasVnrType', 'MasVnrArea', 'ExterQual', 'BsmtQual',\n",
        "       'BsmtUnfSF', 'TotalBsmtSF', '1stFlrSF', '2ndFlrSF', 'GrLivArea',\n",
        "       'BsmtFullBath', 'FullBath', 'HalfBath', 'KitchenQual', 'TotRmsAbvGrd',\n",
        "       'Fireplaces', 'FireplaceQu', 'GarageYrBlt', 'GarageCars', 'GarageArea',\n",
        "       'WoodDeckSF', 'OpenPorchSF']]\n",
        "y = data_frame['SalePrice']"
      ],
      "metadata": {
        "id": "fXuuJ_e_qBl0"
      },
      "execution_count": null,
      "outputs": []
    },
    {
      "cell_type": "code",
      "source": [
        "#Splitting the dataset\n",
        "from sklearn.model_selection import train_test_split\n",
        "x_train, x_test, y_train, y_test = train_test_split(x, y, test_size = 0.1, random_state = 100)"
      ],
      "metadata": {
        "id": "RFY1_Sl1qBrF"
      },
      "execution_count": null,
      "outputs": []
    },
    {
      "cell_type": "code",
      "source": [
        "#Fitting the Multiple Linear Regression model\n",
        "from sklearn.linear_model import LinearRegression\n",
        "mlr = LinearRegression()  \n",
        "mlr.fit(x_train, y_train)"
      ],
      "metadata": {
        "id": "IXe31aBeqBtp"
      },
      "execution_count": null,
      "outputs": []
    },
    {
      "cell_type": "code",
      "source": [
        "#Intercept and Coefficient\n",
        "print(\"Intercept: \", mlr.intercept_)\n",
        "print(\"Coefficients:\")\n",
        "list(zip(x, mlr.coef_))"
      ],
      "metadata": {
        "id": "OZB5dOSiqBwG"
      },
      "execution_count": null,
      "outputs": []
    },
    {
      "cell_type": "code",
      "source": [
        "#Prediction of test set\n",
        "y_pred_mlr= mlr.predict(x_test)\n",
        "#Predicted values\n",
        "print(\"Prediction for test set: {}\".format(y_pred_mlr))"
      ],
      "metadata": {
        "id": "8NfkYmiQqBzk"
      },
      "execution_count": null,
      "outputs": []
    },
    {
      "cell_type": "code",
      "source": [
        "#Actual value and the predicted value\n",
        "mlr_diff = pd.DataFrame({'Actual value': y_test, 'Predicted value': y_pred_mlr})\n",
        "mlr_diff.head(10)"
      ],
      "metadata": {
        "id": "Ggx-QFapwGm_"
      },
      "execution_count": null,
      "outputs": []
    },
    {
      "cell_type": "code",
      "source": [
        "#Model Evaluation\n",
        "from sklearn import metrics\n",
        "meanAbErr = metrics.mean_absolute_error(y_test, y_pred_mlr)\n",
        "meanSqErr = metrics.mean_squared_error(y_test, y_pred_mlr)\n",
        "rootMeanSqErr = np.sqrt(metrics.mean_squared_error(y_test, y_pred_mlr))\n",
        "print('R squared: {:.2f}'.format(mlr.score(x,y)*100))\n",
        "print('Mean Absolute Error:', meanAbErr)\n",
        "print('Mean Square Error:', meanSqErr)\n",
        "print('Root Mean Square Error:', rootMeanSqErr)"
      ],
      "metadata": {
        "id": "ct_XqTS5wVPp"
      },
      "execution_count": null,
      "outputs": []
    },
    {
      "cell_type": "code",
      "source": [
        "test = pd.read_csv(\"/content/test.csv\")"
      ],
      "metadata": {
        "id": "vsZVacy6wi6c"
      },
      "execution_count": null,
      "outputs": []
    },
    {
      "cell_type": "code",
      "source": [
        "test"
      ],
      "metadata": {
        "id": "iyWTIQpKwi9H"
      },
      "execution_count": null,
      "outputs": []
    },
    {
      "cell_type": "code",
      "source": [
        "mode = test.mode()\n",
        "test = test.fillna(mode.iloc[0,:])\n",
        "test.columns"
      ],
      "metadata": {
        "id": "9tNUe8M51DH6"
      },
      "execution_count": null,
      "outputs": []
    },
    {
      "cell_type": "code",
      "source": [
        "test['MasVnrType'] = pd.factorize(test['MasVnrType'])[0]\n",
        "test['ExterQual'] = pd.factorize(test['ExterQual'])[0]\n",
        "test['KitchenQual'] = pd.factorize(test['KitchenQual'])[0]\n",
        "test['BsmtQual'] = pd.factorize(test['BsmtQual'])[0]\n",
        "test['FireplaceQu'] = pd.factorize(test['FireplaceQu'])[0]\n",
        "test['LotShape'] = pd.factorize(test['LotShape'])[0]"
      ],
      "metadata": {
        "id": "iFMhMNZLwjIv"
      },
      "execution_count": null,
      "outputs": []
    },
    {
      "cell_type": "code",
      "source": [
        "del test['KitchenAbvGr']\n",
        "del test['BsmtFinSF2']\n",
        "del test['MSSubClass']\n",
        "del test['PoolArea']\n",
        "del test['MoSold']\n",
        "del test['BedroomAbvGr']\n",
        "del test['3SsnPorch']\n",
        "del test['EnclosedPorch']\n",
        "del test['MiscVal']\n",
        "del test['YrSold']\n",
        "del test['LowQualFinSF']\n",
        "del test['OverallCond']\n",
        "del test['ScreenPorch']\n",
        "del test['BsmtHalfBath']\n",
        "del test['PoolQC']\n",
        "del test['MiscFeature']\n",
        "del test['Alley']\n",
        "del test[\"Fence\"]\n",
        "del test[\"HeatingQC\"]\n",
        "del test[\"CentralAir\"]\n",
        "del test[\"Electrical\"]\n",
        "del test[\"BsmtFinType1\"]\n",
        "del test[\"BsmtFinSF1\"]\n",
        "del test['Functional']\n",
        "del test['Exterior2nd']\n",
        "del test['RoofStyle']\n",
        "del test['RoofMatl']\n",
        "del test['Exterior1st']\n",
        "del test['Neighborhood']\n",
        "del test['LandSlope']\n",
        "del test['LotConfig']\n",
        "del test['LandContour']\n",
        "del test['MSZoning']\n",
        "del test['GarageQual']\n",
        "del test['GarageCond']\n",
        "del test['PavedDrive']\n",
        "del test['SaleType']\n",
        "del test['SaleCondition']\n",
        "del test[\"Utilities\"]\n",
        "del test['HouseStyle']\n",
        "del test['Condition2']\n",
        "del test['BldgType']\n",
        "del test['Condition1']\n",
        "del test['GarageType']\n",
        "del test['GarageFinish']\n",
        "del test[\"Heating\"]\n",
        "del test[\"ExterCond\"]\n",
        "del test[\"Foundation\"]\n",
        "del test[\"BsmtCond\"]\n",
        "del test[\"BsmtFinType2\"]\n",
        "del test[\"BsmtExposure\"]\n",
        "del test['Street'] \n",
        "test.shape"
      ],
      "metadata": {
        "id": "SwbbY5vVwi_w"
      },
      "execution_count": null,
      "outputs": []
    },
    {
      "cell_type": "code",
      "source": [
        "test.shape"
      ],
      "metadata": {
        "id": "qqKiUqfcwjFL"
      },
      "execution_count": null,
      "outputs": []
    },
    {
      "cell_type": "code",
      "source": [
        "test"
      ],
      "metadata": {
        "id": "yn8WQn3uwjCc"
      },
      "execution_count": null,
      "outputs": []
    },
    {
      "cell_type": "code",
      "source": [
        "test_x = test[['LotFrontage', 'LotArea', 'LotShape', 'OverallQual', 'YearBuilt',\n",
        "       'YearRemodAdd', 'MasVnrType', 'MasVnrArea', 'ExterQual', 'BsmtQual',\n",
        "       'BsmtUnfSF', 'TotalBsmtSF', '1stFlrSF', '2ndFlrSF', 'GrLivArea',\n",
        "       'BsmtFullBath', 'FullBath', 'HalfBath', 'KitchenQual', 'TotRmsAbvGrd',\n",
        "       'Fireplaces', 'FireplaceQu', 'GarageYrBlt', 'GarageCars', 'GarageArea',\n",
        "       'WoodDeckSF', 'OpenPorchSF']]"
      ],
      "metadata": {
        "id": "unG5WtNf1PEA"
      },
      "execution_count": null,
      "outputs": []
    },
    {
      "cell_type": "code",
      "source": [
        "predicted=mlr.predict(test_x)\n",
        "predicted"
      ],
      "metadata": {
        "id": "HvGh06Rs1PN9"
      },
      "execution_count": null,
      "outputs": []
    },
    {
      "cell_type": "code",
      "source": [
        "idd = test[['Id']]\n",
        "idd['SalePrice'] = predicted\n",
        "idd.to_csv('submission4.csv', index=False)"
      ],
      "metadata": {
        "id": "1Uyxh8pl1PQP"
      },
      "execution_count": null,
      "outputs": []
    }
  ]
}