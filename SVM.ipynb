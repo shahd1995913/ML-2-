{
  "nbformat": 4,
  "nbformat_minor": 0,
  "metadata": {
    "colab": {
      "name": "SVM.ipynb",
      "private_outputs": true,
      "provenance": [],
      "authorship_tag": "ABX9TyNWAknrqYNiIWKFDUItQzeJ",
      "include_colab_link": true
    },
    "kernelspec": {
      "name": "python3",
      "display_name": "Python 3"
    },
    "language_info": {
      "name": "python"
    }
  },
  "cells": [
    {
      "cell_type": "markdown",
      "metadata": {
        "id": "view-in-github",
        "colab_type": "text"
      },
      "source": [
        "<a href=\"https://colab.research.google.com/github/shahd1995913/ML-2-/blob/main/SVM.ipynb\" target=\"_parent\"><img src=\"https://colab.research.google.com/assets/colab-badge.svg\" alt=\"Open In Colab\"/></a>"
      ]
    },
    {
      "cell_type": "code",
      "execution_count": null,
      "metadata": {
        "id": "3hY047vn68Xo"
      },
      "outputs": [],
      "source": [
        "import pandas as pd\n",
        "\n",
        "df = pd.read_csv('/content/train_set.csv')"
      ]
    },
    {
      "cell_type": "code",
      "source": [
        "df"
      ],
      "metadata": {
        "id": "BZ-Hrgic-4OI"
      },
      "execution_count": null,
      "outputs": []
    },
    {
      "cell_type": "code",
      "source": [
        "#convert 'team' column to numeric\n",
        "df['Gender'] = pd.factorize(df['Gender'])[0]\n",
        "df['Vehicle_Damage'] = pd.factorize(df['Vehicle_Damage'])[0]\n",
        "df['Vehicle_Age'] = pd.factorize(df['Vehicle_Age'])[0]\n",
        "#view updated DataFrame\n",
        "df['Vehicle_Age'].unique()\n",
        "df['Gender'].unique()\n",
        "df['Vehicle_Damage'].unique()"
      ],
      "metadata": {
        "id": "RMOVYxn0_kZm"
      },
      "execution_count": null,
      "outputs": []
    },
    {
      "cell_type": "code",
      "source": [
        "# deleting a column\n",
        "# del df['id']\n",
        "display(\"DataFrame after deletion\")\n",
        "display(df)"
      ],
      "metadata": {
        "id": "b4t7ILj_CJ3-"
      },
      "execution_count": null,
      "outputs": []
    },
    {
      "cell_type": "code",
      "source": [
        "df.shape\n"
      ],
      "metadata": {
        "id": "500Y15IW_pd8"
      },
      "execution_count": null,
      "outputs": []
    },
    {
      "cell_type": "code",
      "source": [
        "print(df.Response)"
      ],
      "metadata": {
        "id": "WGaOcQgjEgMr"
      },
      "execution_count": null,
      "outputs": []
    },
    {
      "cell_type": "code",
      "source": [
        "# Describe features\n",
        "df.describe()"
      ],
      "metadata": {
        "id": "qOCX6iq7EgQE"
      },
      "execution_count": null,
      "outputs": []
    },
    {
      "cell_type": "code",
      "source": [
        "# Unique values\n",
        "df[\"Response\"].unique()"
      ],
      "metadata": {
        "id": "2Mosc_5hEgcQ"
      },
      "execution_count": null,
      "outputs": []
    },
    {
      "cell_type": "code",
      "source": [
        "# Drop rows with Nan values\n",
        "df = df.dropna() # removes rows with any NaN values\n",
        "df = df.reset_index() # reset's row indexes in case any rows were dropped\n",
        "df.head()"
      ],
      "metadata": {
        "id": "nU22sF-VEger"
      },
      "execution_count": null,
      "outputs": []
    },
    {
      "cell_type": "code",
      "source": [
        "df.shape"
      ],
      "metadata": {
        "id": "XDbpyy1-EgiP"
      },
      "execution_count": null,
      "outputs": []
    },
    {
      "cell_type": "code",
      "source": [
        "# Saving dataframe to CSV\n",
        "df.to_csv(\"newtrain_data.csv\", index=False)"
      ],
      "metadata": {
        "id": "mVLgnHIsFy3W"
      },
      "execution_count": null,
      "outputs": []
    },
    {
      "cell_type": "code",
      "source": [
        "# See the saved file\n",
        "!ls -l"
      ],
      "metadata": {
        "id": "lZSmdIucF5Cd"
      },
      "execution_count": null,
      "outputs": []
    },
    {
      "cell_type": "code",
      "source": [
        "import matplotlib.pyplot as plt\n",
        "% matplotlib inline\n",
        "df['Response'].value_counts().plot.bar()"
      ],
      "metadata": {
        "id": "GLZyDfIeF5Et"
      },
      "execution_count": null,
      "outputs": []
    },
    {
      "cell_type": "code",
      "source": [
        "import matplotlib.pyplot as plt\n",
        "% matplotlib inline\n",
        "df['Gender'].value_counts().plot.bar()"
      ],
      "metadata": {
        "id": "f7SQFgekF5HV"
      },
      "execution_count": null,
      "outputs": []
    },
    {
      "cell_type": "code",
      "source": [
        "import matplotlib.pyplot as plt\n",
        "% matplotlib inline\n",
        "df['Driving_License'].value_counts().plot.bar()"
      ],
      "metadata": {
        "id": "iexHiIAcF5Kt"
      },
      "execution_count": null,
      "outputs": []
    },
    {
      "cell_type": "code",
      "source": [
        "df['Driving_License'].value_counts()"
      ],
      "metadata": {
        "id": "APcIdZ8gGZQc"
      },
      "execution_count": null,
      "outputs": []
    },
    {
      "cell_type": "code",
      "source": [
        "df['Previously_Insured'].value_counts().plot.bar()"
      ],
      "metadata": {
        "id": "Ruh-urIeGfja"
      },
      "execution_count": null,
      "outputs": []
    },
    {
      "cell_type": "code",
      "source": [
        "df['Vehicle_Age'].value_counts().plot.bar()"
      ],
      "metadata": {
        "id": "nVZHg83NGfl8"
      },
      "execution_count": null,
      "outputs": []
    },
    {
      "cell_type": "code",
      "source": [
        "df['Vehicle_Damage'].value_counts().plot.bar()"
      ],
      "metadata": {
        "id": "cSfgHffvGfoq"
      },
      "execution_count": null,
      "outputs": []
    },
    {
      "cell_type": "code",
      "source": [
        "import pandas as pd\n",
        "df = pd.read_csv('/content/newtrain_data.csv')"
      ],
      "metadata": {
        "id": "WmCHNItfGftn"
      },
      "execution_count": null,
      "outputs": []
    },
    {
      "cell_type": "code",
      "source": [
        "# del df[\"index\"]\n",
        "from sklearn.model_selection import train_test_split\n",
        "training_set, test_set = train_test_split(df, test_size = 0.2, random_state = 1)"
      ],
      "metadata": {
        "id": "fJuLICneJA0m"
      },
      "execution_count": null,
      "outputs": []
    },
    {
      "cell_type": "code",
      "source": [
        "X_train = training_set.iloc[:,0:11].values\n",
        "Y_train = training_set.iloc[:,10].values\n",
        "X_test = test_set.iloc[:,0:11].values\n",
        "Y_test = test_set.iloc[:,10].values"
      ],
      "metadata": {
        "id": "19ejlfJSJIu1"
      },
      "execution_count": null,
      "outputs": []
    },
    {
      "cell_type": "code",
      "source": [
        "from sklearn.svm import SVC\n",
        "classifier = SVC(kernel='rbf', random_state = 1)\n",
        "classifier.fit(X_train,Y_train)"
      ],
      "metadata": {
        "id": "_JFDHFJkJIxQ"
      },
      "execution_count": null,
      "outputs": []
    },
    {
      "cell_type": "code",
      "source": [
        "Y_pred = classifier.predict(X_test)\n",
        "test_set[\"Predictions\"] = Y_pred\n",
        "from sklearn.metrics import confusion_matrix\n",
        "cm = confusion_matrix(Y_test,Y_pred)\n",
        "accuracy = float(cm.diagonal().sum())/len(Y_test)\n",
        "print(\"\\nAccuracy Of SVM For The Given Dataset : \", accuracy)"
      ],
      "metadata": {
        "id": "nby1-OnsJI0s"
      },
      "execution_count": null,
      "outputs": []
    }
  ]
}