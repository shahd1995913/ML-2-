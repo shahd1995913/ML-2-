{
  "nbformat": 4,
  "nbformat_minor": 0,
  "metadata": {
    "colab": {
      "name": "RF.ipynb",
      "private_outputs": true,
      "provenance": [],
      "authorship_tag": "ABX9TyO+45WohVbn3Wf+bahkmNjK",
      "include_colab_link": true
    },
    "kernelspec": {
      "name": "python3",
      "display_name": "Python 3"
    },
    "language_info": {
      "name": "python"
    }
  },
  "cells": [
    {
      "cell_type": "markdown",
      "metadata": {
        "id": "view-in-github",
        "colab_type": "text"
      },
      "source": [
        "<a href=\"https://colab.research.google.com/github/shahd1995913/ML-2-/blob/main/RF.ipynb\" target=\"_parent\"><img src=\"https://colab.research.google.com/assets/colab-badge.svg\" alt=\"Open In Colab\"/></a>"
      ]
    },
    {
      "cell_type": "code",
      "source": [
        "# Load libraries\n",
        "import pandas as pd\n",
        "\n",
        "from sklearn.model_selection import train_test_split # Import train_test_split function\n",
        "from sklearn import metrics #Import scikit-learn metrics module for accuracy calculation\n",
        "\n",
        "#Import Random Forest Model\n",
        "from sklearn.ensemble import RandomForestClassifier\n",
        "\n",
        "pima = pd.read_csv(\"/content/newtrain_data.csv\")\n",
        "\n",
        "del pima[\"index\"]"
      ],
      "metadata": {
        "id": "1egxG2VIhurL"
      },
      "execution_count": null,
      "outputs": []
    },
    {
      "cell_type": "code",
      "source": [
        "pima"
      ],
      "metadata": {
        "id": "ez57wG17hzFe"
      },
      "execution_count": null,
      "outputs": []
    },
    {
      "cell_type": "code",
      "source": [
        "print(pima[\"Response\"].value_counts())\n",
        "\n",
        "pima.groupby('Response').size().plot(kind='pie',\n",
        "                                       y = \"Response\",\n",
        "                                       label = \"Type\",\n",
        "                                       autopct='%1.1f%%')"
      ],
      "metadata": {
        "id": "u2CALKghiKam"
      },
      "execution_count": null,
      "outputs": []
    },
    {
      "cell_type": "code",
      "source": [
        "zeron = pima[pima[\"Response\"] == 0]\n",
        "one  = pima[pima[\"Response\"] == 1]\n",
        "print(zeron.shape)\n",
        "print(one.shape)"
      ],
      "metadata": {
        "id": "VMwF2BnAiUwl"
      },
      "execution_count": null,
      "outputs": []
    },
    {
      "cell_type": "markdown",
      "source": [
        "# Downsampling with sklearn"
      ],
      "metadata": {
        "id": "uknGIyxriwiD"
      }
    },
    {
      "cell_type": "code",
      "source": [
        "from sklearn.utils import resample\n",
        "zeron_downsample = resample(zeron,\n",
        "             replace=True,\n",
        "             n_samples=len(one),\n",
        "             random_state=42)\n",
        "\n",
        "print(zeron_downsample.shape)"
      ],
      "metadata": {
        "id": "EB-CiP_Wix5Y"
      },
      "execution_count": null,
      "outputs": []
    },
    {
      "cell_type": "code",
      "source": [
        "data_downsampled = pd.concat([zeron_downsample, one])\n",
        "\n",
        "print(data_downsampled[\"Response\"].value_counts())\n",
        "\n",
        "data_downsampled.groupby('Response').size().plot(kind='pie',\n",
        "                                       y = \"Response\",\n",
        "                                       label = \"Type\",\n",
        "                                       autopct='%1.1f%%')"
      ],
      "metadata": {
        "id": "uBCJRaVfjFW5"
      },
      "execution_count": null,
      "outputs": []
    },
    {
      "cell_type": "code",
      "source": [
        "zeron = data_downsampled[data_downsampled[\"Response\"] == 0]\n",
        "one  = data_downsampled[data_downsampled[\"Response\"] == 1]\n",
        "print(zeron.shape)\n",
        "print(one.shape)"
      ],
      "metadata": {
        "id": "MRSINUQQlG_U"
      },
      "execution_count": null,
      "outputs": []
    },
    {
      "cell_type": "code",
      "execution_count": null,
      "metadata": {
        "id": "9xKtligwOu1t"
      },
      "outputs": [],
      "source": [
        "#split dataset in features and target variable\n",
        "feature_cols = ['Gender',\t'Age',\t'Driving_License',\t'Region_Code',\t'Previously_Insured',\t'Vehicle_Age',\t'Vehicle_Damage',\t'Annual_Premium'\t,'Policy_Sales_Channel',\t'Vintage']\n",
        "X = data_downsampled[feature_cols] # Features\n",
        "y = data_downsampled.Response # Target variable\n",
        "\n",
        "# Split dataset into training set and test set\n",
        "X_train, X_test, y_train, y_test = train_test_split(X, y, test_size=0.3, random_state=1) # 70% training and 30% test\n",
        "\n",
        "\n",
        "#Create a Gaussian Classifier\n",
        "clf=RandomForestClassifier(n_estimators=100)\n",
        "\n",
        "#Train the model using the training sets y_pred=clf.predict(X_test)\n",
        "clf.fit(X_train,y_train)\n",
        "\n",
        "y_pred=clf.predict(X_test)"
      ]
    },
    {
      "cell_type": "code",
      "source": [
        "#Import scikit-learn metrics module for accuracy calculation\n",
        "from sklearn import metrics\n",
        "# Model Accuracy, how often is the classifier correct?\n",
        "print(\"Accuracy:\",metrics.accuracy_score(y_test, y_pred))"
      ],
      "metadata": {
        "id": "NJSEb4f0PUec"
      },
      "execution_count": null,
      "outputs": []
    },
    {
      "cell_type": "code",
      "source": [
        "from sklearn.metrics import recall_score , precision_score , roc_auc_score ,roc_curve\n",
        "from sklearn.metrics import classification_report\n",
        "\n",
        "print(\"Accuracy on Test -->:\", metrics.accuracy_score(y_test, y_pred))\n",
        "# print(custom_model_score)\n",
        "print(classification_report(y_test,y_pred))"
      ],
      "metadata": {
        "id": "G-jWZxxxPiEU"
      },
      "execution_count": null,
      "outputs": []
    }
  ]
}