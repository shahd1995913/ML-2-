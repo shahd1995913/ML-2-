{
  "nbformat": 4,
  "nbformat_minor": 0,
  "metadata": {
    "colab": {
      "name": "RF.ipynb",
      "private_outputs": true,
      "provenance": [],
      "authorship_tag": "ABX9TyMWeivNiL8Lw0Uad6ANV+9n",
      "include_colab_link": true
    },
    "kernelspec": {
      "name": "python3",
      "display_name": "Python 3"
    },
    "language_info": {
      "name": "python"
    }
  },
  "cells": [
    {
      "cell_type": "markdown",
      "metadata": {
        "id": "view-in-github",
        "colab_type": "text"
      },
      "source": [
        "<a href=\"https://colab.research.google.com/github/shahd1995913/ML-2-/blob/main/RF.ipynb\" target=\"_parent\"><img src=\"https://colab.research.google.com/assets/colab-badge.svg\" alt=\"Open In Colab\"/></a>"
      ]
    },
    {
      "cell_type": "code",
      "execution_count": null,
      "metadata": {
        "id": "9xKtligwOu1t"
      },
      "outputs": [],
      "source": [
        "# Load libraries\n",
        "import pandas as pd\n",
        "\n",
        "from sklearn.model_selection import train_test_split # Import train_test_split function\n",
        "from sklearn import metrics #Import scikit-learn metrics module for accuracy calculation\n",
        "\n",
        "#Import Random Forest Model\n",
        "from sklearn.ensemble import RandomForestClassifier\n",
        "\n",
        "\n",
        "\n",
        "pima = pd.read_csv(\"/content/newtrain_data.csv\")\n",
        "\n",
        "\n",
        "del pima[\"index\"]\n",
        "\n",
        "#split dataset in features and target variable\n",
        "feature_cols = ['Gender',\t'Age',\t'Driving_License',\t'Region_Code',\t'Previously_Insured',\t'Vehicle_Age',\t'Vehicle_Damage',\t'Annual_Premium'\t,'Policy_Sales_Channel',\t'Vintage']\n",
        "X = pima[feature_cols] # Features\n",
        "y = pima.Response # Target variable\n",
        "\n",
        "\n",
        "# Split dataset into training set and test set\n",
        "X_train, X_test, y_train, y_test = train_test_split(X, y, test_size=0.3, random_state=1) # 70% training and 30% test\n",
        "\n",
        "\n",
        "\n",
        "\n",
        "#Create a Gaussian Classifier\n",
        "clf=RandomForestClassifier(n_estimators=100)\n",
        "\n",
        "#Train the model using the training sets y_pred=clf.predict(X_test)\n",
        "clf.fit(X_train,y_train)\n",
        "\n",
        "y_pred=clf.predict(X_test)"
      ]
    },
    {
      "cell_type": "code",
      "source": [
        "#Import scikit-learn metrics module for accuracy calculation\n",
        "from sklearn import metrics\n",
        "# Model Accuracy, how often is the classifier correct?\n",
        "print(\"Accuracy:\",metrics.accuracy_score(y_test, y_pred))"
      ],
      "metadata": {
        "id": "NJSEb4f0PUec"
      },
      "execution_count": null,
      "outputs": []
    },
    {
      "cell_type": "code",
      "source": [
        "from sklearn.metrics import recall_score , precision_score , roc_auc_score ,roc_curve\n",
        "from sklearn.metrics import classification_report\n",
        "\n",
        "\n",
        "print(\"Accuracy on Test -->:\", metrics.accuracy_score(y_test, y_pred))\n",
        "# print(custom_model_score)\n",
        "print(classification_report(y_test,y_pred))"
      ],
      "metadata": {
        "id": "G-jWZxxxPiEU"
      },
      "execution_count": null,
      "outputs": []
    }
  ]
}