{
  "nbformat": 4,
  "nbformat_minor": 0,
  "metadata": {
    "colab": {
      "name": "Anime Recommendation System by TAH.ipynb",
      "private_outputs": true,
      "provenance": [],
      "authorship_tag": "ABX9TyPODwHbEG3FP5TbxTPe7G0q",
      "include_colab_link": true
    },
    "kernelspec": {
      "name": "python3",
      "display_name": "Python 3"
    },
    "language_info": {
      "name": "python"
    }
  },
  "cells": [
    {
      "cell_type": "markdown",
      "metadata": {
        "id": "view-in-github",
        "colab_type": "text"
      },
      "source": [
        "<a href=\"https://colab.research.google.com/github/shahd1995913/Machine-Learning/blob/main/6.%20Recommendation%20System%20/Anime_Recommendation_System_by_TAH.ipynb\" target=\"_parent\"><img src=\"https://colab.research.google.com/assets/colab-badge.svg\" alt=\"Open In Colab\"/></a>"
      ]
    },
    {
      "cell_type": "markdown",
      "source": [
        "## [youtub](https://www.youtube.com/watch?v=kccT0FVK6OY&list=PLZoTAELRMXVN7QGpcuN-Vg35Hgjp3htvi&index=3)\n",
        "## [Github](https://github.com/krishnaik06/Recommendation_complete_tutorial/blob/master/KNN%20Movie%20Recommendation/KNNRecommendation.ipynb)\n",
        "## [Kaggel](https://www.kaggle.com/competitions/anime-recommendation-system-by-tah/data?select=train.csv)"
      ],
      "metadata": {
        "id": "x69dT3f557LY"
      }
    },
    {
      "cell_type": "code",
      "execution_count": null,
      "metadata": {
        "id": "BenrBT1zxpwb"
      },
      "outputs": [],
      "source": [
        "! pip install kaggle\n",
        "! mkdir ~/.kaggle\n",
        "! cp kaggle.json ~/.kaggle/\n",
        "! chmod 600 ~/.kaggle/kaggle.json\n",
        "! kaggle competitions download anime-recommendation-system-by-tah\n",
        "! unzip /content/anime-recommendation-system-by-tah.zip\n",
        "import pandas as pd"
      ]
    },
    {
      "cell_type": "code",
      "source": [
        "import pandas as pd\n",
        "rating_complete = pd.read_csv(\"/content/rating_complete.csv\")\n",
        "anime = pd.read_csv(\"/content/anime.csv\")\n",
        "movies_df = pd.read_csv('/content/anime.csv',usecols=['MAL_ID','Name'],dtype={'MAL_ID': 'int32', 'Name': 'str'})\n",
        "rating_df=pd.read_csv('/content/rating_complete.csv',usecols=['user_id', 'anime_id', 'rating'],\n",
        "    dtype={'user_id': 'int32', 'anime_id': 'int32', 'rating': 'float32'})\n",
        "movies_df.rename(columns = {'MAL_ID':'anime_id'}, inplace = True)\n",
        "df = pd.merge(rating_df,movies_df,on='anime_id')"
      ],
      "metadata": {
        "id": "iX1MMsnJx_Fi"
      },
      "execution_count": null,
      "outputs": []
    },
    {
      "cell_type": "code",
      "source": [
        "combine_movie_rating = df.dropna(axis = 0, subset = ['Name'])\n",
        "movie_ratingCount = (combine_movie_rating.\n",
        "     groupby(by = ['Name'])['rating'].\n",
        "     count().\n",
        "     reset_index().\n",
        "     rename(columns = {'rating': 'totalRatingCount'})\n",
        "     [['Name', 'totalRatingCount']]\n",
        "    )\n",
        "movie_ratingCount.head()"
      ],
      "metadata": {
        "id": "BroCFoEV9xKu"
      },
      "execution_count": null,
      "outputs": []
    },
    {
      "cell_type": "code",
      "source": [
        "rating_with_totalRatingCount = combine_movie_rating.merge(movie_ratingCount, left_on = 'Name', right_on = 'Name', how = 'left')\n",
        "rating_with_totalRatingCount.head()"
      ],
      "metadata": {
        "id": "SVj0xm8byKfY"
      },
      "execution_count": null,
      "outputs": []
    },
    {
      "cell_type": "code",
      "source": [
        "pd.set_option('display.float_format', lambda x: '%.3f' % x)\n",
        "print(movie_ratingCount['totalRatingCount'].describe())"
      ],
      "metadata": {
        "id": "ebHT7ZXzyKt0"
      },
      "execution_count": null,
      "outputs": []
    },
    {
      "cell_type": "code",
      "source": [
        "popularity_threshold = 50\n",
        "rating_popular_movie= rating_with_totalRatingCount.query('totalRatingCount >= @popularity_threshold')\n",
        "rating_popular_movie.head()"
      ],
      "metadata": {
        "id": "_wnxMyNNyKzf"
      },
      "execution_count": null,
      "outputs": []
    },
    {
      "cell_type": "code",
      "source": [
        "rating_popular_movie.shape"
      ],
      "metadata": {
        "id": "C_1h1DhNyK29"
      },
      "execution_count": null,
      "outputs": []
    },
    {
      "cell_type": "code",
      "source": [
        "## First lets create a Pivot matrix\n",
        "movie_features_df=rating_popular_movie.pivot_table(index='Name',columns='anime_id',values='rating').fillna(0)\n",
        "# movie_features_df=rating_popular_movie.pivot_table(index='Name',columns='anime_id',values='rating').dropna()\n",
        "\n",
        "movie_features_df.head()"
      ],
      "metadata": {
        "id": "KBzBF672-XYq"
      },
      "execution_count": null,
      "outputs": []
    },
    {
      "cell_type": "code",
      "source": [
        "from scipy.sparse import csr_matrix\n",
        "movie_features_df_matrix = csr_matrix(movie_features_df.values)\n",
        "from sklearn.neighbors import NearestNeighbors\n",
        "\n",
        "model_knn = NearestNeighbors(metric = 'cosine', algorithm = 'brute')\n",
        "model_knn.fit(movie_features_df_matrix)"
      ],
      "metadata": {
        "id": "0dnEPOlZ-Xbf"
      },
      "execution_count": null,
      "outputs": []
    },
    {
      "cell_type": "code",
      "source": [
        "movie_features_df.shape"
      ],
      "metadata": {
        "id": "d9mYx35U-XeO"
      },
      "execution_count": null,
      "outputs": []
    },
    {
      "cell_type": "code",
      "source": [
        "query_index = np.random.choice(movie_features_df.shape[0])\n",
        "print(query_index)\n",
        "distances, indices = model_knn.kneighbors(movie_features_df.iloc[query_index,:].values.reshape(1, -1), n_neighbors = 6)"
      ],
      "metadata": {
        "id": "KSe5za9t-Xhz"
      },
      "execution_count": null,
      "outputs": []
    },
    {
      "cell_type": "code",
      "source": [
        "movie_features_df.head()\n"
      ],
      "metadata": {
        "id": "wxsWNZlX_VKq"
      },
      "execution_count": null,
      "outputs": []
    },
    {
      "cell_type": "code",
      "source": [
        "for i in range(0, len(distances.flatten())):\n",
        "    if i == 0:\n",
        "        print('Recommendations for {0}:\\n'.format(movie_features_df.index[query_index]))\n",
        "    else:\n",
        "        print('{0}: {1}, with distance of {2}:'.format(i, movie_features_df.index[indices.flatten()[i]], distances.flatten()[i]))"
      ],
      "metadata": {
        "id": "NakwT--V_VNd"
      },
      "execution_count": null,
      "outputs": []
    }
  ]
}