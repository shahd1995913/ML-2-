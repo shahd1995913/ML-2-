{
  "nbformat": 4,
  "nbformat_minor": 0,
  "metadata": {
    "colab": {
      "name": "Anime Recommendation System by TAH.ipynb",
      "private_outputs": true,
      "provenance": [],
      "authorship_tag": "ABX9TyORytrZPeE3PlYbCKmXP+0j",
      "include_colab_link": true
    },
    "kernelspec": {
      "name": "python3",
      "display_name": "Python 3"
    },
    "language_info": {
      "name": "python"
    }
  },
  "cells": [
    {
      "cell_type": "markdown",
      "metadata": {
        "id": "view-in-github",
        "colab_type": "text"
      },
      "source": [
        "<a href=\"https://colab.research.google.com/github/shahd1995913/Machine-Learning/blob/main/6.%20Recommendation%20System%20/Anime_Recommendation_System_by_TAH.ipynb\" target=\"_parent\"><img src=\"https://colab.research.google.com/assets/colab-badge.svg\" alt=\"Open In Colab\"/></a>"
      ]
    },
    {
      "cell_type": "markdown",
      "source": [
        "## [youtub](https://www.youtube.com/watch?v=kccT0FVK6OY&list=PLZoTAELRMXVN7QGpcuN-Vg35Hgjp3htvi&index=3)\n",
        "## [Github](https://github.com/krishnaik06/Recommendation_complete_tutorial/blob/master/KNN%20Movie%20Recommendation/KNNRecommendation.ipynb)\n",
        "## [Kaggel](https://www.kaggle.com/competitions/anime-recommendation-system-by-tah/data?select=train.csv)"
      ],
      "metadata": {
        "id": "x69dT3f557LY"
      }
    },
    {
      "cell_type": "code",
      "execution_count": null,
      "metadata": {
        "id": "BenrBT1zxpwb"
      },
      "outputs": [],
      "source": [
        "! pip install kaggle\n",
        "! mkdir ~/.kaggle\n",
        "! cp kaggle.json ~/.kaggle/\n",
        "! chmod 600 ~/.kaggle/kaggle.json\n",
        "! kaggle competitions download anime-recommendation-system-by-tah\n",
        "! unzip /content/anime-recommendation-system-by-tah.zip\n",
        "import pandas as pd"
      ]
    },
    {
      "cell_type": "code",
      "source": [
        "rating_complete = pd.read_csv(\"/content/rating_complete.csv\")\n",
        "rating_complete"
      ],
      "metadata": {
        "id": "iX1MMsnJx_Fi"
      },
      "execution_count": null,
      "outputs": []
    },
    {
      "cell_type": "code",
      "source": [
        "# rating_complete\n",
        "# for i in rating_complete[\"user_id\"]:\n",
        "#   for x  in rating_complete[\"rating\"]:\n",
        "#     if x  == 10:\n",
        "#         print(x + rating_complete[\"anime_id\"])"
      ],
      "metadata": {
        "id": "GB1GSneM0GXn"
      },
      "execution_count": null,
      "outputs": []
    },
    {
      "cell_type": "code",
      "source": [
        "rating_complete"
      ],
      "metadata": {
        "id": "fyLSUHfA0izu"
      },
      "execution_count": null,
      "outputs": []
    },
    {
      "cell_type": "code",
      "source": [
        "train = pd.read_csv(\"/content/train.csv\")\n",
        "train"
      ],
      "metadata": {
        "id": "SVj0xm8byKfY"
      },
      "execution_count": null,
      "outputs": []
    },
    {
      "cell_type": "code",
      "source": [
        "watching_status = pd.read_csv(\"/content/watching_status.csv\")\n",
        "watching_status"
      ],
      "metadata": {
        "id": "ebHT7ZXzyKt0"
      },
      "execution_count": null,
      "outputs": []
    },
    {
      "cell_type": "code",
      "source": [
        "anime = pd.read_csv(\"/content/anime.csv\")\n",
        "anime"
      ],
      "metadata": {
        "id": "TMzZ6jKWyKws"
      },
      "execution_count": null,
      "outputs": []
    },
    {
      "cell_type": "code",
      "source": [
        ""
      ],
      "metadata": {
        "id": "_wnxMyNNyKzf"
      },
      "execution_count": null,
      "outputs": []
    },
    {
      "cell_type": "code",
      "source": [
        ""
      ],
      "metadata": {
        "id": "C_1h1DhNyK29"
      },
      "execution_count": null,
      "outputs": []
    }
  ]
}