{
  "nbformat": 4,
  "nbformat_minor": 0,
  "metadata": {
    "colab": {
      "name": "Blood_Disease_Classification (1).ipynb",
      "private_outputs": true,
      "provenance": [],
      "include_colab_link": true
    },
    "kernelspec": {
      "name": "python3",
      "display_name": "Python 3"
    },
    "language_info": {
      "name": "python"
    }
  },
  "cells": [
    {
      "cell_type": "markdown",
      "metadata": {
        "id": "view-in-github",
        "colab_type": "text"
      },
      "source": [
        "<a href=\"https://colab.research.google.com/github/shahd1995913/Machine-Learning/blob/main/1.%20Vehicle%20Insurance%20Classification/Blood_Disease_Classification_(1).ipynb\" target=\"_parent\"><img src=\"https://colab.research.google.com/assets/colab-badge.svg\" alt=\"Open In Colab\"/></a>"
      ]
    },
    {
      "cell_type": "code",
      "execution_count": null,
      "metadata": {
        "id": "6ct687V8CQxg"
      },
      "outputs": [],
      "source": [
        "! pip install kaggle\n",
        "! mkdir ~/.kaggle\n",
        "! cp kaggle.json ~/.kaggle/\n",
        "! chmod 600 ~/.kaggle/kaggle.json\n",
        "! kaggle competitions download blood-disease-classification-tah\n",
        "! unzip /content/blood-disease-classification-tah.zip"
      ]
    },
    {
      "cell_type": "code",
      "source": [
        "import pandas as pd\n",
        "import numpy as np\n",
        "import copy\n",
        "import seaborn as sns\n",
        "import matplotlib.pyplot as plt\n",
        "%matplotlib inline\n",
        "train_df = pd.read_csv(\"/content/train_set.csv\")\n",
        "test_df = pd.read_csv(\"/content/test_set.csv\")\n",
        "print(train_df['Image'].dtypes)\n",
        "print(train_df['Category'].dtypes)\n",
        "print(train_df['Category'].value_counts())"
      ],
      "metadata": {
        "id": "Ma0r9r69CYpK"
      },
      "execution_count": null,
      "outputs": []
    },
    {
      "cell_type": "code",
      "source": [
        "Category = train_df['Category'].value_counts()\n",
        "sns.set(style=\"darkgrid\")\n",
        "sns.barplot(Category.index, Category.values, alpha=.955)\n",
        "plt.title('Frequency Distribution of Category')\n",
        "plt.ylabel('Number of Occurrences', fontsize=12)\n",
        "plt.xlabel('Blood Disease Type', fontsize=12)\n",
        "plt.show()"
      ],
      "metadata": {
        "id": "IH3rTb68CaSH"
      },
      "execution_count": null,
      "outputs": []
    },
    {
      "cell_type": "code",
      "source": [
        "from os import listdir\n",
        "from os.path import isfile, join\n",
        "import imageio\n",
        "import os\n",
        "path = \"/content/Images/Images\"\n",
        "files = os.listdir(path)\n",
        "\n",
        "for index, file in enumerate(files):\n",
        "    os.rename(os.path.join(path, file), os.path.join(path, ''.join([str(index), '.jpg'])))\n",
        "    \n",
        "image_folder_path = \"/content/Images/Images\"\n",
        "\n",
        "onlyfiles = [f for f in listdir(image_folder_path) if isfile(join(image_folder_path, f))]\n",
        "\n",
        "full_filenames = [join(this_image) for this_image in onlyfiles]\n",
        "full_filenames\n",
        " \n",
        "img = pd.DataFrame (full_filenames, columns = ['img number'])"
      ],
      "metadata": {
        "id": "9s_t5_wACfcD"
      },
      "execution_count": null,
      "outputs": []
    },
    {
      "cell_type": "code",
      "source": [
        "# selecting rows based on condition\n",
        "EOSINOPHIL = train_df.loc[train_df['Category'] ==\"EOSINOPHIL\"]\n",
        "print('\\nResult dataframe :\\n', EOSINOPHIL)"
      ],
      "metadata": {
        "id": "v46aN1sUCfjI"
      },
      "execution_count": null,
      "outputs": []
    },
    {
      "cell_type": "code",
      "source": [
        "# selecting rows based on condition\n",
        "MONOCYTE = train_df.loc[train_df['Category'] ==\"MONOCYTE\"]\n",
        "  \n",
        "print('\\nResult dataframe :\\n', MONOCYTE)"
      ],
      "metadata": {
        "id": "NiZQxfGCCfmZ"
      },
      "execution_count": null,
      "outputs": []
    },
    {
      "cell_type": "code",
      "source": [
        "# selecting rows based on condition\n",
        "LYMPHOCYTE = train_df.loc[train_df['Category'] ==\"LYMPHOCYTE\"]\n",
        "print('\\nResult dataframe :\\n', LYMPHOCYTE)"
      ],
      "metadata": {
        "id": "33A5JUgOCfph"
      },
      "execution_count": null,
      "outputs": []
    },
    {
      "cell_type": "code",
      "source": [
        "# selecting rows based on condition\n",
        "NEUTROPHIL = train_df.loc[train_df['Category'] ==\"NEUTROPHIL\"]\n",
        "  \n",
        "print('\\nResult dataframe :\\n', NEUTROPHIL)\n",
        "NEUTROPHIL.Image\n",
        "\n",
        "image_folder_path = \"/content/Images/Images\"\n",
        "\n",
        "onlyfiles = [f for f in listdir(image_folder_path) if isfile(join(image_folder_path, f))]\n",
        "\n",
        "full_filenames = [join(this_image) for this_image in onlyfiles]\n",
        "full_filenames"
      ],
      "metadata": {
        "id": "vm-G-XqtCftC"
      },
      "execution_count": null,
      "outputs": []
    },
    {
      "cell_type": "code",
      "source": [
        "c = (NEUTROPHIL.Image ==23)\n",
        "c.value_counts()"
      ],
      "metadata": {
        "id": "dLYgIiJ0C1b4"
      },
      "execution_count": null,
      "outputs": []
    },
    {
      "cell_type": "code",
      "source": [
        "import glob\n",
        "import shutil\n",
        "import os\n",
        "# Create a directory\n",
        "directory = \"NEUTROPHIL_befor_resize\"\n",
        "  \n",
        "# Parent Directory path\n",
        "parent_dir = \"/content/\"\n",
        "  \n",
        "path = os.path.join(parent_dir, directory)\n",
        "  \n",
        "os.mkdir(path)\n",
        "\n",
        "src_dir = \"/content/Images/Images/\"\n",
        "dst_dir = \"/content/NEUTROPHIL_befor_resize/\"\n",
        "for i in listdir(src_dir):\n",
        "  for j in NEUTROPHIL.Image:\n",
        "     if i == str(j)+\".jpg\":\n",
        "          shutil.copy(src_dir+i, dst_dir)"
      ],
      "metadata": {
        "id": "YwlnuIatC1eP"
      },
      "execution_count": null,
      "outputs": []
    },
    {
      "cell_type": "code",
      "source": [
        "#!/usr/bin/python\n",
        "from PIL import Image\n",
        "import os, sys\n",
        "\n",
        "directory = \"NEUTROPHIL_After_resize\"\n",
        "  \n",
        "# Parent Directory path\n",
        "parent_dir = \"/content/\"\n",
        "  \n",
        "path = os.path.join(parent_dir, directory)\n",
        "  \n",
        "os.mkdir(path)\n",
        "\n",
        "path = \"/content/NEUTROPHIL_befor_resize/\"\n",
        "dirs = os.listdir( path )\n",
        "save_new_img=\"/content/NEUTROPHIL_After_resize/\"\n",
        "def resize():\n",
        "    for item in dirs:\n",
        "        if os.path.isfile(path+item):\n",
        "            im = Image.open(path+item)\n",
        "            f, e = os.path.splitext(save_new_img+item)\n",
        "            imResize = im.resize((224,224), Image.ANTIALIAS)\n",
        "            imResize.save(f + '.jpg', 'JPEG', quality=90)\n",
        "\n",
        "resize()"
      ],
      "metadata": {
        "id": "aTDZ6MoPC1gn"
      },
      "execution_count": null,
      "outputs": []
    },
    {
      "cell_type": "code",
      "source": [
        "from PIL import Image\n",
        "import os, sys\n",
        "import cv2\n",
        "import numpy as np\n",
        "\n",
        "directory = \"NEUTROPHIL\"\n",
        "  \n",
        "# Parent Directory path\n",
        "parent_dir = \"/content/\"\n",
        "  \n",
        "path = os.path.join(parent_dir, directory)\n",
        "  \n",
        "os.mkdir(path)\n",
        "path = \"/content/NEUTROPHIL_After_resize/\"\n",
        "dirs = os.listdir( path )\n",
        "save=\"/content/NEUTROPHIL/\"\n",
        "def resize():\n",
        "    for item in dirs:\n",
        "        if os.path.isfile(path+item):\n",
        "            im = Image.open(path+item)\n",
        "            f, e = os.path.splitext(save+item)\n",
        "            img = cv2.imread(path+item)\n",
        "            for gamma in [2.2]:\n",
        "              gamma_corrected = np.array(255*(img / 255) ** gamma, dtype = 'uint8')\n",
        "              cv2.imwrite(f + '.jpg', gamma_corrected)           \n",
        "resize()\n"
      ],
      "metadata": {
        "id": "grxzq6BPC1kN"
      },
      "execution_count": null,
      "outputs": []
    },
    {
      "cell_type": "code",
      "source": [
        "# Create a directory\n",
        "directory = \"EOSINOPHIL_befor_resize\"\n",
        "  \n",
        "# Parent Directory path\n",
        "parent_dir = \"/content/\"\n",
        "  \n",
        "path = os.path.join(parent_dir, directory)\n",
        "  \n",
        "os.mkdir(path)\n",
        "\n",
        "src_dir = \"/content/Images/Images/\"\n",
        "dst_dir = \"/content/EOSINOPHIL_befor_resize/\"\n",
        "for i in listdir(src_dir):\n",
        "  for j in EOSINOPHIL.Image:\n",
        "     if i == str(j)+\".jpg\":\n",
        "          shutil.copy(src_dir+i, dst_dir)"
      ],
      "metadata": {
        "id": "Lf5dDcifEdKt"
      },
      "execution_count": null,
      "outputs": []
    },
    {
      "cell_type": "code",
      "source": [
        "#!/usr/bin/python\n",
        "from PIL import Image\n",
        "import os, sys\n",
        "\n",
        "directory = \"EOSINOPHIL_After_resize\"\n",
        "  \n",
        "# Parent Directory path\n",
        "parent_dir = \"/content/\"\n",
        "  \n",
        "path = os.path.join(parent_dir, directory)\n",
        "  \n",
        "os.mkdir(path)\n",
        "\n",
        "path = \"/content/EOSINOPHIL_befor_resize/\"\n",
        "dirs = os.listdir( path )\n",
        "save_new_img=\"/content/EOSINOPHIL_After_resize/\"\n",
        "def resize():\n",
        "    for item in dirs:\n",
        "        if os.path.isfile(path+item):\n",
        "            im = Image.open(path+item)\n",
        "            f, e = os.path.splitext(save_new_img+item)\n",
        "            imResize = im.resize((224,224), Image.ANTIALIAS)\n",
        "            imResize.save(f + '.jpg', 'JPEG', quality=90)\n",
        "\n",
        "resize()"
      ],
      "metadata": {
        "id": "kw4CGackEdUC"
      },
      "execution_count": null,
      "outputs": []
    },
    {
      "cell_type": "code",
      "source": [
        "directory = \"EOSINOPHIL\"\n",
        "  \n",
        "# Parent Directory path\n",
        "parent_dir = \"/content/\"\n",
        "  \n",
        "path = os.path.join(parent_dir, directory)\n",
        "  \n",
        "os.mkdir(path)\n",
        "path = \"/content/EOSINOPHIL_After_resize/\"\n",
        "dirs = os.listdir( path )\n",
        "save=\"/content/EOSINOPHIL/\"\n",
        "def resize():\n",
        "    for item in dirs:\n",
        "        if os.path.isfile(path+item):\n",
        "            im = Image.open(path+item)\n",
        "            f, e = os.path.splitext(save+item)\n",
        "            img = cv2.imread(path+item)\n",
        "            for gamma in [2.2]:\n",
        "              gamma_corrected = np.array(255*(img / 255) ** gamma, dtype = 'uint8')\n",
        "              cv2.imwrite(f + '.jpg', gamma_corrected)           \n",
        "resize()"
      ],
      "metadata": {
        "id": "jEHG9e8OEdXj"
      },
      "execution_count": null,
      "outputs": []
    },
    {
      "cell_type": "code",
      "source": [
        "# Create a directory\n",
        "directory = \"MONOCYTE_befor_resize\"\n",
        "  \n",
        "# Parent Directory path\n",
        "parent_dir = \"/content/\"\n",
        "  \n",
        "path = os.path.join(parent_dir, directory)\n",
        "  \n",
        "os.mkdir(path)\n",
        "\n",
        "src_dir = \"/content/Images/Images/\"\n",
        "dst_dir = \"/content/MONOCYTE_befor_resize/\"\n",
        "for i in listdir(src_dir):\n",
        "  for j in MONOCYTE.Image:\n",
        "     if i == str(j)+\".jpg\":\n",
        "          shutil.copy(src_dir+i, dst_dir)\n",
        "\n",
        "#!/usr/bin/python\n",
        "from PIL import Image\n",
        "import os, sys\n",
        "\n",
        "directory = \"MONOCYTE_After_resize\"\n",
        "  \n",
        "# Parent Directory path\n",
        "parent_dir = \"/content/\"\n",
        "  \n",
        "path = os.path.join(parent_dir, directory)\n",
        "  \n",
        "os.mkdir(path)\n",
        "\n",
        "path = \"/content/MONOCYTE_befor_resize/\"\n",
        "dirs = os.listdir( path )\n",
        "save_new_img=\"/content/MONOCYTE_After_resize/\"\n",
        "def resize():\n",
        "    for item in dirs:\n",
        "        if os.path.isfile(path+item):\n",
        "            im = Image.open(path+item)\n",
        "            f, e = os.path.splitext(save_new_img+item)\n",
        "            imResize = im.resize((224,224), Image.ANTIALIAS)\n",
        "            imResize.save(f + '.jpg', 'JPEG', quality=90)\n",
        "\n",
        "resize()\n",
        "\n",
        "directory = \"MONOCYTE\"\n",
        "  \n",
        "# Parent Directory path\n",
        "parent_dir = \"/content/\"\n",
        "  \n",
        "path = os.path.join(parent_dir, directory)\n",
        "  \n",
        "os.mkdir(path)\n",
        "path = \"/content/MONOCYTE_After_resize/\"\n",
        "dirs = os.listdir( path )\n",
        "save=\"/content/MONOCYTE/\"\n",
        "def resize():\n",
        "    for item in dirs:\n",
        "        if os.path.isfile(path+item):\n",
        "            im = Image.open(path+item)\n",
        "            f, e = os.path.splitext(save+item)\n",
        "            img = cv2.imread(path+item)\n",
        "            for gamma in [2.2]:\n",
        "              gamma_corrected = np.array(255*(img / 255) ** gamma, dtype = 'uint8')\n",
        "              cv2.imwrite(f + '.jpg', gamma_corrected)           \n",
        "resize()"
      ],
      "metadata": {
        "id": "mXgpo03JFH2E"
      },
      "execution_count": null,
      "outputs": []
    },
    {
      "cell_type": "code",
      "source": [
        "# Create a directory\n",
        "directory = \"LYMPHOCYTE_befor_resize\"\n",
        "  \n",
        "# Parent Directory path\n",
        "parent_dir = \"/content/\"\n",
        "  \n",
        "path = os.path.join(parent_dir, directory)\n",
        "  \n",
        "os.mkdir(path)\n",
        "\n",
        "src_dir = \"/content/Images/Images/\"\n",
        "dst_dir = \"/content/LYMPHOCYTE_befor_resize/\"\n",
        "for i in listdir(src_dir):\n",
        "  for j in LYMPHOCYTE.Image:\n",
        "     if i == str(j)+\".jpg\":\n",
        "          shutil.copy(src_dir+i, dst_dir)\n",
        "\n",
        "#!/usr/bin/python\n",
        "from PIL import Image\n",
        "import os, sys\n",
        "\n",
        "directory = \"LYMPHOCYTE_After_resize\"\n",
        "  \n",
        "# Parent Directory path\n",
        "parent_dir = \"/content/\"\n",
        "  \n",
        "path = os.path.join(parent_dir, directory)\n",
        "  \n",
        "os.mkdir(path)\n",
        "\n",
        "path = \"/content/LYMPHOCYTE_befor_resize/\"\n",
        "dirs = os.listdir( path )\n",
        "save_new_img=\"/content/LYMPHOCYTE_After_resize/\"\n",
        "def resize():\n",
        "    for item in dirs:\n",
        "        if os.path.isfile(path+item):\n",
        "            im = Image.open(path+item)\n",
        "            f, e = os.path.splitext(save_new_img+item)\n",
        "            imResize = im.resize((224,224), Image.ANTIALIAS)\n",
        "            imResize.save(f + '.jpg', 'JPEG', quality=90)\n",
        "\n",
        "resize()\n",
        "\n",
        "directory = \"LYMPHOCYTE\"\n",
        "  \n",
        "# Parent Directory path\n",
        "parent_dir = \"/content/\"\n",
        "  \n",
        "path = os.path.join(parent_dir, directory)\n",
        "  \n",
        "os.mkdir(path)\n",
        "path = \"/content/LYMPHOCYTE_After_resize/\"\n",
        "dirs = os.listdir( path )\n",
        "save=\"/content/LYMPHOCYTE/\"\n",
        "def resize():\n",
        "    for item in dirs:\n",
        "        if os.path.isfile(path+item):\n",
        "            im = Image.open(path+item)\n",
        "            f, e = os.path.splitext(save+item)\n",
        "            img = cv2.imread(path+item)\n",
        "            for gamma in [2.2]:\n",
        "              gamma_corrected = np.array(255*(img / 255) ** gamma, dtype = 'uint8')\n",
        "              cv2.imwrite(f + '.jpg', gamma_corrected)           \n",
        "resize()"
      ],
      "metadata": {
        "id": "Ranu8de-FnXL"
      },
      "execution_count": null,
      "outputs": []
    },
    {
      "cell_type": "code",
      "source": [
        "# Create a directory\n",
        "directory = \"test_befor_resize\"\n",
        "  \n",
        "# Parent Directory path\n",
        "parent_dir = \"/content/\"\n",
        "  \n",
        "path = os.path.join(parent_dir, directory)\n",
        "  \n",
        "os.mkdir(path)\n",
        "\n",
        "src_dir = \"/content/Images/Images/\"\n",
        "dst_dir = \"/content/test_befor_resize/\"\n",
        "for i in listdir(src_dir):\n",
        "  for j in test_df.Image:\n",
        "     if i == str(j)+\".jpg\":\n",
        "          shutil.copy(src_dir+i, dst_dir)\n",
        "\n",
        "#!/usr/bin/python\n",
        "from PIL import Image\n",
        "import os, sys\n",
        "\n",
        "directory = \"test_After_resize\"\n",
        "  \n",
        "# Parent Directory path\n",
        "parent_dir = \"/content/\"\n",
        "  \n",
        "path = os.path.join(parent_dir, directory)\n",
        "  \n",
        "os.mkdir(path)\n",
        "\n",
        "path = \"/content/test_befor_resize/\"\n",
        "dirs = os.listdir( path )\n",
        "save_new_img=\"/content/test_After_resize/\"\n",
        "def resize():\n",
        "    for item in dirs:\n",
        "        if os.path.isfile(path+item):\n",
        "            im = Image.open(path+item)\n",
        "            f, e = os.path.splitext(save_new_img+item)\n",
        "            imResize = im.resize((224,224), Image.ANTIALIAS)\n",
        "            imResize.save(f + '.jpg', 'JPEG', quality=90)\n",
        "resize()\n",
        "\n",
        "directory = \"test\"\n",
        "  \n",
        "# Parent Directory path\n",
        "parent_dir = \"/content/\"\n",
        "  \n",
        "path = os.path.join(parent_dir, directory)\n",
        "  \n",
        "os.mkdir(path)\n",
        "path = \"/content/test_After_resize/\"\n",
        "dirs = os.listdir( path )\n",
        "save=\"/content/test/\"\n",
        "def resize():\n",
        "    for item in dirs:\n",
        "        if os.path.isfile(path+item):\n",
        "            im = Image.open(path+item)\n",
        "            f, e = os.path.splitext(save+item)\n",
        "            img = cv2.imread(path+item)\n",
        "            for gamma in [2.2]:\n",
        "              gamma_corrected = np.array(255*(img / 255) ** gamma, dtype = 'uint8')\n",
        "              cv2.imwrite(f + '.jpg', gamma_corrected)           \n",
        "resize()"
      ],
      "metadata": {
        "id": "Dcgx-fwNF8-A"
      },
      "execution_count": null,
      "outputs": []
    },
    {
      "cell_type": "markdown",
      "source": [
        "# 3. Image Augmentation"
      ],
      "metadata": {
        "id": "mC0MgYT2YzDv"
      }
    },
    {
      "cell_type": "code",
      "source": [
        "! pip install Augmentor\n",
        "import glob\n",
        "import Augmentor\n",
        "p = Augmentor.Pipeline(\"/content/EOSINOPHIL/\")\n",
        "p.rotate(probability=0.7, max_left_rotation=10, max_right_rotation=10)\n",
        "p.zoom(probability=0.5, min_factor=1.1, max_factor=1.5)\n",
        "p.sample(200)"
      ],
      "metadata": {
        "id": "Czd75U9URVzd"
      },
      "execution_count": null,
      "outputs": []
    },
    {
      "cell_type": "code",
      "source": [
        "p = Augmentor.Pipeline(\"/content/LYMPHOCYTE/\")\n",
        "p.rotate(probability=0.7, max_left_rotation=10, max_right_rotation=10)\n",
        "p.zoom(probability=0.5, min_factor=1.1, max_factor=1.5)\n",
        "p.sample(200)"
      ],
      "metadata": {
        "id": "S9WN6ZT4XcPu"
      },
      "execution_count": null,
      "outputs": []
    },
    {
      "cell_type": "code",
      "source": [
        "p = Augmentor.Pipeline(\"/content/MONOCYTE/\")\n",
        "p.rotate(probability=0.7, max_left_rotation=10, max_right_rotation=10)\n",
        "p.zoom(probability=0.5, min_factor=1.1, max_factor=1.5)\n",
        "p.sample(200)"
      ],
      "metadata": {
        "id": "_phdEk7qXvSi"
      },
      "execution_count": null,
      "outputs": []
    },
    {
      "cell_type": "code",
      "source": [
        "p = Augmentor.Pipeline(\"/content/NEUTROPHIL\")\n",
        "p.rotate(probability=0.7, max_left_rotation=10, max_right_rotation=10)\n",
        "p.zoom(probability=0.5, min_factor=1.1, max_factor=1.5)\n",
        "p.sample(200)"
      ],
      "metadata": {
        "id": "wozBH7mMX80u"
      },
      "execution_count": null,
      "outputs": []
    },
    {
      "cell_type": "code",
      "source": [
        "import shutil\n",
        "# Create a directory\n",
        "directory = \"MONOCYTE_Final\"\n",
        "from os import listdir\n",
        "from os.path import join, isfile\n",
        "# Parent Directory path\n",
        "parent_dir = \"/content/\"\n",
        "  \n",
        "path = os.path.join(parent_dir, directory)\n",
        "  \n",
        "os.mkdir(path)\n",
        "src_path = \"/content/MONOCYTE/output\"\n",
        "dst_path = \"/content/MONOCYTE_Final\"\n",
        "\n",
        "src_dir = \"/content/MONOCYTE/output/\"\n",
        "dst_dir = \"/content/MONOCYTE_Final/\"\n",
        "for i in listdir(src_dir):\n",
        "   shutil.copy(src_dir+i, dst_dir)"
      ],
      "metadata": {
        "id": "wjHy2H4FZIyH"
      },
      "execution_count": null,
      "outputs": []
    },
    {
      "cell_type": "code",
      "source": [
        "directory_EOSINOPHIL_Final = \"EOSINOPHIL_Final4\"\n",
        "  \n",
        "# Parent Directory path\n",
        "parent_dir_EOSINOPHIL_Final = \"/content/\"\n",
        "  \n",
        "path = os.path.join(parent_dir_EOSINOPHIL_Final, directory_EOSINOPHIL_Final)\n",
        "  \n",
        "os.mkdir(path)\n",
        "a = \"/content/EOSINOPHIL/output/\"\n",
        "b = \"/content/EOSINOPHIL_Final4/\"\n",
        "for m in listdir(a):\n",
        "   shutil.copy(a+m, b)"
      ],
      "metadata": {
        "id": "UkoGPqnGcS95"
      },
      "execution_count": null,
      "outputs": []
    },
    {
      "cell_type": "code",
      "source": [
        "directory_LYMPHOCYTE_Final4 = \"LYMPHOCYTE_Final4\" \n",
        "# Parent Directory path\n",
        "parent_dir_LYMPHOCYTE_Final4 = \"/content/\"\n",
        "path = os.path.join(parent_dir_LYMPHOCYTE_Final4, directory_LYMPHOCYTE_Final4)\n",
        "os.mkdir(path)\n",
        "c = \"/content/LYMPHOCYTE/output/\"\n",
        "d = \"/content/LYMPHOCYTE_Final4/\"\n",
        "for y in listdir(c):\n",
        "   shutil.copy(c+y, d)"
      ],
      "metadata": {
        "id": "gCaer5GJdl-l"
      },
      "execution_count": null,
      "outputs": []
    },
    {
      "cell_type": "code",
      "source": [
        "directory = \"NEUTROPHIL_Final4\"\n",
        "# Parent Directory path\n",
        "parent_dir = \"/content/\"  \n",
        "path = os.path.join(parent_dir, directory)  \n",
        "os.mkdir(path)\n",
        "e = \"/content/NEUTROPHIL/output/\"\n",
        "f = \"/content/NEUTROPHIL_Final4/\"\n",
        "for k in listdir(e):\n",
        "   shutil.copy(e+k, f)"
      ],
      "metadata": {
        "id": "FdK3ftSneH9C"
      },
      "execution_count": null,
      "outputs": []
    },
    {
      "cell_type": "code",
      "source": [
        "# directory = \"MONOCYTE\"\n",
        "# # Parent Directory path\n",
        "# parent_dir = \"/content/data\"  \n",
        "# path = os.path.join(parent_dir, directory)  \n",
        "# os.mkdir(path)\n",
        "# w1 = \"/content/EOSINOPHIL/output/\"\n",
        "# m1 = \"/content/data/EOSINOPHIL\"\n",
        "# for k in listdir(w1):\n",
        "#    shutil.copy(w1+k, m1)\n",
        "\n",
        "# directory = \"Data_Final\"\n",
        "# # Parent Directory path\n",
        "# parent_dir = \"/content/\"  \n",
        "# path = os.path.join(parent_dir, directory)  \n",
        "# os.mkdir(path)\n",
        "directory = \"test\"\n",
        "# Parent Directory path\n",
        "parent_dir = \"/content/Data_Final\"  \n",
        "path = os.path.join(parent_dir, directory)  \n",
        "os.mkdir(path)\n",
        "\n",
        "w1 = \"/content/EOSINOPHIL/output/\"\n",
        "m1 = \"/content/Data_Final/test\"\n",
        "for k in listdir(w1):\n",
        "   shutil.copy(w1+k, m1)"
      ],
      "metadata": {
        "id": "qjaumd3bsID3"
      },
      "execution_count": null,
      "outputs": []
    },
    {
      "cell_type": "code",
      "source": [
        "import numpy as np \n",
        "import matplotlib.pyplot as plt\n",
        "import glob\n",
        "import cv2\n",
        "import os\n",
        "import seaborn as sns\n",
        "import pandas as pd\n",
        "from skimage.filters import sobel\n",
        "from skimage.feature import greycomatrix, greycoprops\n",
        "from skimage.measure import shannon_entropy\n",
        "\n",
        "print(os.listdir(\"/content/data\"))\n",
        "\n",
        "#Resize images to\n",
        "SIZE = 128\n",
        "\n",
        "#Capture images and labels into arrays.\n",
        "#Start by creating empty lists.\n",
        "train_images = []\n",
        "train_labels = [] "
      ],
      "metadata": {
        "id": "MDfvr5-Pr1Ae"
      },
      "execution_count": null,
      "outputs": []
    },
    {
      "cell_type": "code",
      "source": [
        "#Capture images and labels into arrays.\n",
        "#Start by creating empty lists.\n",
        "train_images = []\n",
        "train_labels = [] \n",
        "#for directory_path in glob.glob(\"cell_images/train/*\"):\n",
        "for directory_path in glob.glob(\"/content/data/*\"):\n",
        "    label = directory_path.split(\"\\\\\")[-1]\n",
        "    print(label)\n",
        "    for img_path in glob.glob(os.path.join(directory_path, \"*.jpg\")):\n",
        "        print(img_path)\n",
        "        img = cv2.imread(img_path, 0) #Reading color images\n",
        "        img = cv2.resize(img, (SIZE, SIZE)) #Resize images\n",
        "        train_images.append(img)\n",
        "        train_labels.append(label)\n",
        "        \n",
        "train_images = np.array(train_images)\n",
        "train_labels = np.array(train_labels)\n"
      ],
      "metadata": {
        "id": "Xr1cNsh6tkNw"
      },
      "execution_count": null,
      "outputs": []
    },
    {
      "cell_type": "code",
      "source": [
        "#Do exactly the same for test/validation images\n",
        "# test\n",
        "test_images = []\n",
        "test_labels = []\n",
        "#for directory_path in glob.glob(\"cell_images/test/*\"): \n",
        "for directory_path in glob.glob(\"/content/data/*\"):\n",
        "    fruit_label = directory_path.split(\"\\\\\")[-1]\n",
        "    for img_path in glob.glob(os.path.join(directory_path, \"*.jpg\")):\n",
        "        img = cv2.imread(img_path, 0)\n",
        "        img = cv2.resize(img, (SIZE, SIZE))\n",
        "        test_images.append(img)\n",
        "        test_labels.append(fruit_label)\n",
        "        \n",
        "test_images = np.array(test_images)\n",
        "test_labels = np.array(test_labels)"
      ],
      "metadata": {
        "id": "ZUIF3cQrty62"
      },
      "execution_count": null,
      "outputs": []
    },
    {
      "cell_type": "code",
      "source": [
        "#Encode labels from text (folder names) to integers.\n",
        "from sklearn import preprocessing\n",
        "le = preprocessing.LabelEncoder()\n",
        "le.fit(test_labels)\n",
        "test_labels_encoded = le.transform(test_labels)\n",
        "le.fit(train_labels)\n",
        "train_labels_encoded = le.transform(train_labels)"
      ],
      "metadata": {
        "id": "NfhAKPpHveq3"
      },
      "execution_count": null,
      "outputs": []
    },
    {
      "cell_type": "code",
      "source": [
        "#Split data into test and train datasets (already split but assigning to meaningful convention)\n",
        "#If you only have one dataset then split here\n",
        "x_train, y_train, x_test, y_test = train_images, train_labels_encoded, test_images, test_labels_encoded"
      ],
      "metadata": {
        "id": "nkgrvndiviPY"
      },
      "execution_count": null,
      "outputs": []
    },
    {
      "cell_type": "code",
      "source": [
        "###################################################################\n",
        "# FEATURE EXTRACTOR function\n",
        "# input shape is (n, x, y, c) - number of images, x, y, and channels\n",
        "def feature_extractor(dataset):\n",
        "    image_dataset = pd.DataFrame()\n",
        "    for image in range(dataset.shape[0]):  #iterate through each file \n",
        "        #print(image)\n",
        "        \n",
        "        df = pd.DataFrame()  #Temporary data frame to capture information for each loop.\n",
        "        #Reset dataframe to blank after each loop.\n",
        "        \n",
        "        img = dataset[image, :,:]\n",
        "    ################################################################\n",
        "    #START ADDING DATA TO THE DATAFRAME\n",
        "  \n",
        "                \n",
        "         #Full image\n",
        "        #GLCM = greycomatrix(img, [1], [0, np.pi/4, np.pi/2, 3*np.pi/4])\n",
        "        GLCM = greycomatrix(img, [1], [0])       \n",
        "        GLCM_Energy = greycoprops(GLCM, 'energy')[0]\n",
        "        df['Energy'] = GLCM_Energy\n",
        "        GLCM_corr = greycoprops(GLCM, 'correlation')[0]\n",
        "        df['Corr'] = GLCM_corr       \n",
        "        GLCM_diss = greycoprops(GLCM, 'dissimilarity')[0]\n",
        "        df['Diss_sim'] = GLCM_diss       \n",
        "        GLCM_hom = greycoprops(GLCM, 'homogeneity')[0]\n",
        "        df['Homogen'] = GLCM_hom       \n",
        "        GLCM_contr = greycoprops(GLCM, 'contrast')[0]\n",
        "        df['Contrast'] = GLCM_contr\n",
        "\n",
        "\n",
        "        GLCM2 = greycomatrix(img, [3], [0])       \n",
        "        GLCM_Energy2 = greycoprops(GLCM2, 'energy')[0]\n",
        "        df['Energy2'] = GLCM_Energy2\n",
        "        GLCM_corr2 = greycoprops(GLCM2, 'correlation')[0]\n",
        "        df['Corr2'] = GLCM_corr2       \n",
        "        GLCM_diss2 = greycoprops(GLCM2, 'dissimilarity')[0]\n",
        "        df['Diss_sim2'] = GLCM_diss2       \n",
        "        GLCM_hom2 = greycoprops(GLCM2, 'homogeneity')[0]\n",
        "        df['Homogen2'] = GLCM_hom2       \n",
        "        GLCM_contr2 = greycoprops(GLCM2, 'contrast')[0]\n",
        "        df['Contrast2'] = GLCM_contr2\n",
        "\n",
        "        GLCM3 = greycomatrix(img, [5], [0])       \n",
        "        GLCM_Energy3 = greycoprops(GLCM3, 'energy')[0]\n",
        "        df['Energy3'] = GLCM_Energy3\n",
        "        GLCM_corr3 = greycoprops(GLCM3, 'correlation')[0]\n",
        "        df['Corr3'] = GLCM_corr3       \n",
        "        GLCM_diss3 = greycoprops(GLCM3, 'dissimilarity')[0]\n",
        "        df['Diss_sim3'] = GLCM_diss3       \n",
        "        GLCM_hom3 = greycoprops(GLCM3, 'homogeneity')[0]\n",
        "        df['Homogen3'] = GLCM_hom3       \n",
        "        GLCM_contr3 = greycoprops(GLCM3, 'contrast')[0]\n",
        "        df['Contrast3'] = GLCM_contr3\n",
        "\n",
        "        GLCM4 = greycomatrix(img, [0], [np.pi/4])       \n",
        "        GLCM_Energy4 = greycoprops(GLCM4, 'energy')[0]\n",
        "        df['Energy4'] = GLCM_Energy4\n",
        "        GLCM_corr4 = greycoprops(GLCM4, 'correlation')[0]\n",
        "        df['Corr4'] = GLCM_corr4       \n",
        "        GLCM_diss4 = greycoprops(GLCM4, 'dissimilarity')[0]\n",
        "        df['Diss_sim4'] = GLCM_diss4       \n",
        "        GLCM_hom4 = greycoprops(GLCM4, 'homogeneity')[0]\n",
        "        df['Homogen4'] = GLCM_hom4       \n",
        "        GLCM_contr4 = greycoprops(GLCM4, 'contrast')[0]\n",
        "        df['Contrast4'] = GLCM_contr4\n",
        "        \n",
        "        GLCM5 = greycomatrix(img, [0], [np.pi/2])       \n",
        "        GLCM_Energy5 = greycoprops(GLCM5, 'energy')[0]\n",
        "        df['Energy5'] = GLCM_Energy5\n",
        "        GLCM_corr5 = greycoprops(GLCM5, 'correlation')[0]\n",
        "        df['Corr5'] = GLCM_corr5       \n",
        "        GLCM_diss5 = greycoprops(GLCM5, 'dissimilarity')[0]\n",
        "        df['Diss_sim5'] = GLCM_diss5       \n",
        "        GLCM_hom5 = greycoprops(GLCM5, 'homogeneity')[0]\n",
        "        df['Homogen5'] = GLCM_hom5       \n",
        "        GLCM_contr5 = greycoprops(GLCM5, 'contrast')[0]\n",
        "        df['Contrast5'] = GLCM_contr5\n",
        "        \n",
        "        #Add more filters as needed\n",
        "        #entropy = shannon_entropy(img)\n",
        "        #df['Entropy'] = entropy\n",
        "\n",
        "        \n",
        "        #Append features from current image to the dataset\n",
        "        image_dataset = image_dataset.append(df)\n",
        "        \n",
        "    return image_dataset\n",
        "####################################################################"
      ],
      "metadata": {
        "id": "3IYBcrOMviRc"
      },
      "execution_count": null,
      "outputs": []
    },
    {
      "cell_type": "code",
      "source": [
        "#Extract features from training images\n",
        "image_features = feature_extractor(x_train)\n",
        "X_for_ML =image_features"
      ],
      "metadata": {
        "id": "9kziM5xEvut_"
      },
      "execution_count": null,
      "outputs": []
    },
    {
      "cell_type": "code",
      "source": [
        "#Reshape to a vector for Random Forest / SVM training\n",
        "n_features = image_features.shape[1]\n",
        "image_features = np.expand_dims(image_features, axis=0)\n",
        "X_for_ML = np.reshape(image_features, (x_train.shape[0], -1))  #Reshape to #images, features\n",
        "\n",
        "#Define the classifier\n",
        "from sklearn.ensemble import RandomForestClassifier\n",
        "RF_model = RandomForestClassifier(n_estimators = 50, random_state = 42)\n",
        "\n",
        "#Can also use SVM but RF is faster and may be more accurate.\n",
        "from sklearn import svm\n",
        "SVM_model = svm.SVC(decision_function_shape='ovo')  #For multiclass classification\n",
        "SVM_model.fit(X_for_ML, y_train)\n",
        "\n",
        "#Fit the model on training data\n",
        "RF_model.fit(X_for_ML, y_train) #For sklearn no one hot encoding"
      ],
      "metadata": {
        "id": "iDrNUSv8viUP"
      },
      "execution_count": null,
      "outputs": []
    },
    {
      "cell_type": "code",
      "source": [
        "import lightgbm as lgb\n",
        " #Class names for LGBM start at 0 so reassigning labels from 1,2,3,4 to 0,1,2,3\n",
        "d_train = lgb.Dataset(X_for_ML, label=y_train)\n",
        "\n",
        "# https://lightgbm.readthedocs.io/en/latest/Parameters.html\n",
        "lgbm_params = {'learning_rate':0.05, 'boosting_type':'dart',    \n",
        "              'objective':'multiclass',\n",
        "              'metric': 'multi_logloss',\n",
        "              'num_leaves':100,\n",
        "              'max_depth':10,\n",
        "              'num_class':4}  #no.of unique values in the target class not inclusive of the end value\n",
        "\n",
        "\n",
        "lgb_model = lgb.train(lgbm_params, d_train, 100) #50 iterations. Increase iterations for small learning rates\n",
        "\n"
      ],
      "metadata": {
        "id": "mgy7N5hXviXk"
      },
      "execution_count": null,
      "outputs": []
    },
    {
      "cell_type": "code",
      "source": [
        "#Predict on Test data\n",
        "#Extract features from test data and reshape, just like training data\n",
        "test_features = feature_extractor(x_test)\n",
        "test_features = np.expand_dims(test_features, axis=0)\n",
        "test_for_RF = np.reshape(test_features, (x_test.shape[0], -1))\n",
        "\n",
        "#Predict on test\n",
        "test_prediction = lgb_model.predict(test_for_RF)\n",
        "test_prediction=np.argmax(test_prediction, axis=1)\n",
        "#Inverse le transform to get original label back. \n",
        "test_prediction = le.inverse_transform(test_prediction)"
      ],
      "metadata": {
        "id": "t8_kl7y9wKMr"
      },
      "execution_count": null,
      "outputs": []
    },
    {
      "cell_type": "code",
      "source": [
        "#Print overall accuracy\n",
        "from sklearn import metrics\n",
        "print (\"Accuracy = \", metrics.accuracy_score(test_labels, test_prediction))\n",
        "#Print confusion matrix\n",
        "from sklearn.metrics import confusion_matrix\n",
        "cm = confusion_matrix(test_labels, test_prediction)"
      ],
      "metadata": {
        "id": "37ATCErSwKZQ"
      },
      "execution_count": null,
      "outputs": []
    },
    {
      "cell_type": "code",
      "source": [
        "fig, ax = plt.subplots(figsize=(6,6))         # Sample figsize in inches\n",
        "sns.set(font_scale=1.6)\n",
        "sns.heatmap(cm, annot=True, linewidths=.5, ax=ax)"
      ],
      "metadata": {
        "id": "klBKT5wGwc4h"
      },
      "execution_count": null,
      "outputs": []
    },
    {
      "cell_type": "code",
      "source": [
        "#Check results on a few random images\n",
        "import random\n",
        "n=random.randint(0, x_test.shape[0]-1)\n",
        "#Select the index of image to be loaded for testing\n",
        "img = x_test[n]\n",
        "plt.imshow(img)\n",
        "\n",
        "#Extract features and reshape to right dimensions\n",
        "input_img = np.expand_dims(img, axis=0) #Expand dims so the input is (num images, x, y, c)\n",
        "input_img_features=feature_extractor(input_img)\n",
        "input_img_features = np.expand_dims(input_img_features, axis=0)\n",
        "input_img_for_RF = np.reshape(input_img_features, (input_img.shape[0], -1))\n",
        "#Predict\n",
        "img_prediction = lgb_model.predict(input_img_for_RF)\n",
        "img_prediction=np.argmax(img_prediction, axis=1)\n",
        "img_prediction = le.inverse_transform([img_prediction])  #Reverse the label encoder to original name\n",
        "print(\"The prediction for this image is: \", img_prediction)\n",
        "print(\"The actual label for this image is: \", test_labels[n])"
      ],
      "metadata": {
        "id": "raJ-1ZaPwexy"
      },
      "execution_count": null,
      "outputs": []
    }
  ]
}