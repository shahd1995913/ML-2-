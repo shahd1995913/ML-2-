{
  "nbformat": 4,
  "nbformat_minor": 0,
  "metadata": {
    "colab": {
      "name": "saedv1.ipynb",
      "private_outputs": true,
      "provenance": [],
      "authorship_tag": "ABX9TyOy25u1FEA1lYvma9H8dosW",
      "include_colab_link": true
    },
    "kernelspec": {
      "name": "python3",
      "display_name": "Python 3"
    },
    "language_info": {
      "name": "python"
    }
  },
  "cells": [
    {
      "cell_type": "markdown",
      "metadata": {
        "id": "view-in-github",
        "colab_type": "text"
      },
      "source": [
        "<a href=\"https://colab.research.google.com/github/shahd1995913/Machine-Learning/blob/main/6.%20Recommendation%20System/saedv1.ipynb\" target=\"_parent\"><img src=\"https://colab.research.google.com/assets/colab-badge.svg\" alt=\"Open In Colab\"/></a>"
      ]
    },
    {
      "cell_type": "code",
      "source": [
        "! pip install kaggle\n",
        "! mkdir ~/.kaggle\n",
        "! cp kaggle.json ~/.kaggle/\n",
        "! chmod 600 ~/.kaggle/kaggle.json\n",
        "! kaggle competitions download anime-recommendation-system-by-tah\n",
        "! unzip /content/anime-recommendation-system-by-tah.zip\n",
        "import pandas as pd"
      ],
      "metadata": {
        "id": "wQjLYe04OMQl"
      },
      "execution_count": null,
      "outputs": []
    },
    {
      "cell_type": "code",
      "execution_count": null,
      "metadata": {
        "id": "2eyDdQ9sN_5U"
      },
      "outputs": [],
      "source": [
        "import matplotlib.pyplot as plt\n",
        "import numpy as np\n",
        "import pandas as pd\n",
        "import seaborn as sns\n",
        "from sklearn.metrics.pairwise import cosine_similarity\n",
        "from sklearn.preprocessing import OneHotEncoder\n",
        "from scipy.sparse import csr_matrix\n",
        "from sklearn.neighbors import NearestNeighbors\n",
        "from sklearn.model_selection import train_test_split\n",
        "\n",
        "train = pd.read_csv('/content/train.csv')\n",
        "anime = pd.read_csv('/content/anime.csv')\n",
        "rating_complettly = pd.read_csv('/content/rating_complete.csv')\n",
        "watching_statuees = pd.read_csv('/content/watching_status.csv')\n",
        "sample = pd.read_csv('/content/sample.csv')\n",
        "pd.set_option('display.max_columns', 10)\n"
      ]
    },
    {
      "cell_type": "code",
      "source": [
        "train = train[['anime_id','rating','watching_status']].copy()\n",
        "train['MAL_ID'] = train['anime_id']\n",
        "train = train.drop(['anime_id'],axis=1)\n",
        "train['rating'] = train['rating']/2\n",
        "train['watching_status'] = train['watching_status']/2"
      ],
      "metadata": {
        "id": "jXF-Ba1-O_es"
      },
      "execution_count": null,
      "outputs": []
    },
    {
      "cell_type": "code",
      "source": [
        "train=pd.DataFrame(train)\n",
        "anime1 = anime[['Genres', 'MAL_ID']].copy()\n",
        "anime1['Genres'] = anime1.Genres.str.split(', ')\n",
        "anime1 = anime1.replace('Action','aa')\n",
        "x = []\n",
        "for index, row in anime1.iterrows():\n",
        "    x.append(index)\n",
        "    for genre in row['Genres']:\n",
        "        anime1.at[index, genre] = 1"
      ],
      "metadata": {
        "id": "FmXkFOYxPDI-"
      },
      "execution_count": null,
      "outputs": []
    },
    {
      "cell_type": "code",
      "source": [
        "\n",
        "\n",
        "# Confirm that every row has been iterated and acted upon\n",
        "anime1 = anime1.drop('Genres', axis=1)\n",
        "anime1 = anime1.drop('Unknown', axis=1)\n",
        "\n",
        "anime1 = anime1.fillna(0)\n",
        "# print(anime1.head(10))\n",
        "a = 0\n",
        "b = 100\n",
        "z = 0\n",
        "while b < 1515301:\n",
        "    Lawrence_movie_ratings = train[a:b]\n",
        "    Lawrence_movie_ratings1 = train[a:b]\n",
        "    Lawrence_movie_Id = anime1[anime1['MAL_ID'].isin(Lawrence_movie_ratings['MAL_ID'])]\n",
        "    Lawrence_movie_ratings = pd.merge(Lawrence_movie_Id, Lawrence_movie_ratings)\n",
        "    # print(Lawrencpre_movie_ratings.columns)\n",
        "    v = Lawrence_movie_ratings1.MAL_ID.values\n",
        "    Lawrence_movie_ratings = Lawrence_movie_ratings[['MAL_ID', 'rating','watching_status']].copy()\n",
        "    # print(Lawrence_movie_ratings)\n",
        "\n",
        "    Lawrence_genres_df = anime1[anime1.MAL_ID.isin(Lawrence_movie_ratings.MAL_ID)]\n",
        "    # print(Lawrence_genres_df)\n",
        "    Lawrence_genres_df = Lawrence_genres_df.drop(['MAL_ID'], axis=1)\n",
        "    Lawrence_genres_df = Lawrence_genres_df.reset_index()\n",
        "    Lawrence_genres_df = Lawrence_genres_df.drop(['index'],axis=1)\n",
        "    # print(Lawrence_genres_df)\n",
        "    # print(Lawrence_movie_ratings)\n",
        "    # print('Shape of Lawrence_movie_ratings is:',Lawrence_movie_ratings.shape)\n",
        "    # print('Shape of Lawrence_genres_df is:',Lawrence_genres_df.shape)\n",
        "    # print(Lawrence_movie_ratings)\n",
        "    # print(Lawrence_genres_df)\n",
        "    Lawrence_profile = Lawrence_genres_df.T.dot(Lawrence_movie_ratings.rating)\n",
        "    # Lawrence_profile = Lawrence_genres_df.sum(Lawrence_movie_ratings.watching_status)\n",
        "    # print(Lawrence_profile[0:50])\n",
        "    # print('Shape of Lawrence_profile is:',Lawrence_profile.shape)\n",
        "    movies_with_genres = anime1.set_index(anime1.MAL_ID)\n",
        "    movies_with_genres = movies_with_genres.drop(['MAL_ID'],axis=1)\n",
        "    # movies_with_genres=movies_with_genres[:8]\n",
        "    # print(movies_with_genres)\n",
        "\n",
        "    recommendation_table_df = (movies_with_genres.dot(Lawrence_profile)) / Lawrence_profile.sum()\n",
        "    # print(recommendation_table_df.head())\n",
        "\n",
        "    recommendation_table_df.sort_values(ascending=False, inplace=True)\n",
        "    #Just a peek at the values\n",
        "    if recommendation_table_df.isnull().values.any():\n",
        "        Lawrence_profile = Lawrence_genres_df.T.dot(Lawrence_movie_ratings.watching_status)\n",
        "        movies_with_genres = anime1.set_index(anime1.MAL_ID)\n",
        "        movies_with_genres = movies_with_genres.drop(['MAL_ID'], axis=1)\n",
        "        # movies_with_genres=movies_with_genres[:8]\n",
        "        # print(movies_with_genres)\n",
        "\n",
        "        recommendation_table_df = (movies_with_genres.dot(Lawrence_profile)) / Lawrence_profile.sum()\n",
        "        recommendation_table_df.sort_values(ascending=False, inplace=True)\n",
        "        print(recommendation_table_df)\n",
        "    # print(recommendation_table_df.head(5))\n",
        "    # recommendation_table_df.values = recommendation_table_df.values != Lawrence_movie_ratings.MAL_ID\n",
        "    q =recommendation_table_df.index.values[:50]\n",
        "    h =[]\n",
        "    for q1 in q:\n",
        "        if q1 not in v:\n",
        "            h.append(q1)\n",
        "    h = np.array(h, dtype=str)\n",
        "    z1 = ' '.join(h[:5])\n",
        "\n",
        "    sample['anime_ids'].iloc[z] = z1\n",
        "\n",
        "    # Next we enlist the top 20 recommended movieIds we defined above\n",
        "\n",
        "\n",
        "    # Now we can display the top 20 movies in descending order of preference\n",
        "    # print(recommended_movies)\n",
        "    z+=1\n",
        "    a+=100\n",
        "    b+=100\n",
        "    print(z)\n",
        "sample.to_csv('fixed_output__04.csv', index=False)"
      ],
      "metadata": {
        "id": "Gw-uOmP3OZBH"
      },
      "execution_count": null,
      "outputs": []
    }
  ]
}