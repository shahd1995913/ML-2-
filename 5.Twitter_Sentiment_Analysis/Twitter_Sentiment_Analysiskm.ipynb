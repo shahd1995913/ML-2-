{
  "nbformat": 4,
  "nbformat_minor": 0,
  "metadata": {
    "colab": {
      "name": "Twitter Sentiment Analysiskm.ipynb",
      "private_outputs": true,
      "provenance": [],
      "authorship_tag": "ABX9TyMyLfhhZKr7ufitC3kIkY+o",
      "include_colab_link": true
    },
    "kernelspec": {
      "name": "python3",
      "display_name": "Python 3"
    },
    "language_info": {
      "name": "python"
    }
  },
  "cells": [
    {
      "cell_type": "markdown",
      "metadata": {
        "id": "view-in-github",
        "colab_type": "text"
      },
      "source": [
        "<a href=\"https://colab.research.google.com/github/shahd1995913/Machine-Learning/blob/main/5.Twitter_Sentiment_Analysis/Twitter_Sentiment_Analysiskm.ipynb\" target=\"_parent\"><img src=\"https://colab.research.google.com/assets/colab-badge.svg\" alt=\"Open In Colab\"/></a>"
      ]
    },
    {
      "cell_type": "code",
      "execution_count": null,
      "metadata": {
        "id": "H8niv-jFdHrc"
      },
      "outputs": [],
      "source": [
        "! pip install kaggle\n",
        "! mkdir ~/.kaggle\n",
        "! cp kaggle.json ~/.kaggle/\n",
        "! chmod 600 ~/.kaggle/kaggle.json\n",
        "! kaggle competitions download twitter-sentiment-analysis-tah\n",
        "! unzip /content/twitter-sentiment-analysis-tah.zip"
      ]
    },
    {
      "cell_type": "code",
      "source": [
        "\n",
        "import pandas as pd\n",
        "df = pd.read_csv(\"/content/train.csv\")\n",
        "del  df[\"flag\"]\n",
        "del  df[\"id\"]\n",
        "del  df[\"user\"]\n",
        "del  df[\"date\"]\n",
        "\n",
        "# import the dataset from sklearn\n",
        "from sklearn.datasets import fetch_20newsgroups\n",
        "from sklearn.feature_extraction.text import TfidfVectorizer\n",
        "from sklearn.cluster import KMeans\n",
        "from sklearn.decomposition import PCA\n",
        "\n",
        "# import other required libs\n",
        "import pandas as pd\n",
        "import numpy as np\n",
        "\n",
        "# string manipulation libs\n",
        "import re\n",
        "import string\n",
        "import nltk\n",
        "from nltk.corpus import stopwords\n",
        "\n",
        "# viz libs\n",
        "import matplotlib.pyplot as plt\n",
        "import seaborn as sns\n",
        "\n",
        "\n",
        "import nltk\n",
        "from nltk.corpus import stopwords\n",
        "# nltk.download('stopwords')\n",
        "\n",
        "# stopwords.words(\"english\")[:10] # <-- import the english stopwords\n",
        "\n",
        "# initialize the vectorizer\n",
        "vectorizer = TfidfVectorizer(sublinear_tf=True, min_df=5, max_df=0.95)\n",
        "# fit_transform applies TF-IDF to clean texts - we save the array of vectors in X\n",
        "X = vectorizer.fit_transform(df['text'])\n",
        "from sklearn.cluster import KMeans\n",
        "# initialize kmeans with 2 centroids\n",
        "kmeans = KMeans(n_clusters=2, random_state=42)\n",
        "# fit the model\n",
        "kmeans.fit(X)\n",
        "# store cluster labels in a variable\n",
        "clusters = kmeans.labels_\n",
        "from sklearn.decomposition import PCA\n",
        "\n",
        "# initialize PCA with 2 components\n",
        "pca = PCA(n_components=2, random_state=42)\n",
        "# pass our X to the pca and store the reduced vectors into pca_vecs\n",
        "pca_vecs = pca.fit_transform(X.toarray())\n",
        "# save our two dimensions into x0 and x1\n",
        "x0 = pca_vecs[:, 0]\n",
        "x1 = pca_vecs[:, 1]"
      ],
      "metadata": {
        "id": "9HSgA9hYdNXl"
      },
      "execution_count": null,
      "outputs": []
    },
    {
      "cell_type": "code",
      "source": [
        "def get_top_keywords(n_terms):\n",
        "    \"\"\"This function returns the keywords for each centroid of the KMeans\"\"\"\n",
        "    df = pd.DataFrame(X.todense()).groupby(clusters).mean() # groups the TF-IDF vector by cluster\n",
        "    terms = vectorizer.get_feature_names_out() # access tf-idf terms\n",
        "    for i,r in df.iterrows():\n",
        "        print('\\nCluster {}'.format(i))\n",
        "        print(','.join([terms[t] for t in np.argsort(r)[-n_terms:]])) # for each row of the dataframe, find the n terms that have the highest tf idf score\n",
        "            \n",
        "get_top_keywords(10)\n",
        "# map clusters to appropriate labels \n",
        "cluster_map = {0: \"sport\", 1: \"tech\", 2: \"religion\"}\n",
        "# apply mapping\n",
        "df['cluster'] = df['cluster'].map(cluster_map)\n",
        "# set image size\n",
        "plt.figure(figsize=(12, 7))\n",
        "# set a title\n",
        "plt.title(\"TF-IDF + KMeans 20newsgroup clustering\", fontdict={\"fontsize\": 18})\n",
        "# set axes names\n",
        "plt.xlabel(\"X0\", fontdict={\"fontsize\": 16})\n",
        "plt.ylabel(\"X1\", fontdict={\"fontsize\": 16})\n",
        "# create scatter plot with seaborn, where hue is the class used to group the data\n",
        "sns.scatterplot(data=df, x='x0', y='x1', hue='cluster', palette=\"viridis\")\n",
        "plt.show()"
      ],
      "metadata": {
        "id": "5kiTT43TfNGW"
      },
      "execution_count": null,
      "outputs": []
    },
    {
      "cell_type": "markdown",
      "source": [
        "[The link for code](https://medium.com/mlearning-ai/text-clustering-with-tf-idf-in-python-c94cd26a31e7)"
      ],
      "metadata": {
        "id": "3sMPm_6AfYuW"
      }
    }
  ]
}