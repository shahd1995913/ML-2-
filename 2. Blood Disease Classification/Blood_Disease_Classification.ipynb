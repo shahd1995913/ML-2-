{
  "nbformat": 4,
  "nbformat_minor": 0,
  "metadata": {
    "colab": {
      "name": "Blood Disease Classification.ipynb",
      "private_outputs": true,
      "provenance": [],
      "authorship_tag": "ABX9TyP3zjH2YAFZUgX0pAUYZ26R",
      "include_colab_link": true
    },
    "kernelspec": {
      "name": "python3",
      "display_name": "Python 3"
    },
    "language_info": {
      "name": "python"
    }
  },
  "cells": [
    {
      "cell_type": "markdown",
      "metadata": {
        "id": "view-in-github",
        "colab_type": "text"
      },
      "source": [
        "<a href=\"https://colab.research.google.com/github/shahd1995913/ML-2-/blob/main/2.%20Blood%20Disease%20Classification/Blood_Disease_Classification.ipynb\" target=\"_parent\"><img src=\"https://colab.research.google.com/assets/colab-badge.svg\" alt=\"Open In Colab\"/></a>"
      ]
    },
    {
      "cell_type": "code",
      "execution_count": null,
      "metadata": {
        "id": "rCgqQGECMbes"
      },
      "outputs": [],
      "source": [
        "! pip install kaggle"
      ]
    },
    {
      "cell_type": "code",
      "source": [
        "! mkdir ~/.kaggle\n",
        "! cp kaggle.json ~/.kaggle/\n",
        "! chmod 600 ~/.kaggle/kaggle.json\n",
        "! kaggle competitions download blood-disease-classification-tah\n",
        "! unzip /content/blood-disease-classification-tah.zip"
      ],
      "metadata": {
        "id": "04_3MtBTMrIP"
      },
      "execution_count": null,
      "outputs": []
    },
    {
      "cell_type": "code",
      "source": [
        "import pandas as pd\n",
        "import numpy as np\n",
        "import copy\n",
        "import seaborn as sns\n",
        "import matplotlib.pyplot as plt\n",
        "%matplotlib inline\n",
        "train_df = pd.read_csv(\"/content/train_set.csv\")\n",
        "test_df = pd.read_csv(\"/content/test_set.csv\")"
      ],
      "metadata": {
        "id": "Ze3ok6P5N8_c"
      },
      "execution_count": null,
      "outputs": []
    },
    {
      "cell_type": "code",
      "source": [
        "print(train_df['Image'].dtypes)\n",
        "print(train_df['Category'].dtypes)"
      ],
      "metadata": {
        "id": "wl3mvbHEN9NO"
      },
      "execution_count": null,
      "outputs": []
    },
    {
      "cell_type": "code",
      "source": [
        "print(train_df['Category'].value_counts())"
      ],
      "metadata": {
        "id": "Hh62V5jAN9Pb"
      },
      "execution_count": null,
      "outputs": []
    },
    {
      "cell_type": "code",
      "source": [
        "Category = train_df['Category'].value_counts()\n",
        "sns.set(style=\"darkgrid\")\n",
        "sns.barplot(Category.index, Category.values, alpha=.955)\n",
        "plt.title('Frequency Distribution of Category')\n",
        "plt.ylabel('Number of Occurrences', fontsize=12)\n",
        "plt.xlabel('Blood Disease Type', fontsize=12)\n",
        "plt.show()"
      ],
      "metadata": {
        "id": "hkrxYRaXN9Ri"
      },
      "execution_count": null,
      "outputs": []
    },
    {
      "cell_type": "code",
      "source": [
        "from os import listdir\n",
        "from os.path import isfile, join\n",
        "import imageio\n",
        "import os\n",
        "path = \"/content/Images/Images\"\n",
        "files = os.listdir(path)\n",
        "\n",
        "for index, file in enumerate(files):\n",
        "    os.rename(os.path.join(path, file), os.path.join(path, ''.join([str(index), '.jpg'])))\n",
        "    \n",
        "image_folder_path = \"/content/Images/Images\"\n",
        "\n",
        "onlyfiles = [f for f in listdir(image_folder_path) if isfile(join(image_folder_path, f))]\n",
        "\n",
        "full_filenames = [join(this_image) for this_image in onlyfiles]\n",
        "full_filenames\n",
        " \n",
        "img = pd.DataFrame (full_filenames, columns = ['img number'])"
      ],
      "metadata": {
        "id": "GEDzMMkYer_1"
      },
      "execution_count": null,
      "outputs": []
    },
    {
      "cell_type": "code",
      "source": [
        "# selecting rows based on condition\n",
        "EOSINOPHIL = train_df.loc[train_df['Category'] ==\"EOSINOPHIL\"]\n",
        "print('\\nResult dataframe :\\n', EOSINOPHIL)"
      ],
      "metadata": {
        "id": "DY0CRhP1jzQS"
      },
      "execution_count": null,
      "outputs": []
    },
    {
      "cell_type": "code",
      "source": [
        "\n",
        "# selecting rows based on condition\n",
        "MONOCYTE = train_df.loc[train_df['Category'] ==\"MONOCYTE\"]\n",
        "  \n",
        "print('\\nResult dataframe :\\n', MONOCYTE)"
      ],
      "metadata": {
        "id": "gnuuOVvkjzWm"
      },
      "execution_count": null,
      "outputs": []
    },
    {
      "cell_type": "code",
      "source": [
        "# selecting rows based on condition\n",
        "LYMPHOCYTE = train_df.loc[train_df['Category'] ==\"LYMPHOCYTE\"]\n",
        "print('\\nResult dataframe :\\n', LYMPHOCYTE)"
      ],
      "metadata": {
        "id": "7NLz9_kejzTB"
      },
      "execution_count": null,
      "outputs": []
    },
    {
      "cell_type": "code",
      "source": [
        "# selecting rows based on condition\n",
        "NEUTROPHIL = train_df.loc[train_df['Category'] ==\"NEUTROPHIL\"]\n",
        "  \n",
        "print('\\nResult dataframe :\\n', NEUTROPHIL)\n",
        "NEUTROPHIL.Image\n",
        "\n",
        "image_folder_path = \"/content/Images/Images\"\n",
        "\n",
        "onlyfiles = [f for f in listdir(image_folder_path) if isfile(join(image_folder_path, f))]\n",
        "\n",
        "full_filenames = [join(this_image) for this_image in onlyfiles]\n",
        "full_filenames"
      ],
      "metadata": {
        "id": "riBS6e-7jlj-"
      },
      "execution_count": null,
      "outputs": []
    },
    {
      "cell_type": "code",
      "source": [
        "c = (NEUTROPHIL.Image ==23)\n",
        "c.value_counts()"
      ],
      "metadata": {
        "id": "Fxiziewsmdns"
      },
      "execution_count": null,
      "outputs": []
    },
    {
      "cell_type": "code",
      "source": [
        "import glob\n",
        "import shutil\n",
        "import os\n",
        "# Create a directory\n",
        "directory = \"NEUTROPHIL\"\n",
        "  \n",
        "# Parent Directory path\n",
        "parent_dir = \"/content/\"\n",
        "  \n",
        "path = os.path.join(parent_dir, directory)\n",
        "  \n",
        "os.mkdir(path)\n",
        "\n",
        "src_dir = \"/content/Images/Images/\"\n",
        "dst_dir = \"/content/NEUTROPHIL/\"\n",
        "for i in listdir(src_dir):\n",
        "  for j in NEUTROPHIL.Image:\n",
        "     if i == str(j)+\".jpg\":\n",
        "          shutil.copy(src_dir+i, dst_dir)"
      ],
      "metadata": {
        "id": "0BsuTOo2hx2W"
      },
      "execution_count": null,
      "outputs": []
    },
    {
      "cell_type": "code",
      "source": [
        "import glob\n",
        "import shutil\n",
        "import os\n",
        "# Create a directory\n",
        "directory = \"EOSINOPHIL\"\n",
        "  \n",
        "# Parent Directory path\n",
        "parent_dir = \"/content/\"\n",
        "  \n",
        "path = os.path.join(parent_dir, directory)\n",
        "  \n",
        "os.mkdir(path)\n",
        "\n",
        "src_dir = \"/content/Images/Images/\"\n",
        "dst_dir = \"/content/EOSINOPHIL/\"\n",
        "for i in listdir(src_dir):\n",
        "  for j in EOSINOPHIL.Image:\n",
        "     if i == str(j)+\".jpg\":\n",
        "          shutil.copy(src_dir+i, dst_dir)"
      ],
      "metadata": {
        "id": "8eLhSrbBj_wB"
      },
      "execution_count": null,
      "outputs": []
    },
    {
      "cell_type": "code",
      "source": [
        "import glob\n",
        "import shutil\n",
        "import os\n",
        "# Create a directory\n",
        "directory = \"MONOCYTE\"\n",
        "  \n",
        "# Parent Directory path\n",
        "parent_dir = \"/content/\"\n",
        "  \n",
        "path = os.path.join(parent_dir, directory)\n",
        "  \n",
        "os.mkdir(path)\n",
        "\n",
        "src_dir = \"/content/Images/Images/\"\n",
        "dst_dir = \"/content/MONOCYTE/\"\n",
        "for i in listdir(src_dir):\n",
        "  for j in MONOCYTE.Image:\n",
        "     if i == str(j)+\".jpg\":\n",
        "          shutil.copy(src_dir+i, dst_dir)"
      ],
      "metadata": {
        "id": "1GgVVVXJojtZ"
      },
      "execution_count": null,
      "outputs": []
    },
    {
      "cell_type": "code",
      "source": [
        "import glob\n",
        "import shutil\n",
        "import os\n",
        "# Create a directory\n",
        "directory = \"LYMPHOCYTE\"\n",
        "  \n",
        "# Parent Directory path\n",
        "parent_dir = \"/content/\"\n",
        "  \n",
        "path = os.path.join(parent_dir, directory)\n",
        "  \n",
        "os.mkdir(path)\n",
        "\n",
        "src_dir = \"/content/Images/Images/\"\n",
        "dst_dir = \"/content/LYMPHOCYTE/\"\n",
        "for i in listdir(src_dir):\n",
        "  for j in LYMPHOCYTE.Image:\n",
        "     if i == str(j)+\".jpg\":\n",
        "          shutil.copy(src_dir+i, dst_dir)"
      ],
      "metadata": {
        "id": "ORzCIMe6oj3o"
      },
      "execution_count": null,
      "outputs": []
    },
    {
      "cell_type": "code",
      "source": [
        "# Create a directory\n",
        "directory = \"test_data_used\"\n",
        "  \n",
        "# Parent Directory path\n",
        "parent_dir = \"/content/\"\n",
        "  \n",
        "path = os.path.join(parent_dir, directory)\n",
        "  \n",
        "os.mkdir(path)\n",
        "\n",
        "src_dir = \"/content/Images/Images/\"\n",
        "dst_dir = \"/content/test_data_used/\"\n",
        "for i in listdir(src_dir):\n",
        "  for t in test_df.Image:\n",
        "     if i == str(t)+\".jpg\":\n",
        "          shutil.copy(src_dir+i, dst_dir)"
      ],
      "metadata": {
        "id": "ZoV_W223pRF8"
      },
      "execution_count": null,
      "outputs": []
    },
    {
      "cell_type": "code",
      "source": [
        "import pandas as pd\n",
        "import os\n",
        "from skimage.transform import resize\n",
        "from skimage.io import imread\n",
        "import numpy as np\n",
        "import matplotlib.pyplot as plt\n",
        "Categories=['NEUTROPHIL','EOSINOPHIL','MONOCYTE','LYMPHOCYTE']\n",
        "flat_data_arr=[] #input array\n",
        "target_arr=[] #output array\n",
        "datadir='/content/' \n",
        "#path which contains all the categories of images\n",
        "for i in Categories:\n",
        "    \n",
        "    print(f'loading... category : {i}')\n",
        "    path=os.path.join(datadir,i)\n",
        "    for img in os.listdir(path):\n",
        "        img_array=imread(os.path.join(path,img))\n",
        "        img_resized=resize(img_array,(150,150,3))\n",
        "        flat_data_arr.append(img_resized.flatten())\n",
        "        target_arr.append(Categories.index(i))\n",
        "    print(f'loaded category:{i} successfully')\n",
        "flat_data=np.array(flat_data_arr)\n",
        "target=np.array(target_arr)\n",
        "df=pd.DataFrame(flat_data) #dataframe\n",
        "df['Target']=target\n",
        "x=df.iloc[:,:-1] #input data \n",
        "y=df.iloc[:,-1] #output data"
      ],
      "metadata": {
        "id": "Fi_uybbriSsV"
      },
      "execution_count": null,
      "outputs": []
    },
    {
      "cell_type": "code",
      "source": [
        "x"
      ],
      "metadata": {
        "id": "k1tg5P4miSwA"
      },
      "execution_count": null,
      "outputs": []
    },
    {
      "cell_type": "code",
      "source": [
        "y.value_counts()"
      ],
      "metadata": {
        "id": "rAYCU06Zf-d5"
      },
      "execution_count": null,
      "outputs": []
    },
    {
      "cell_type": "code",
      "source": [
        "from sklearn import svm\n",
        "from sklearn.model_selection import GridSearchCV\n",
        "param_grid={'C':[0.1,1,10,100],'gamma':[0.0001,0.001,0.1,1],'kernel':['rbf','poly']}\n",
        "svc=svm.SVC(probability=True)\n",
        "model=GridSearchCV(svc,param_grid)\n"
      ],
      "metadata": {
        "id": "bmndoDMYf-hY"
      },
      "execution_count": null,
      "outputs": []
    },
    {
      "cell_type": "code",
      "source": [
        "from sklearn.model_selection import train_test_split\n",
        "x_train,x_test,y_train,y_test=train_test_split(x,y,test_size=0.20,random_state=77,stratify=y)\n",
        "print('Splitted Successfully')\n",
        "model.fit(x_train,y_train)\n",
        "print('The Model is trained well with the given images')\n",
        "# model.best_params_ contains the best parameters obtained from GridSearchCV"
      ],
      "metadata": {
        "id": "PU1m85ds0JEB"
      },
      "execution_count": null,
      "outputs": []
    },
    {
      "cell_type": "code",
      "source": [
        "from sklearn.metrics import accuracy_score,confusion_matrix,classification_report\n",
        "\n",
        "y_pred=model.predict(x_test)\n",
        "print(\"The predicted Data is :\")\n",
        "print(y_pred)\n",
        "print(\"The actual data is:\")\n",
        "print(np.array(y_test))\n",
        "print(f\"The model is {accuracy_score(y_pred,y_test)*100}% accurate\")"
      ],
      "metadata": {
        "id": "4q3Xiyd60JGb"
      },
      "execution_count": null,
      "outputs": []
    },
    {
      "cell_type": "code",
      "source": [
        "url=input('Enter URL of Image :')\n",
        "img=imread(url)\n",
        "plt.imshow(img)\n",
        "plt.show()\n",
        "img_resize=resize(img,(150,150,3))\n",
        "l=[img_resize.flatten()]\n",
        "probability=model.predict_proba(l)\n",
        "for ind,val in enumerate(Categories):\n",
        "    print(f'{val} = {probability[0][ind]*100}%')\n",
        "print(\"The predicted image is : \"+Categories[model.predict(l)[0]])"
      ],
      "metadata": {
        "id": "tR6Oz0-80JKD"
      },
      "execution_count": null,
      "outputs": []
    },
    {
      "cell_type": "code",
      "source": [
        "print(classification_report(y_pred,y_test))"
      ],
      "metadata": {
        "id": "BVQFYzVM-Nb-"
      },
      "execution_count": null,
      "outputs": []
    },
    {
      "cell_type": "markdown",
      "source": [
        "[.](https://medium.com/analytics-vidhya/image-classification-using-machine-learning-support-vector-machine-svm-dc7a0ec92e01)\n",
        "[..](https://github.com/shahd1995913/Image-Classification)"
      ],
      "metadata": {
        "id": "SUc6_g270XcI"
      }
    }
  ]
}