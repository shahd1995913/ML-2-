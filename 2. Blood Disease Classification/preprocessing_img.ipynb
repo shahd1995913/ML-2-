{
  "nbformat": 4,
  "nbformat_minor": 0,
  "metadata": {
    "colab": {
      "name": "preprocessing_img.ipynb",
      "private_outputs": true,
      "provenance": [],
      "authorship_tag": "ABX9TyP8YG6gwMtUwB8F8JdqVzPQ",
      "include_colab_link": true
    },
    "kernelspec": {
      "name": "python3",
      "display_name": "Python 3"
    },
    "language_info": {
      "name": "python"
    }
  },
  "cells": [
    {
      "cell_type": "markdown",
      "metadata": {
        "id": "view-in-github",
        "colab_type": "text"
      },
      "source": [
        "<a href=\"https://colab.research.google.com/github/shahd1995913/Machine-Learning/blob/main/2.%20Blood%20Disease%20Classification/preprocessing_img.ipynb\" target=\"_parent\"><img src=\"https://colab.research.google.com/assets/colab-badge.svg\" alt=\"Open In Colab\"/></a>"
      ]
    },
    {
      "cell_type": "markdown",
      "source": [
        "#  Intensity Transformation Operations on Images\n",
        "## [link](https://www.geeksforgeeks.org/python-intensity-transformation-operations-on-images/)"
      ],
      "metadata": {
        "id": "mTgETYfcAYQ9"
      }
    },
    {
      "cell_type": "code",
      "execution_count": null,
      "metadata": {
        "id": "-v7RGw-VxyFX"
      },
      "outputs": [],
      "source": [
        "\n",
        "import cv2\n",
        "import numpy as np\n",
        "\n",
        "# Open the image.\n",
        "img = cv2.imread('/content/BloodImage_00005.jpg')\n",
        "\n",
        "# Trying 4 gamma values.\n",
        "for gamma in [2.2]:\n",
        "\t\n",
        "\t# Apply gamma correction.\n",
        "\tgamma_corrected = np.array(255*(img / 255) ** gamma, dtype = 'uint8')\n",
        "\n",
        "\t# Save edited images.\n",
        "\tcv2.imwrite('a.jpg', gamma_corrected)"
      ]
    },
    {
      "cell_type": "markdown",
      "source": [
        "# Resize the Image\n",
        "# [link](https://stackoverflow.com/questions/21517879/python-pil-resize-all-images-in-a-folder)"
      ],
      "metadata": {
        "id": "jfQo9WCWAk8m"
      }
    },
    {
      "cell_type": "code",
      "source": [
        "#!/usr/bin/python\n",
        "from PIL import Image\n",
        "import os, sys\n",
        "\n",
        "path = \"/root/Desktop/python/images/\"\n",
        "dirs = os.listdir( path )\n",
        "\n",
        "def resize():\n",
        "    for item in dirs:\n",
        "        if os.path.isfile(path+item):\n",
        "            im = Image.open(path+item)\n",
        "            f, e = os.path.splitext(path+item)\n",
        "            imResize = im.resize((200,200), Image.ANTIALIAS)\n",
        "            imResize.save(f + ' resized.jpg', 'JPEG', quality=90)\n",
        "\n",
        "resize()"
      ],
      "metadata": {
        "id": "H5t210o4AkGg"
      },
      "execution_count": null,
      "outputs": []
    },
    {
      "cell_type": "markdown",
      "source": [
        "# 1.  [data-augmentation](https://neptune.ai/blog/data-augmentation-in-python)\n",
        "# 2.  [data-augmentation](https://stackoverflow.com/questions/50887274/error-in-image-augmentation-pipeline-for-image-augmentation-in-python)\n"
      ],
      "metadata": {
        "id": "cT6h0mpqYhcO"
      }
    },
    {
      "cell_type": "code",
      "source": [
        "! pip install Augmentor\n",
        "import glob\n",
        "import Augmentor\n",
        "p = Augmentor.Pipeline(\"/content/test/\")\n",
        "p.rotate(probability=0.7, max_left_rotation=10, max_right_rotation=10)\n",
        "p.zoom(probability=0.5, min_factor=1.1, max_factor=1.5)\n",
        "p.sample(100)"
      ],
      "metadata": {
        "id": "GARpxQoGV29w"
      },
      "execution_count": null,
      "outputs": []
    }
  ]
}