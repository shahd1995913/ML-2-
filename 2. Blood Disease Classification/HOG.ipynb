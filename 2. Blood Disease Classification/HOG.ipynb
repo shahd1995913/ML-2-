{
  "nbformat": 4,
  "nbformat_minor": 0,
  "metadata": {
    "colab": {
      "name": "feature extraction.ipynb",
      "private_outputs": true,
      "provenance": [],
      "authorship_tag": "ABX9TyOmC5/5+/y5rCaq60t0kwW4",
      "include_colab_link": true
    },
    "kernelspec": {
      "name": "python3",
      "display_name": "Python 3"
    },
    "language_info": {
      "name": "python"
    }
  },
  "cells": [
    {
      "cell_type": "markdown",
      "metadata": {
        "id": "view-in-github",
        "colab_type": "text"
      },
      "source": [
        "<a href=\"https://colab.research.google.com/github/shahd1995913/Machine-Learning/blob/main/2.%20Blood%20Disease%20Classification/HOG.ipynb\" target=\"_parent\"><img src=\"https://colab.research.google.com/assets/colab-badge.svg\" alt=\"Open In Colab\"/></a>"
      ]
    },
    {
      "cell_type": "markdown",
      "source": [
        "# 1. Read Data From Kaggle\n",
        "# 2. Split Folder\n",
        "# 3. Preprocessing Data Images\n"
      ],
      "metadata": {
        "id": "7fEnMchX_Lnl"
      }
    },
    {
      "cell_type": "code",
      "execution_count": null,
      "metadata": {
        "id": "XCYSwtvE-H7M"
      },
      "outputs": [],
      "source": [
        "! pip install kaggle\n",
        "! mkdir ~/.kaggle\n",
        "! cp kaggle.json ~/.kaggle/\n",
        "! chmod 600 ~/.kaggle/kaggle.json\n",
        "! kaggle competitions download blood-disease-classification-tah\n",
        "! unzip /content/blood-disease-classification-tah.zip"
      ]
    },
    {
      "cell_type": "code",
      "source": [
        "import pandas as pd\n",
        "import numpy as np\n",
        "import copy\n",
        "import seaborn as sns\n",
        "import matplotlib.pyplot as plt\n",
        "%matplotlib inline\n",
        "train_df = pd.read_csv(\"/content/train_set.csv\")\n",
        "test_df = pd.read_csv(\"/content/test_set.csv\")\n",
        "print(train_df['Image'].dtypes)\n",
        "print(train_df['Category'].dtypes)\n",
        "print(train_df['Category'].value_counts())\n",
        "Category = train_df['Category'].value_counts()\n",
        "sns.set(style=\"darkgrid\")\n",
        "sns.barplot(Category.index, Category.values, alpha=.955)\n",
        "plt.title('Frequency Distribution of Category')\n",
        "plt.ylabel('Number of Occurrences', fontsize=12)\n",
        "plt.xlabel('Blood Disease Type', fontsize=12)\n",
        "plt.show()"
      ],
      "metadata": {
        "id": "StTZqpoC-KNW"
      },
      "execution_count": null,
      "outputs": []
    },
    {
      "cell_type": "code",
      "source": [
        "from os import listdir\n",
        "from os.path import isfile, join\n",
        "import imageio\n",
        "import os\n",
        "path = \"/content/Images/Images\"\n",
        "files = os.listdir(path)\n",
        "\n",
        "for index, file in enumerate(files):\n",
        "    os.rename(os.path.join(path, file), os.path.join(path, ''.join([str(index), '.jpg'])))\n",
        "    \n",
        "image_folder_path = \"/content/Images/Images\"\n",
        "\n",
        "onlyfiles = [f for f in listdir(image_folder_path) if isfile(join(image_folder_path, f))]\n",
        "\n",
        "full_filenames = [join(this_image) for this_image in onlyfiles]\n",
        "full_filenames\n",
        " \n",
        "img = pd.DataFrame (full_filenames, columns = ['img number'])"
      ],
      "metadata": {
        "id": "EbW1fOJ7-R1B"
      },
      "execution_count": null,
      "outputs": []
    },
    {
      "cell_type": "code",
      "source": [
        "# selecting rows based on condition\n",
        "EOSINOPHIL = train_df.loc[train_df['Category'] ==\"EOSINOPHIL\"]\n",
        "print('\\nResult dataframe :\\n', EOSINOPHIL)\n",
        "# selecting rows based on condition\n",
        "MONOCYTE = train_df.loc[train_df['Category'] ==\"MONOCYTE\"]\n",
        "  \n",
        "print('\\nResult dataframe :\\n', MONOCYTE)\n",
        "# selecting rows based on condition\n",
        "LYMPHOCYTE = train_df.loc[train_df['Category'] ==\"LYMPHOCYTE\"]\n",
        "print('\\nResult dataframe :\\n', LYMPHOCYTE)\n",
        "# selecting rows based on condition\n",
        "NEUTROPHIL = train_df.loc[train_df['Category'] ==\"NEUTROPHIL\"]\n",
        "  \n",
        "print('\\nResult dataframe :\\n', NEUTROPHIL)\n",
        "NEUTROPHIL.Image\n",
        "\n",
        "image_folder_path = \"/content/Images/Images\"\n",
        "\n",
        "onlyfiles = [f for f in listdir(image_folder_path) if isfile(join(image_folder_path, f))]\n",
        "\n",
        "full_filenames = [join(this_image) for this_image in onlyfiles]\n",
        "full_filenames"
      ],
      "metadata": {
        "id": "2JSaFUqH-cj-"
      },
      "execution_count": null,
      "outputs": []
    },
    {
      "cell_type": "code",
      "source": [
        "c = (NEUTROPHIL.Image ==23)\n",
        "c.value_counts()"
      ],
      "metadata": {
        "id": "HSp9WIFF-ixt"
      },
      "execution_count": null,
      "outputs": []
    },
    {
      "cell_type": "code",
      "source": [
        "import glob\n",
        "import shutil\n",
        "import os\n",
        "# Create a directory\n",
        "directory = \"NEUTROPHIL_befor_resize\"\n",
        "  \n",
        "# Parent Directory path\n",
        "parent_dir = \"/content/\"\n",
        "  \n",
        "path = os.path.join(parent_dir, directory)\n",
        "  \n",
        "os.mkdir(path)\n",
        "\n",
        "src_dir = \"/content/Images/Images/\"\n",
        "dst_dir = \"/content/NEUTROPHIL_befor_resize/\"\n",
        "for i in listdir(src_dir):\n",
        "  for j in NEUTROPHIL.Image:\n",
        "     if i == str(j)+\".jpg\":\n",
        "          shutil.copy(src_dir+i, dst_dir)"
      ],
      "metadata": {
        "id": "YnirEtDI-lU_"
      },
      "execution_count": null,
      "outputs": []
    },
    {
      "cell_type": "code",
      "source": [
        "#!/usr/bin/python\n",
        "from PIL import Image\n",
        "import os, sys\n",
        "\n",
        "directory = \"NEUTROPHIL_After_resize\"\n",
        "  \n",
        "# Parent Directory path\n",
        "parent_dir = \"/content/\"\n",
        "  \n",
        "path = os.path.join(parent_dir, directory)\n",
        "  \n",
        "os.mkdir(path)\n",
        "\n",
        "path = \"/content/NEUTROPHIL_befor_resize/\"\n",
        "dirs = os.listdir( path )\n",
        "save_new_img=\"/content/NEUTROPHIL_After_resize/\"\n",
        "def resize():\n",
        "    for item in dirs:\n",
        "        if os.path.isfile(path+item):\n",
        "            im = Image.open(path+item)\n",
        "            f, e = os.path.splitext(save_new_img+item)\n",
        "            imResize = im.resize((224,224), Image.ANTIALIAS)\n",
        "            imResize.save(f + '.jpg', 'JPEG', quality=90)\n",
        "\n",
        "resize()"
      ],
      "metadata": {
        "id": "WC4BuGTx-o4M"
      },
      "execution_count": null,
      "outputs": []
    },
    {
      "cell_type": "code",
      "source": [
        "from PIL import Image\n",
        "import os, sys\n",
        "import cv2\n",
        "import numpy as np\n",
        "\n",
        "directory = \"NEUTROPHIL\"\n",
        "  \n",
        "# Parent Directory path\n",
        "parent_dir = \"/content/\"\n",
        "  \n",
        "path = os.path.join(parent_dir, directory)\n",
        "  \n",
        "os.mkdir(path)\n",
        "path = \"/content/NEUTROPHIL_After_resize/\"\n",
        "dirs = os.listdir( path )\n",
        "save=\"/content/NEUTROPHIL/\"\n",
        "def resize():\n",
        "    for item in dirs:\n",
        "        if os.path.isfile(path+item):\n",
        "            im = Image.open(path+item)\n",
        "            f, e = os.path.splitext(save+item)\n",
        "            img = cv2.imread(path+item)\n",
        "            for gamma in [2.2]:\n",
        "              gamma_corrected = np.array(255*(img / 255) ** gamma, dtype = 'uint8')\n",
        "              cv2.imwrite(f + '.jpg', gamma_corrected)           \n",
        "resize()\n"
      ],
      "metadata": {
        "id": "JhZDnV2f-sfe"
      },
      "execution_count": null,
      "outputs": []
    },
    {
      "cell_type": "code",
      "source": [
        "# Create a directory\n",
        "directory = \"EOSINOPHIL_befor_resize\"\n",
        "  \n",
        "# Parent Directory path\n",
        "parent_dir = \"/content/\"\n",
        "  \n",
        "path = os.path.join(parent_dir, directory)\n",
        "  \n",
        "os.mkdir(path)\n",
        "\n",
        "src_dir = \"/content/Images/Images/\"\n",
        "dst_dir = \"/content/EOSINOPHIL_befor_resize/\"\n",
        "for i in listdir(src_dir):\n",
        "  for j in EOSINOPHIL.Image:\n",
        "     if i == str(j)+\".jpg\":\n",
        "          shutil.copy(src_dir+i, dst_dir)\n"
      ],
      "metadata": {
        "id": "2k4QLBQE-0SF"
      },
      "execution_count": null,
      "outputs": []
    },
    {
      "cell_type": "code",
      "source": [
        "#!/usr/bin/python\n",
        "from PIL import Image\n",
        "import os, sys\n",
        "\n",
        "directory = \"EOSINOPHIL_After_resize\"\n",
        "  \n",
        "# Parent Directory path\n",
        "parent_dir = \"/content/\"\n",
        "  \n",
        "path = os.path.join(parent_dir, directory)\n",
        "  \n",
        "os.mkdir(path)\n",
        "\n",
        "path = \"/content/EOSINOPHIL_befor_resize/\"\n",
        "dirs = os.listdir( path )\n",
        "save_new_img=\"/content/EOSINOPHIL_After_resize/\"\n",
        "def resize():\n",
        "    for item in dirs:\n",
        "        if os.path.isfile(path+item):\n",
        "            im = Image.open(path+item)\n",
        "            f, e = os.path.splitext(save_new_img+item)\n",
        "            imResize = im.resize((224,224), Image.ANTIALIAS)\n",
        "            imResize.save(f + '.jpg', 'JPEG', quality=90)\n",
        "\n",
        "resize()"
      ],
      "metadata": {
        "id": "SpHbR3XE-2P6"
      },
      "execution_count": null,
      "outputs": []
    },
    {
      "cell_type": "code",
      "source": [
        "directory = \"EOSINOPHIL\"\n",
        "  \n",
        "# Parent Directory path\n",
        "parent_dir = \"/content/\"\n",
        "  \n",
        "path = os.path.join(parent_dir, directory)\n",
        "  \n",
        "os.mkdir(path)\n",
        "path = \"/content/EOSINOPHIL_After_resize/\"\n",
        "dirs = os.listdir( path )\n",
        "save=\"/content/EOSINOPHIL/\"\n",
        "def resize():\n",
        "    for item in dirs:\n",
        "        if os.path.isfile(path+item):\n",
        "            im = Image.open(path+item)\n",
        "            f, e = os.path.splitext(save+item)\n",
        "            img = cv2.imread(path+item)\n",
        "            for gamma in [2.2]:\n",
        "              gamma_corrected = np.array(255*(img / 255) ** gamma, dtype = 'uint8')\n",
        "              cv2.imwrite(f + '.jpg', gamma_corrected)           \n",
        "resize()"
      ],
      "metadata": {
        "id": "E_1RIbWg-2Zp"
      },
      "execution_count": null,
      "outputs": []
    },
    {
      "cell_type": "code",
      "source": [
        "# Create a directory\n",
        "directory = \"MONOCYTE_befor_resize\"\n",
        "  \n",
        "# Parent Directory path\n",
        "parent_dir = \"/content/\"\n",
        "  \n",
        "path = os.path.join(parent_dir, directory)\n",
        "  \n",
        "os.mkdir(path)\n",
        "\n",
        "src_dir = \"/content/Images/Images/\"\n",
        "dst_dir = \"/content/MONOCYTE_befor_resize/\"\n",
        "for i in listdir(src_dir):\n",
        "  for j in MONOCYTE.Image:\n",
        "     if i == str(j)+\".jpg\":\n",
        "          shutil.copy(src_dir+i, dst_dir)\n",
        "\n",
        "#!/usr/bin/python\n",
        "from PIL import Image\n",
        "import os, sys\n",
        "\n",
        "directory = \"MONOCYTE_After_resize\"\n",
        "  \n",
        "# Parent Directory path\n",
        "parent_dir = \"/content/\"\n",
        "  \n",
        "path = os.path.join(parent_dir, directory)\n",
        "  \n",
        "os.mkdir(path)\n",
        "\n",
        "path = \"/content/MONOCYTE_befor_resize/\"\n",
        "dirs = os.listdir( path )\n",
        "save_new_img=\"/content/MONOCYTE_After_resize/\"\n",
        "def resize():\n",
        "    for item in dirs:\n",
        "        if os.path.isfile(path+item):\n",
        "            im = Image.open(path+item)\n",
        "            f, e = os.path.splitext(save_new_img+item)\n",
        "            imResize = im.resize((224,224), Image.ANTIALIAS)\n",
        "            imResize.save(f + '.jpg', 'JPEG', quality=90)\n",
        "\n",
        "resize()\n",
        "\n",
        "directory = \"MONOCYTE\"\n",
        "  \n",
        "# Parent Directory path\n",
        "parent_dir = \"/content/\"\n",
        "  \n",
        "path = os.path.join(parent_dir, directory)\n",
        "  \n",
        "os.mkdir(path)\n",
        "path = \"/content/MONOCYTE_After_resize/\"\n",
        "dirs = os.listdir( path )\n",
        "save=\"/content/MONOCYTE/\"\n",
        "def resize():\n",
        "    for item in dirs:\n",
        "        if os.path.isfile(path+item):\n",
        "            im = Image.open(path+item)\n",
        "            f, e = os.path.splitext(save+item)\n",
        "            img = cv2.imread(path+item)\n",
        "            for gamma in [2.2]:\n",
        "              gamma_corrected = np.array(255*(img / 255) ** gamma, dtype = 'uint8')\n",
        "              cv2.imwrite(f + '.jpg', gamma_corrected)           \n",
        "resize()"
      ],
      "metadata": {
        "id": "h9Nqy0GU-7RO"
      },
      "execution_count": null,
      "outputs": []
    },
    {
      "cell_type": "code",
      "source": [
        "# Create a directory\n",
        "directory = \"LYMPHOCYTE_befor_resize\"\n",
        "  \n",
        "# Parent Directory path\n",
        "parent_dir = \"/content/\"\n",
        "  \n",
        "path = os.path.join(parent_dir, directory)\n",
        "  \n",
        "os.mkdir(path)\n",
        "\n",
        "src_dir = \"/content/Images/Images/\"\n",
        "dst_dir = \"/content/LYMPHOCYTE_befor_resize/\"\n",
        "for i in listdir(src_dir):\n",
        "  for j in LYMPHOCYTE.Image:\n",
        "     if i == str(j)+\".jpg\":\n",
        "          shutil.copy(src_dir+i, dst_dir)\n",
        "\n",
        "#!/usr/bin/python\n",
        "from PIL import Image\n",
        "import os, sys\n",
        "\n",
        "directory = \"LYMPHOCYTE_After_resize\"\n",
        "  \n",
        "# Parent Directory path\n",
        "parent_dir = \"/content/\"\n",
        "  \n",
        "path = os.path.join(parent_dir, directory)\n",
        "  \n",
        "os.mkdir(path)\n",
        "\n",
        "path = \"/content/LYMPHOCYTE_befor_resize/\"\n",
        "dirs = os.listdir( path )\n",
        "save_new_img=\"/content/LYMPHOCYTE_After_resize/\"\n",
        "def resize():\n",
        "    for item in dirs:\n",
        "        if os.path.isfile(path+item):\n",
        "            im = Image.open(path+item)\n",
        "            f, e = os.path.splitext(save_new_img+item)\n",
        "            imResize = im.resize((224,224), Image.ANTIALIAS)\n",
        "            imResize.save(f + '.jpg', 'JPEG', quality=90)\n",
        "\n",
        "resize()\n",
        "\n",
        "directory = \"LYMPHOCYTE\"\n",
        "  \n",
        "# Parent Directory path\n",
        "parent_dir = \"/content/\"\n",
        "  \n",
        "path = os.path.join(parent_dir, directory)\n",
        "  \n",
        "os.mkdir(path)\n",
        "path = \"/content/LYMPHOCYTE_After_resize/\"\n",
        "dirs = os.listdir( path )\n",
        "save=\"/content/LYMPHOCYTE/\"\n",
        "def resize():\n",
        "    for item in dirs:\n",
        "        if os.path.isfile(path+item):\n",
        "            im = Image.open(path+item)\n",
        "            f, e = os.path.splitext(save+item)\n",
        "            img = cv2.imread(path+item)\n",
        "            for gamma in [2.2]:\n",
        "              gamma_corrected = np.array(255*(img / 255) ** gamma, dtype = 'uint8')\n",
        "              cv2.imwrite(f + '.jpg', gamma_corrected)           \n",
        "resize()"
      ],
      "metadata": {
        "id": "9F1Aykw3-9S3"
      },
      "execution_count": null,
      "outputs": []
    },
    {
      "cell_type": "code",
      "source": [
        "# Create a directory\n",
        "directory = \"test_befor_resize\"\n",
        "  \n",
        "# Parent Directory path\n",
        "parent_dir = \"/content/\"\n",
        "  \n",
        "path = os.path.join(parent_dir, directory)\n",
        "  \n",
        "os.mkdir(path)\n",
        "\n",
        "src_dir = \"/content/Images/Images/\"\n",
        "dst_dir = \"/content/test_befor_resize/\"\n",
        "for i in listdir(src_dir):\n",
        "  for j in test_df.Image:\n",
        "     if i == str(j)+\".jpg\":\n",
        "          shutil.copy(src_dir+i, dst_dir)\n",
        "\n",
        "#!/usr/bin/python\n",
        "from PIL import Image\n",
        "import os, sys\n",
        "\n",
        "directory = \"test_After_resize\"\n",
        "  \n",
        "# Parent Directory path\n",
        "parent_dir = \"/content/\"\n",
        "  \n",
        "path = os.path.join(parent_dir, directory)\n",
        "  \n",
        "os.mkdir(path)\n",
        "\n",
        "path = \"/content/test_befor_resize/\"\n",
        "dirs = os.listdir( path )\n",
        "save_new_img=\"/content/test_After_resize/\"\n",
        "def resize():\n",
        "    for item in dirs:\n",
        "        if os.path.isfile(path+item):\n",
        "            im = Image.open(path+item)\n",
        "            f, e = os.path.splitext(save_new_img+item)\n",
        "            imResize = im.resize((224,224), Image.ANTIALIAS)\n",
        "            imResize.save(f + '.jpg', 'JPEG', quality=90)\n",
        "resize()\n",
        "\n",
        "directory = \"test\"\n",
        "  \n",
        "# Parent Directory path\n",
        "parent_dir = \"/content/\"\n",
        "  \n",
        "path = os.path.join(parent_dir, directory)\n",
        "  \n",
        "os.mkdir(path)\n",
        "path = \"/content/test_After_resize/\"\n",
        "dirs = os.listdir( path )\n",
        "save=\"/content/test/\"\n",
        "def resize():\n",
        "    for item in dirs:\n",
        "        if os.path.isfile(path+item):\n",
        "            im = Image.open(path+item)\n",
        "            f, e = os.path.splitext(save+item)\n",
        "            img = cv2.imread(path+item)\n",
        "            for gamma in [2.2]:\n",
        "              gamma_corrected = np.array(255*(img / 255) ** gamma, dtype = 'uint8')\n",
        "              cv2.imwrite(f + '.jpg', gamma_corrected)           \n",
        "resize()"
      ],
      "metadata": {
        "id": "wLZy5iHF-_Z7"
      },
      "execution_count": null,
      "outputs": []
    },
    {
      "cell_type": "code",
      "source": [
        "\n",
        "import matplotlib.pyplot as plt\n",
        "\n",
        "from skimage.feature import greycomatrix, greycoprops\n",
        "from skimage import io\n",
        "import cv2\n",
        "import numpy as np\n",
        "import cv2\n",
        "import matplotlib.pyplot as plt\n",
        "import numpy as np\n",
        "import numpy as np\n",
        "import cv2\n",
        "import pandas as pd\n",
        " \n",
        "\n",
        "import pickle\n",
        "from matplotlib import pyplot as plt\n",
        "import os"
      ],
      "metadata": {
        "id": "pVSM2q-VEykz"
      },
      "execution_count": null,
      "outputs": []
    },
    {
      "cell_type": "code",
      "source": [
        "# Create a directory\n",
        "train = \"train\"\n",
        "testdata = \"testdata\"\n",
        "# Parent Directory path\n",
        "parent_dir = \"/content/\"\n",
        "path = os.path.join(parent_dir, train)\n",
        "path1 = os.path.join(parent_dir, testdata)\n",
        "os.mkdir(path)\n",
        "os.mkdir(path1)\n",
        "\n",
        "# src_dir = \"/content/Images/Images/\"\n",
        "# dst_dir = \"/content/test_befor_resize/\"\n",
        "# for i in listdir(src_dir):\n",
        "#   for j in test_df.Image:\n",
        "#      if i == str(j)+\".jpg\":\n",
        "#           shutil.copy(src_dir+i, dst_dir)\n"
      ],
      "metadata": {
        "id": "71sNQAuJGbgd"
      },
      "execution_count": null,
      "outputs": []
    },
    {
      "cell_type": "code",
      "source": [
        "# Create a directory\n",
        "LYMPHOCYTE = \"LYMPHOCYTE\"\n",
        "MONOCYTE = \"MONOCYTE\"\n",
        "EOSINOPHIL = \"EOSINOPHIL\"\n",
        "NEUTROPHIL = \"NEUTROPHIL\"\n",
        "# Parent Directory path\n",
        "parent_dir = \"/content/train/\"\n",
        "path3 = os.path.join(parent_dir, LYMPHOCYTE)\n",
        "path4 = os.path.join(parent_dir, MONOCYTE)\n",
        "path5= os.path.join(parent_dir, EOSINOPHIL)\n",
        "path6 = os.path.join(parent_dir, NEUTROPHIL)\n",
        "os.mkdir(path3)\n",
        "os.mkdir(path4)\n",
        "os.mkdir(path5)\n",
        "os.mkdir(path6)"
      ],
      "metadata": {
        "id": "dc22fvXLGbil"
      },
      "execution_count": null,
      "outputs": []
    },
    {
      "cell_type": "code",
      "source": [
        "# Create a directory\n",
        "LYMPHOCYTE = \"LYMPHOCYTE\"\n",
        "MONOCYTE = \"MONOCYTE\"\n",
        "EOSINOPHIL = \"EOSINOPHIL\"\n",
        "NEUTROPHIL = \"NEUTROPHIL\"\n",
        "# Parent Directory path\n",
        "parent_dir = \"/content/testdata/\"\n",
        "path3 = os.path.join(parent_dir, LYMPHOCYTE)\n",
        "path4 = os.path.join(parent_dir, MONOCYTE)\n",
        "path5= os.path.join(parent_dir, EOSINOPHIL)\n",
        "path6 = os.path.join(parent_dir, NEUTROPHIL)\n",
        "os.mkdir(path3)\n",
        "os.mkdir(path4)\n",
        "os.mkdir(path5)\n",
        "os.mkdir(path6)"
      ],
      "metadata": {
        "id": "i6J4gSfbGblN"
      },
      "execution_count": null,
      "outputs": []
    },
    {
      "cell_type": "code",
      "source": [
        "LYMPHOCYTE = train_df.loc[train_df['Category'] ==\"LYMPHOCYTE\"]\n",
        "print('\\nResult dataframe :\\n', LYMPHOCYTE)"
      ],
      "metadata": {
        "id": "SMjCqh5aGbqB"
      },
      "execution_count": null,
      "outputs": []
    },
    {
      "cell_type": "code",
      "source": [
        "EOSINOPHIL = train_df.loc[train_df['Category'] ==\"EOSINOPHIL\"]\n",
        "print('\\nResult dataframe :\\n', EOSINOPHIL[\"Category\"] )\n",
        "EOSINOPHIL"
      ],
      "metadata": {
        "id": "9gcv6ibkGbv-"
      },
      "execution_count": null,
      "outputs": []
    },
    {
      "cell_type": "code",
      "source": [
        "src_dir = \"/content/LYMPHOCYTE/\"\n",
        "dst_dir =\"/content/train/LYMPHOCYTE/\"\n",
        "test_dir=\"/content/testdata/LYMPHOCYTE/\"\n",
        "for i in listdir(src_dir):\n",
        "  for j in LYMPHOCYTE.Image:\n",
        "    if j<=200 and i == str(j)+\".jpg\":\n",
        "      shutil.copy(src_dir+i, test_dir)\n",
        "    elif  j>200 and i == str(j)+\".jpg\":  \n",
        "          shutil.copy(src_dir+i, dst_dir)"
      ],
      "metadata": {
        "id": "KcSnyw6yGbnp"
      },
      "execution_count": null,
      "outputs": []
    },
    {
      "cell_type": "code",
      "source": [
        "src_dir = \"/content/EOSINOPHIL/\"\n",
        "dst_dir =\"/content/train/EOSINOPHIL/\"\n",
        "test_dir=\"/content/testdata/EOSINOPHIL/\"\n",
        "for i in listdir(src_dir):\n",
        "  for j in EOSINOPHIL.Image:\n",
        "    if j<=200 and i == str(j)+\".jpg\":\n",
        "      shutil.copy(src_dir+i, test_dir)\n",
        "    elif  j>200 and i == str(j)+\".jpg\":  \n",
        "          shutil.copy(src_dir+i, dst_dir)"
      ],
      "metadata": {
        "id": "NB1fII4LGbsk"
      },
      "execution_count": null,
      "outputs": []
    },
    {
      "cell_type": "code",
      "source": [
        "\n",
        "MONOCYTE = train_df.loc[train_df['Category'] ==\"MONOCYTE\"]\n",
        "print('\\nResult dataframe :\\n', MONOCYTE[\"Category\"] )\n",
        "MONOCYTE"
      ],
      "metadata": {
        "id": "MxRyyn12NtL9"
      },
      "execution_count": null,
      "outputs": []
    },
    {
      "cell_type": "code",
      "source": [
        "src_dir = \"/content/MONOCYTE/\"\n",
        "dst_dir =\"/content/train/MONOCYTE/\"\n",
        "test_dir=\"/content/testdata/MONOCYTE/\"\n",
        "for i in listdir(src_dir):\n",
        "  for j in MONOCYTE.Image:\n",
        "    if j<=200 and i == str(j)+\".jpg\":\n",
        "      shutil.copy(src_dir+i, test_dir)\n",
        "    elif  j>200 and i == str(j)+\".jpg\":  \n",
        "          shutil.copy(src_dir+i, dst_dir)"
      ],
      "metadata": {
        "id": "qbOmsMC1OHXk"
      },
      "execution_count": null,
      "outputs": []
    },
    {
      "cell_type": "code",
      "source": [
        "\n",
        "NEUTROPHIL = train_df.loc[train_df['Category'] ==\"NEUTROPHIL\"]\n",
        "print('\\nResult dataframe :\\n', NEUTROPHIL[\"Category\"] )\n",
        "NEUTROPHIL\n",
        "src_dir = \"/content/NEUTROPHIL/\"\n",
        "dst_dir =\"/content/train/NEUTROPHIL/\"\n",
        "test_dir=\"/content/testdata/NEUTROPHIL/\"\n",
        "for i in listdir(src_dir):\n",
        "  for j in NEUTROPHIL.Image:\n",
        "    if j<=200 and i == str(j)+\".jpg\":\n",
        "      shutil.copy(src_dir+i, test_dir)\n",
        "    elif  j>200 and i == str(j)+\".jpg\":  \n",
        "          shutil.copy(src_dir+i, dst_dir)"
      ],
      "metadata": {
        "id": "UXI-V17sOHiI"
      },
      "execution_count": null,
      "outputs": []
    },
    {
      "cell_type": "code",
      "source": [
        "! pip install Augmentor\n",
        "import glob\n",
        "import Augmentor\n",
        "p = Augmentor.Pipeline(\"/content/train/EOSINOPHIL/\")\n",
        "p.rotate(probability=0.7, max_left_rotation=10, max_right_rotation=10)\n",
        "p.zoom(probability=0.5, min_factor=1.1, max_factor=1.5)\n",
        "p.sample(500)"
      ],
      "metadata": {
        "id": "GeRMlKD1mXHs"
      },
      "execution_count": null,
      "outputs": []
    },
    {
      "cell_type": "code",
      "source": [
        "p = Augmentor.Pipeline(\"/content/train/LYMPHOCYTE/\")\n",
        "p.rotate(probability=0.7, max_left_rotation=10, max_right_rotation=10)\n",
        "p.zoom(probability=0.5, min_factor=1.1, max_factor=1.5)\n",
        "p.sample(200)"
      ],
      "metadata": {
        "id": "eQxcClkumXKG"
      },
      "execution_count": null,
      "outputs": []
    },
    {
      "cell_type": "code",
      "source": [
        "p = Augmentor.Pipeline(\"/content/train/MONOCYTE/\")\n",
        "p.rotate(probability=0.7, max_left_rotation=10, max_right_rotation=10)\n",
        "p.zoom(probability=0.5, min_factor=1.1, max_factor=1.5)\n",
        "p.sample(200)"
      ],
      "metadata": {
        "id": "DmJSPqMGmXM8"
      },
      "execution_count": null,
      "outputs": []
    },
    {
      "cell_type": "code",
      "source": [
        "p = Augmentor.Pipeline(\"/content/train/NEUTROPHIL\")\n",
        "p.rotate(probability=0.7, max_left_rotation=10, max_right_rotation=10)\n",
        "p.zoom(probability=0.5, min_factor=1.1, max_factor=1.5)\n",
        "p.sample(200)"
      ],
      "metadata": {
        "id": "oTN91qY7mXPd"
      },
      "execution_count": null,
      "outputs": []
    },
    {
      "cell_type": "code",
      "source": [
        "import shutil\n",
        "# Create a directory\n",
        "directory = \"MONOCYTE1\"\n",
        "from os import listdir\n",
        "from os.path import join, isfile\n",
        "# Parent Directory path\n",
        "parent_dir = \"/content/\"\n",
        "  \n",
        "path = os.path.join(parent_dir, directory)\n",
        "  \n",
        "os.mkdir(path)\n",
        "src_path = \"/content/train/MONOCYTE/output\"\n",
        "dst_path = \"/content/MONOCYTE1\"\n",
        "\n",
        "src_dir = \"/content/train/MONOCYTE/output/\"\n",
        "dst_dir = \"/content/MONOCYTE1/\"\n",
        "for i in listdir(src_dir):\n",
        "   shutil.copy(src_dir+i, dst_dir)"
      ],
      "metadata": {
        "id": "wMVp22qlmXRx"
      },
      "execution_count": null,
      "outputs": []
    },
    {
      "cell_type": "code",
      "source": [
        "directory_EOSINOPHIL_Final = \"EOSINOPHIL1\"\n",
        "  \n",
        "# Parent Directory path\n",
        "parent_dir_EOSINOPHIL_Final = \"/content/\"\n",
        "  \n",
        "path = os.path.join(parent_dir_EOSINOPHIL_Final, directory_EOSINOPHIL_Final)\n",
        "  \n",
        "os.mkdir(path)\n",
        "a = \"/content/train/EOSINOPHIL/output/\"\n",
        "b = \"/content/EOSINOPHIL1/\"\n",
        "for m in listdir(a):\n",
        "   shutil.copy(a+m, b)"
      ],
      "metadata": {
        "id": "eGz2j9WxmXVT"
      },
      "execution_count": null,
      "outputs": []
    },
    {
      "cell_type": "code",
      "source": [
        "directory_LYMPHOCYTE1 = \"LYMPHOCYTE1\" \n",
        "# Parent Directory path\n",
        "parent_dir_LYMPHOCYTE1 = \"/content/\"\n",
        "path = os.path.join(parent_dir_LYMPHOCYTE1, directory_LYMPHOCYTE1)\n",
        "os.mkdir(path)\n",
        "c = \"/content/train/LYMPHOCYTE/output/\"\n",
        "d = \"/content/LYMPHOCYTE1/\"\n",
        "for y in listdir(c):\n",
        "   shutil.copy(c+y, d)"
      ],
      "metadata": {
        "id": "5TPbudafnghk"
      },
      "execution_count": null,
      "outputs": []
    },
    {
      "cell_type": "code",
      "source": [
        "directory = \"NEUTROPHIL1\"\n",
        "# Parent Directory path\n",
        "parent_dir = \"/content/\"  \n",
        "path = os.path.join(parent_dir, directory)  \n",
        "os.mkdir(path)\n",
        "e = \"/content/train/NEUTROPHIL/output/\"\n",
        "f = \"/content/NEUTROPHIL1/\"\n",
        "for k in listdir(e):\n",
        "   shutil.copy(e+k, f)"
      ],
      "metadata": {
        "id": "4gA20F3vngkN"
      },
      "execution_count": null,
      "outputs": []
    },
    {
      "cell_type": "code",
      "source": [
        "import pandas as pd\n",
        "import os\n",
        "from skimage.transform import resize\n",
        "import numpy as np\n",
        "import matplotlib.pyplot as plt\n",
        "from skimage.io import imread\n",
        "from skimage.feature import hog\n",
        "from skimage import exposure\n",
        "import matplotlib.pyplot as plt\n",
        "import glob\n",
        "import cv2\n",
        "import seaborn as sns\n",
        "from skimage.filters import sobel\n",
        "from skimage.feature import greycomatrix, greycoprops\n",
        "from skimage.measure import shannon_entropy\n",
        "Categories=['NEUTROPHIL1','EOSINOPHIL1','MONOCYTE1','LYMPHOCYTE1']\n",
        "flat_data_arr=[] #input array\n",
        "target_arr=[] #output array\n",
        "datadir='/content/' \n",
        "#path which contains all the categories of images\n",
        "for i in Categories:\n",
        "    \n",
        "    print(f'loading... category : {i}')\n",
        "    path=os.path.join(datadir,i)\n",
        "    for img in os.listdir(path):\n",
        "        img_array=imread(os.path.join(path,img))\n",
        "        img_resized=resize(img_array,(150,150,3))\n",
        "        fd, hog_image = hog(img_resized, orientations=9, pixels_per_cell=(8, 8),\n",
        "                \tcells_per_block=(2, 2), visualize=True, multichannel=True)\n",
        "        flat_data_arr.append(fd)\n",
        "        target_arr.append(Categories.index(i))\n",
        "    print(f'loaded category:{i} successfully')\n",
        "flat_data=np.array(flat_data_arr)\n",
        "target=np.array(target_arr)\n",
        "df=pd.DataFrame(flat_data) #dataframe\n",
        "df['Target']=target\n",
        "x=df.iloc[:,:-1] #input data \n",
        "y=df.iloc[:,-1] #output data"
      ],
      "metadata": {
        "id": "HnXWEJ_angnn"
      },
      "execution_count": null,
      "outputs": []
    },
    {
      "cell_type": "code",
      "source": [
        "from sklearn.model_selection import train_test_split\n",
        "x_train,x_test,y_train,y_test=train_test_split(x,y,test_size=0.20,random_state=77,stratify=y)\n",
        "x_train.shape,x_test.shape\n",
        "# Normalization\n",
        "x_train = x_train/255.0\n",
        "x_test = x_test/255.0"
      ],
      "metadata": {
        "id": "dIE_lkYbngsL"
      },
      "execution_count": null,
      "outputs": []
    },
    {
      "cell_type": "code",
      "source": [
        "from sklearn.ensemble import RandomForestClassifier\n",
        "model=RandomForestClassifier()\n",
        "model.fit(x_train,y_train)\n",
        "y_pred=model.predict(x_test)\n",
        "y_pred"
      ],
      "metadata": {
        "id": "WaFFhXNzngvt"
      },
      "execution_count": null,
      "outputs": []
    },
    {
      "cell_type": "code",
      "source": [
        "from sklearn.metrics import accuracy_score,confusion_matrix,classification_report\n",
        "accuracy_score(y_pred,y_test)\n",
        "print(classification_report(y_pred,y_test))"
      ],
      "metadata": {
        "id": "dFAGX41GOHkJ"
      },
      "execution_count": null,
      "outputs": []
    },
    {
      "cell_type": "code",
      "source": [
        "url=\"/content/LYMPHOCYTE/140.jpg\"\n",
        "img=imread(url)\n",
        "m=[]\n",
        "from sklearn.preprocessing import MinMaxScaler\n",
        "        \n",
        "img_resized=resize(img,(150,150,3))\n",
        "fd, hog_image = hog(img_resized, orientations=9, pixels_per_cell=(8, 8),\n",
        "                \tcells_per_block=(2, 2), visualize=True, multichannel=True)\n",
        "m.append(fd)\n",
        "n=np.array(m)\n",
        "df1=pd.DataFrame(n) #dataframe\n",
        "w=df.iloc[:,:-1] #input data \n",
        "w=w/255.0\n",
        "probability=model.predict_proba(w)\n",
        "for ind,val in enumerate(Categories):\n",
        "    print(f'{val} = {probability[0][ind]*100}%')\n",
        "print(\"The predicted image is : \"+Categories[model.predict(w)[0]])\n"
      ],
      "metadata": {
        "id": "G-B9c5ZYOHmj"
      },
      "execution_count": null,
      "outputs": []
    },
    {
      "cell_type": "code",
      "source": [
        "url=\"/content/LYMPHOCYTE/111.jpg\"\n",
        "\n",
        "img=imread(url)\n",
        "img_resize=resize(img,(150,150,3))\n",
        "fd, hog_image = hog(img_resized, orientations=9, pixels_per_cell=(8, 8),\n",
        "                \tcells_per_block=(2, 2), visualize=True, multichannel=True)\n",
        "l=[fd]\n",
        "probability=model.predict_proba(l)\n",
        "# for ind,val in enumerate(Categories):\n",
        "#     print(f'{val} = {probability[0][ind]*100}%')\n",
        "print(Categories[model.predict(l)[0]])\n",
        "# print(k[4])"
      ],
      "metadata": {
        "id": "ptS9ar55thHN"
      },
      "execution_count": null,
      "outputs": []
    },
    {
      "cell_type": "code",
      "source": [
        "test_df = pd.read_csv(\"/content/test_set (1).csv\")"
      ],
      "metadata": {
        "id": "M7SMDzGMvqI8"
      },
      "execution_count": null,
      "outputs": []
    },
    {
      "cell_type": "code",
      "source": [
        "src_dir = \"/content/test/\"\n",
        "for i in listdir(src_dir):\n",
        "  for j in test_df.Image:\n",
        "    if i == str(j)+\".jpg\":\n",
        "       img=imread(\"/content/test/\"+i) \n",
        "       img_resize=resize(img,(150,150,3))\n",
        "       fd, hog_image = hog(img_resized, orientations=9, pixels_per_cell=(8, 8),\n",
        "                          cells_per_block=(2, 2), visualize=True, multichannel=True)\n",
        "       l=[fd]\n",
        "       probability=model.predict_proba(l)\n",
        "       print(Categories[model.predict(l)[0]])\n"
      ],
      "metadata": {
        "id": "edYgpBdZu6Z_"
      },
      "execution_count": null,
      "outputs": []
    },
    {
      "cell_type": "code",
      "source": [
        "cols = ['Image', 'Category']\n",
        "df2 = pd.DataFrame(columns=cols, index=range(2))\n",
        "for a in range(2):\n",
        "    df2.loc[a].Image = 4\n",
        "    df2.loc[a].Category = 5\n",
        "\n",
        "df2"
      ],
      "metadata": {
        "id": "lBKCCP223PTj"
      },
      "execution_count": null,
      "outputs": []
    },
    {
      "cell_type": "code",
      "source": [
        "import pandas as pd\n",
        "import os\n",
        "from skimage.transform import resize\n",
        "import numpy as np\n",
        "import matplotlib.pyplot as plt\n",
        "from skimage.io import imread\n",
        "from skimage.feature import hog\n",
        "from skimage import exposure\n",
        "import matplotlib.pyplot as plt\n",
        "import glob\n",
        "import cv2\n",
        "import seaborn as sns\n",
        "from skimage.filters import sobel\n",
        "from skimage.feature import greycomatrix, greycoprops\n",
        "from skimage.measure import shannon_entropy\n",
        "Categories=['NEUTROPHIL1','EOSINOPHIL1','MONOCYTE1','LYMPHOCYTE1']\n",
        "flat_data_arr=[] #input array\n",
        "target_arr=[] #output array\n",
        "datadir='/content/' \n",
        "#path which contains all the categories of images\n",
        "for i in Categories:\n",
        "    \n",
        "    print(f'loading... category : {i}')\n",
        "    path=os.path.join(datadir,i)\n",
        "    for img in os.listdir(path):\n",
        "        img_array=imread(os.path.join(path,img))\n",
        "        img_resized=resize(img_array,(150,150,3))\n",
        "        flat_data_arr.append(img_resized.flatten())\n",
        "        target_arr.append(Categories.index(i))\n",
        "    print(f'loaded category:{i} successfully')\n",
        "flat_data=np.array(flat_data_arr)\n",
        "target=np.array(target_arr)\n",
        "df=pd.DataFrame(flat_data) #dataframe\n",
        "df['Target']=target\n",
        "x=df.iloc[:,:-1] #input data \n",
        "y=df.iloc[:,-1] #output data"
      ],
      "metadata": {
        "id": "b469bi8j7yyN"
      },
      "execution_count": null,
      "outputs": []
    },
    {
      "cell_type": "code",
      "source": [
        "# Categories=['NEUTROPHIL_Final4','EOSINOPHIL_Final4','MONOCYTE_Final','LYMPHOCYTE_Final4']\n",
        "y.value_counts()\n",
        "\n",
        "\n",
        "from sklearn.model_selection import train_test_split\n",
        "x_train,x_test,y_train,y_test=train_test_split(x,y,test_size=0.20,random_state=10,stratify=y)\n",
        "print('Splitted Successfully')\n",
        "from sklearn.ensemble import RandomForestClassifier\n",
        "model=RandomForestClassifier()\n",
        "model.fit(x_train,y_train)\n",
        "print('The Model is trained well with the given images')\n",
        "# model.best_params_ contains the best parameters obtained from GridSearchCV\n",
        "\n",
        "from sklearn.metrics import accuracy_score,confusion_matrix,classification_report\n",
        "y_pred=model.predict(x_test)\n",
        "print(\"The predicted Data is :\")\n",
        "print(y_pred)\n",
        "print(\"The actual data is:\")\n",
        "print(np.array(y_test))\n",
        "print(f\"The model is {accuracy_score(y_pred,y_test)*100}% accurate\")"
      ],
      "metadata": {
        "id": "A9H5Ap2n7zDr"
      },
      "execution_count": null,
      "outputs": []
    },
    {
      "cell_type": "code",
      "source": [
        "Image=[]\n",
        "Category=[]\n",
        "result = pd.DataFrame(columns=cols)\n",
        "src_dir = \"/content/test/\"\n",
        "from os import listdir\n",
        "for i in listdir(src_dir):\n",
        "  for j in test_df.Image:\n",
        "    if i == str(j)+\".jpg\":\n",
        "       img=imread(\"/content/test/\"+i) \n",
        "       img_resize=resize(img,(150,150,3))\n",
        "       l=[img_resize.flatten()]\n",
        "       probability=model.predict_proba(l)\n",
        "       Image.append(j)\n",
        "       Category.append(Categories[model.predict(l)[0]]) \n",
        "       print(Categories[model.predict(l)[0]])"
      ],
      "metadata": {
        "id": "YouXUtpi7zGt"
      },
      "execution_count": null,
      "outputs": []
    },
    {
      "cell_type": "code",
      "source": [
        "m = pd.DataFrame({'Image': Image, 'Category': Category})\n",
        "# del a_list, b_list\n",
        "# Image=[]\n",
        "# Category=[]\n",
        "m\n",
        "m.to_csv('submission4.csv', index=True)"
      ],
      "metadata": {
        "id": "6SA8tijK7zI6"
      },
      "execution_count": null,
      "outputs": []
    },
    {
      "cell_type": "code",
      "source": [
        "370 398 397"
      ],
      "metadata": {
        "id": "hriOpnttAkpq"
      },
      "execution_count": null,
      "outputs": []
    },
    {
      "cell_type": "code",
      "source": [
        "src_dir = \"/content/test/\"\n",
        "from os import listdir\n",
        "for i in listdir(src_dir):\n",
        "  for j in test_df.Image:\n",
        "    if i == str(j)+\".jpg\":\n",
        "      print(j)"
      ],
      "metadata": {
        "id": "1eQcCsil7zLK"
      },
      "execution_count": null,
      "outputs": []
    },
    {
      "cell_type": "code",
      "source": [
        "import shutil\n",
        "# Create a directory\n",
        "directory = \"final\"\n",
        "from os import listdir\n",
        "from os.path import join, isfile\n",
        "# Parent Directory path\n",
        "parent_dir = \"/content/\"\n",
        "  \n",
        "path = os.path.join(parent_dir, directory)\n",
        "  \n",
        "# os.mkdir(path)\n",
        "\n",
        "Image3=[]\n",
        "Category3=[]\n",
        "result = pd.DataFrame(columns=cols)\n",
        "src_dir = \"/content/final/\"\n",
        "from os import listdir\n",
        "for i in listdir(src_dir):\n",
        "       img=imread(\"/content/final/\"+i) \n",
        "       img_resize=resize(img,(150,150,3))\n",
        "       l=[img_resize.flatten()]\n",
        "       probability=model.predict_proba(l)\n",
        "       Image3.append(i)\n",
        "       Category3.append(Categories[model.predict(l)[0]]) \n",
        "       print(Categories[model.predict(l)[0]])"
      ],
      "metadata": {
        "id": "qNcebJvV7zOi"
      },
      "execution_count": null,
      "outputs": []
    }
  ]
}