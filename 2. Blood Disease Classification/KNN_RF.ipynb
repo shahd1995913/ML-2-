{
  "nbformat": 4,
  "nbformat_minor": 0,
  "metadata": {
    "colab": {
      "name": "KNN_RF.ipynb",
      "private_outputs": true,
      "provenance": [],
      "authorship_tag": "ABX9TyNBu365pDf1K8AbRIqZdijy",
      "include_colab_link": true
    },
    "kernelspec": {
      "name": "python3",
      "display_name": "Python 3"
    },
    "language_info": {
      "name": "python"
    }
  },
  "cells": [
    {
      "cell_type": "markdown",
      "metadata": {
        "id": "view-in-github",
        "colab_type": "text"
      },
      "source": [
        "<a href=\"https://colab.research.google.com/github/shahd1995913/ML-2-/blob/main/2.%20Blood%20Disease%20Classification/KNN_RF.ipynb\" target=\"_parent\"><img src=\"https://colab.research.google.com/assets/colab-badge.svg\" alt=\"Open In Colab\"/></a>"
      ]
    },
    {
      "cell_type": "code",
      "execution_count": null,
      "metadata": {
        "id": "g1i9BRc33dja"
      },
      "outputs": [],
      "source": [
        "! pip install kaggle"
      ]
    },
    {
      "cell_type": "code",
      "source": [
        "! mkdir ~/.kaggle\n",
        "! cp kaggle.json ~/.kaggle/\n",
        "! chmod 600 ~/.kaggle/kaggle.json\n",
        "! kaggle competitions download blood-disease-classification-tah\n",
        "! unzip /content/blood-disease-classification-tah.zip"
      ],
      "metadata": {
        "id": "MoPWjeRi3mvU"
      },
      "execution_count": null,
      "outputs": []
    },
    {
      "cell_type": "code",
      "source": [
        "import pandas as pd\n",
        "import numpy as np\n",
        "import copy\n",
        "import seaborn as sns\n",
        "import matplotlib.pyplot as plt\n",
        "%matplotlib inline\n",
        "train_df = pd.read_csv(\"/content/train_set.csv\")\n",
        "test_df = pd.read_csv(\"/content/test_set.csv\")"
      ],
      "metadata": {
        "id": "EMw4ajWZ3rNy"
      },
      "execution_count": null,
      "outputs": []
    },
    {
      "cell_type": "code",
      "source": [
        "print(train_df['Image'].dtypes)\n",
        "print(train_df['Category'].dtypes)"
      ],
      "metadata": {
        "id": "QO_Xk4eq3uN5"
      },
      "execution_count": null,
      "outputs": []
    },
    {
      "cell_type": "code",
      "source": [
        "print(train_df['Category'].value_counts())"
      ],
      "metadata": {
        "id": "FZNkY_qx3vwg"
      },
      "execution_count": null,
      "outputs": []
    },
    {
      "cell_type": "code",
      "source": [
        "Category = train_df['Category'].value_counts()\n",
        "sns.set(style=\"darkgrid\")\n",
        "sns.barplot(Category.index, Category.values, alpha=.955)\n",
        "plt.title('Frequency Distribution of Category')\n",
        "plt.ylabel('Number of Occurrences', fontsize=12)\n",
        "plt.xlabel('Blood Disease Type', fontsize=12)\n",
        "plt.show()"
      ],
      "metadata": {
        "id": "Rlhqa7593yJ-"
      },
      "execution_count": null,
      "outputs": []
    },
    {
      "cell_type": "code",
      "source": [
        "from os import listdir\n",
        "from os.path import isfile, join\n",
        "import imageio\n",
        "import os\n",
        "path = \"/content/Images/Images\"\n",
        "files = os.listdir(path)\n",
        "\n",
        "for index, file in enumerate(files):\n",
        "    os.rename(os.path.join(path, file), os.path.join(path, ''.join([str(index), '.jpg'])))\n",
        "    \n",
        "image_folder_path = \"/content/Images/Images\"\n",
        "\n",
        "onlyfiles = [f for f in listdir(image_folder_path) if isfile(join(image_folder_path, f))]\n",
        "\n",
        "full_filenames = [join(this_image) for this_image in onlyfiles]\n",
        "full_filenames\n",
        " \n",
        "img = pd.DataFrame (full_filenames, columns = ['img number'])\n",
        "img"
      ],
      "metadata": {
        "id": "-s4kRZJk30je"
      },
      "execution_count": null,
      "outputs": []
    },
    {
      "cell_type": "code",
      "source": [
        "# selecting rows based on condition\n",
        "EOSINOPHIL = train_df.loc[train_df['Category'] ==\"EOSINOPHIL\"]\n",
        "print('\\nResult dataframe :\\n', EOSINOPHIL)"
      ],
      "metadata": {
        "id": "IWL-oNZT4VA_"
      },
      "execution_count": null,
      "outputs": []
    },
    {
      "cell_type": "code",
      "source": [
        "\n",
        "# selecting rows based on condition\n",
        "MONOCYTE = train_df.loc[train_df['Category'] ==\"MONOCYTE\"]\n",
        "  \n",
        "print('\\nResult dataframe :\\n', MONOCYTE)"
      ],
      "metadata": {
        "id": "Atzytsmi4XAl"
      },
      "execution_count": null,
      "outputs": []
    },
    {
      "cell_type": "code",
      "source": [
        "# selecting rows based on condition\n",
        "LYMPHOCYTE = train_df.loc[train_df['Category'] ==\"LYMPHOCYTE\"]\n",
        "print('\\nResult dataframe :\\n', LYMPHOCYTE)"
      ],
      "metadata": {
        "id": "KSGD6vJC4aNF"
      },
      "execution_count": null,
      "outputs": []
    },
    {
      "cell_type": "code",
      "source": [
        "# selecting rows based on condition\n",
        "NEUTROPHIL = train_df.loc[train_df['Category'] ==\"NEUTROPHIL\"]\n",
        "  \n",
        "print('\\nResult dataframe :\\n', NEUTROPHIL)\n",
        "NEUTROPHIL.Image\n",
        "\n",
        "image_folder_path = \"/content/Images/Images\"\n",
        "\n",
        "onlyfiles = [f for f in listdir(image_folder_path) if isfile(join(image_folder_path, f))]\n",
        "\n",
        "full_filenames = [join(this_image) for this_image in onlyfiles]\n",
        "full_filenames"
      ],
      "metadata": {
        "id": "Q3Q6u-l14dIs"
      },
      "execution_count": null,
      "outputs": []
    },
    {
      "cell_type": "code",
      "source": [
        "c = (NEUTROPHIL.Image ==23)\n",
        "c.value_counts()"
      ],
      "metadata": {
        "id": "Jw_dn5Cc4hgs"
      },
      "execution_count": null,
      "outputs": []
    },
    {
      "cell_type": "code",
      "source": [
        "import glob\n",
        "import shutil\n",
        "import os\n",
        "# Create a directory\n",
        "directory = \"NEUTROPHIL\"\n",
        "  \n",
        "# Parent Directory path\n",
        "parent_dir = \"/content/\"\n",
        "  \n",
        "path = os.path.join(parent_dir, directory)\n",
        "  \n",
        "os.mkdir(path)\n",
        "\n",
        "src_dir = \"/content/Images/Images/\"\n",
        "dst_dir = \"/content/NEUTROPHIL/\"\n",
        "for i in listdir(src_dir):\n",
        "  for j in NEUTROPHIL.Image:\n",
        "     if i == str(j)+\".jpg\":\n",
        "          shutil.copy(src_dir+i, dst_dir)"
      ],
      "metadata": {
        "id": "M0E7pa904jLH"
      },
      "execution_count": null,
      "outputs": []
    },
    {
      "cell_type": "code",
      "source": [
        "import glob\n",
        "import shutil\n",
        "import os\n",
        "# Create a directory\n",
        "directory = \"EOSINOPHIL\"\n",
        "  \n",
        "# Parent Directory path\n",
        "parent_dir = \"/content/\"\n",
        "  \n",
        "path = os.path.join(parent_dir, directory)\n",
        "  \n",
        "os.mkdir(path)\n",
        "\n",
        "src_dir = \"/content/Images/Images/\"\n",
        "dst_dir = \"/content/EOSINOPHIL/\"\n",
        "for i in listdir(src_dir):\n",
        "  for j in EOSINOPHIL.Image:\n",
        "     if i == str(j)+\".jpg\":\n",
        "          shutil.copy(src_dir+i, dst_dir)"
      ],
      "metadata": {
        "id": "HOx8Gg414lYb"
      },
      "execution_count": null,
      "outputs": []
    },
    {
      "cell_type": "code",
      "source": [
        "import glob\n",
        "import shutil\n",
        "import os\n",
        "# Create a directory\n",
        "directory = \"MONOCYTE\"\n",
        "  \n",
        "# Parent Directory path\n",
        "parent_dir = \"/content/\"\n",
        "  \n",
        "path = os.path.join(parent_dir, directory)\n",
        "  \n",
        "os.mkdir(path)\n",
        "\n",
        "src_dir = \"/content/Images/Images/\"\n",
        "dst_dir = \"/content/MONOCYTE/\"\n",
        "for i in listdir(src_dir):\n",
        "  for j in MONOCYTE.Image:\n",
        "     if i == str(j)+\".jpg\":\n",
        "          shutil.copy(src_dir+i, dst_dir)"
      ],
      "metadata": {
        "id": "AbGuiFg74orZ"
      },
      "execution_count": null,
      "outputs": []
    },
    {
      "cell_type": "code",
      "source": [
        "# Create a directory\n",
        "directory = \"LYMPHOCYTE\"\n",
        "  \n",
        "# Parent Directory path\n",
        "parent_dir = \"/content/\"\n",
        "  \n",
        "path = os.path.join(parent_dir, directory)\n",
        "  \n",
        "os.mkdir(path)\n",
        "\n",
        "src_dir = \"/content/Images/Images/\"\n",
        "dst_dir = \"/content/LYMPHOCYTE/\"\n",
        "for i in listdir(src_dir):\n",
        "  for j in LYMPHOCYTE.Image:\n",
        "     if i == str(j)+\".jpg\":\n",
        "          shutil.copy(src_dir+i, dst_dir)"
      ],
      "metadata": {
        "id": "ynogsI3y4q3N"
      },
      "execution_count": null,
      "outputs": []
    },
    {
      "cell_type": "code",
      "source": [
        "# Create a directory\n",
        "directory = \"test_data_used\"\n",
        "  \n",
        "# Parent Directory path\n",
        "parent_dir = \"/content/\"\n",
        "  \n",
        "path = os.path.join(parent_dir, directory)\n",
        "  \n",
        "os.mkdir(path)\n",
        "\n",
        "src_dir = \"/content/Images/Images/\"\n",
        "dst_dir = \"/content/test_data_used/\"\n",
        "for i in listdir(src_dir):\n",
        "  for t in test_df.Image:\n",
        "     if i == str(t)+\".jpg\":\n",
        "          shutil.copy(src_dir+i, dst_dir)"
      ],
      "metadata": {
        "id": "fz4ff01P4vbf"
      },
      "execution_count": null,
      "outputs": []
    },
    {
      "cell_type": "code",
      "source": [
        "import pandas as pd\n",
        "import os\n",
        "from skimage.transform import resize\n",
        "from skimage.io import imread\n",
        "import numpy as np\n",
        "import matplotlib.pyplot as plt\n",
        "Categories=['NEUTROPHIL','EOSINOPHIL','MONOCYTE','LYMPHOCYTE']\n",
        "flat_data_arr=[] #input array\n",
        "target_arr=[] #output array\n",
        "datadir='/content/' \n",
        "#path which contains all the categories of images\n",
        "for i in Categories:\n",
        "    \n",
        "    print(f'loading... category : {i}')\n",
        "    path=os.path.join(datadir,i)\n",
        "    for img in os.listdir(path):\n",
        "        img_array=imread(os.path.join(path,img))\n",
        "        img_resized=resize(img_array,(150,150,3))\n",
        "        flat_data_arr.append(img_resized.flatten())\n",
        "        target_arr.append(Categories.index(i))\n",
        "    print(f'loaded category:{i} successfully')\n",
        "flat_data=np.array(flat_data_arr)\n",
        "target=np.array(target_arr)\n",
        "df=pd.DataFrame(flat_data) #dataframe\n",
        "df['Target']=target\n",
        "x=df.iloc[:,:-1] #input data \n",
        "y=df.iloc[:,-1] #output data"
      ],
      "metadata": {
        "id": "kOUiw4LO4xgg"
      },
      "execution_count": null,
      "outputs": []
    },
    {
      "cell_type": "code",
      "source": [
        "x"
      ],
      "metadata": {
        "id": "gBUD5kkG42el"
      },
      "execution_count": null,
      "outputs": []
    },
    {
      "cell_type": "code",
      "source": [
        "y.value_counts()"
      ],
      "metadata": {
        "id": "CnHUXunI48ha"
      },
      "execution_count": null,
      "outputs": []
    },
    {
      "cell_type": "code",
      "source": [
        "from sklearn.model_selection import train_test_split\n",
        "x_train,x_test,y_train,y_test=train_test_split(x,y,test_size=0.20,random_state=77,stratify=y)\n",
        "x_train.shape,x_test.shape\n"
      ],
      "metadata": {
        "id": "zfRTNX3e5HVZ"
      },
      "execution_count": null,
      "outputs": []
    },
    {
      "cell_type": "code",
      "source": [
        "# Normalization\n",
        "x_train = x_train/255.0\n",
        "x_test = x_test/255.0"
      ],
      "metadata": {
        "id": "Jr5CuQbd5jFI"
      },
      "execution_count": null,
      "outputs": []
    },
    {
      "cell_type": "code",
      "source": [
        "from sklearn.ensemble import RandomForestClassifier\n",
        "model=RandomForestClassifier()\n",
        "model.fit(x_train,y_train)"
      ],
      "metadata": {
        "id": "mwm-25AG5C6b"
      },
      "execution_count": null,
      "outputs": []
    },
    {
      "cell_type": "code",
      "source": [
        "y_pred=model.predict(x_test)\n",
        "y_pred"
      ],
      "metadata": {
        "id": "S2goGuUY5zTn"
      },
      "execution_count": null,
      "outputs": []
    },
    {
      "cell_type": "code",
      "source": [
        "from sklearn.metrics import accuracy_score,confusion_matrix,classification_report\n",
        "\n",
        "accuracy_score(y_pred,y_test)\n",
        "print(classification_report(y_pred,y_test))"
      ],
      "metadata": {
        "id": "8t5XmnWs55-f"
      },
      "execution_count": null,
      "outputs": []
    },
    {
      "cell_type": "code",
      "source": [
        "from sklearn.neighbors import KNeighborsClassifier\n",
        "knn=KNeighborsClassifier(n_neighbors=4)\n"
      ],
      "metadata": {
        "id": "yEMb0hvg6JmC"
      },
      "execution_count": null,
      "outputs": []
    },
    {
      "cell_type": "code",
      "source": [
        "knn.fit(x_train,y_train)\n"
      ],
      "metadata": {
        "id": "MYzOMeyX6OpB"
      },
      "execution_count": null,
      "outputs": []
    },
    {
      "cell_type": "code",
      "source": [
        "y_pred_knn=knn.predict(x_test)\n",
        "y_pred_knn"
      ],
      "metadata": {
        "id": "y-l-hFiG6TAh"
      },
      "execution_count": null,
      "outputs": []
    },
    {
      "cell_type": "code",
      "source": [
        "accuracy_score(y_pred_knn,y_test)\n",
        "print(classification_report(y_pred_knn,y_test))"
      ],
      "metadata": {
        "id": "UiwBI9Nt6YEw"
      },
      "execution_count": null,
      "outputs": []
    },
    {
      "cell_type": "markdown",
      "source": [
        "[.](https://www.analyticsvidhya.com/blog/2022/01/image-classification-using-machine-learning/)"
      ],
      "metadata": {
        "id": "Hg3EfBiL6gFK"
      }
    },
    {
      "cell_type": "markdown",
      "source": [
        "# 1. [Extract Features from image](https://www.analyticsvidhya.com/blog/2019/08/3-techniques-extract-features-from-image-data-machine-learning-python/)\n",
        "# 2. [Extract Features from image](https://www.pluralsight.com/guides/building-features-from-image-data-in-python)"
      ],
      "metadata": {
        "id": "UJ1Lscxa73EV"
      }
    }
  ]
}